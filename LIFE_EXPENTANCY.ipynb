{
  "cells": [
    {
      "cell_type": "markdown",
      "metadata": {
        "id": "view-in-github",
        "colab_type": "text"
      },
      "source": [
        "<a href=\"https://colab.research.google.com/github/quaaaaaet/LIFE_EXPENTANCY/blob/main/LIFE_EXPENTANCY.ipynb\" target=\"_parent\"><img src=\"https://colab.research.google.com/assets/colab-badge.svg\" alt=\"Open In Colab\"/></a>"
      ]
    },
    {
      "cell_type": "code",
      "execution_count": 1,
      "metadata": {
        "colab": {
          "base_uri": "https://localhost:8080/"
        },
        "id": "ALFQW3XzJeC1",
        "outputId": "9257fd2d-c29f-48e4-facc-cd029b727b1a"
      },
      "outputs": [
        {
          "output_type": "stream",
          "name": "stdout",
          "text": [
            "Drive already mounted at /content/drive; to attempt to forcibly remount, call drive.mount(\"/content/drive\", force_remount=True).\n"
          ]
        }
      ],
      "source": [
        "from google.colab import drive\n",
        "drive.mount('/content/drive')"
      ]
    },
    {
      "cell_type": "code",
      "execution_count": 2,
      "metadata": {
        "colab": {
          "base_uri": "https://localhost:8080/"
        },
        "id": "vJJBO1jfJffy",
        "outputId": "cfbb58ea-f456-4724-8ea7-33500bd86da8"
      },
      "outputs": [
        {
          "output_type": "stream",
          "name": "stdout",
          "text": [
            "Looking in indexes: https://pypi.org/simple, https://us-python.pkg.dev/colab-wheels/public/simple/\n",
            "Collecting bayesian-optimization\n",
            "  Downloading bayesian_optimization-1.4.2-py3-none-any.whl (17 kB)\n",
            "Requirement already satisfied: scipy>=1.0.0 in /usr/local/lib/python3.8/dist-packages (from bayesian-optimization) (1.10.1)\n",
            "Requirement already satisfied: scikit-learn>=0.18.0 in /usr/local/lib/python3.8/dist-packages (from bayesian-optimization) (1.2.1)\n",
            "Requirement already satisfied: numpy>=1.9.0 in /usr/local/lib/python3.8/dist-packages (from bayesian-optimization) (1.22.4)\n",
            "Collecting colorama>=0.4.6\n",
            "  Downloading colorama-0.4.6-py2.py3-none-any.whl (25 kB)\n",
            "Requirement already satisfied: joblib>=1.1.1 in /usr/local/lib/python3.8/dist-packages (from scikit-learn>=0.18.0->bayesian-optimization) (1.2.0)\n",
            "Requirement already satisfied: threadpoolctl>=2.0.0 in /usr/local/lib/python3.8/dist-packages (from scikit-learn>=0.18.0->bayesian-optimization) (3.1.0)\n",
            "Installing collected packages: colorama, bayesian-optimization\n",
            "Successfully installed bayesian-optimization-1.4.2 colorama-0.4.6\n"
          ]
        }
      ],
      "source": [
        "import pandas as pd\n",
        "import numpy as np\n",
        "# 시각화 관련\n",
        "import matplotlib.pyplot as plt\n",
        "import seaborn as sns\n",
        "# score 관련,r2는 결정계수\n",
        "from sklearn.metrics import r2_score\n",
        "from sklearn.metrics import mean_squared_error \n",
        "# 모델링 관련\n",
        "from sklearn.model_selection import KFold, cross_val_score, train_test_split\n",
        "from sklearn.linear_model import LinearRegression\n",
        "import lightgbm as lgb\n",
        "import xgboost as xgb   \n",
        "from sklearn.ensemble import RandomForestRegressor, GradientBoostingRegressor       \n",
        "!pip install bayesian-optimization\n",
        "from bayes_opt import BayesianOptimization "
      ]
    },
    {
      "cell_type": "code",
      "execution_count": 3,
      "metadata": {
        "id": "43sCG4a-J2mq"
      },
      "outputs": [],
      "source": [
        "life = pd.read_csv('/content/drive/Shareddrives/멘토멘티/Life_Expectancy_Data.csv', encoding='utf-8')"
      ]
    },
    {
      "cell_type": "code",
      "execution_count": 4,
      "metadata": {
        "colab": {
          "base_uri": "https://localhost:8080/",
          "height": 539
        },
        "id": "H_GFmEOxKiYO",
        "outputId": "0b826181-b058-4c6a-cb91-b32ab6c6129e"
      },
      "outputs": [
        {
          "output_type": "execute_result",
          "data": {
            "text/plain": [
              "          Country  Year      Status  Life expectancy   Adult Mortality  \\\n",
              "0     Afghanistan  2015  Developing              65.0            263.0   \n",
              "1     Afghanistan  2014  Developing              59.9            271.0   \n",
              "2     Afghanistan  2013  Developing              59.9            268.0   \n",
              "3     Afghanistan  2012  Developing              59.5            272.0   \n",
              "4     Afghanistan  2011  Developing              59.2            275.0   \n",
              "...           ...   ...         ...               ...              ...   \n",
              "2933     Zimbabwe  2004  Developing              44.3            723.0   \n",
              "2934     Zimbabwe  2003  Developing              44.5            715.0   \n",
              "2935     Zimbabwe  2002  Developing              44.8             73.0   \n",
              "2936     Zimbabwe  2001  Developing              45.3            686.0   \n",
              "2937     Zimbabwe  2000  Developing              46.0            665.0   \n",
              "\n",
              "      infant deaths  Alcohol  percentage expenditure  Hepatitis B  Measles   \\\n",
              "0                62     0.01               71.279624         65.0      1154   \n",
              "1                64     0.01               73.523582         62.0       492   \n",
              "2                66     0.01               73.219243         64.0       430   \n",
              "3                69     0.01               78.184215         67.0      2787   \n",
              "4                71     0.01                7.097109         68.0      3013   \n",
              "...             ...      ...                     ...          ...       ...   \n",
              "2933             27     4.36                0.000000         68.0        31   \n",
              "2934             26     4.06                0.000000          7.0       998   \n",
              "2935             25     4.43                0.000000         73.0       304   \n",
              "2936             25     1.72                0.000000         76.0       529   \n",
              "2937             24     1.68                0.000000         79.0      1483   \n",
              "\n",
              "      ...  Polio  Total expenditure  Diphtheria    HIV/AIDS         GDP  \\\n",
              "0     ...    6.0               8.16         65.0        0.1  584.259210   \n",
              "1     ...   58.0               8.18         62.0        0.1  612.696514   \n",
              "2     ...   62.0               8.13         64.0        0.1  631.744976   \n",
              "3     ...   67.0               8.52         67.0        0.1  669.959000   \n",
              "4     ...   68.0               7.87         68.0        0.1   63.537231   \n",
              "...   ...    ...                ...          ...        ...         ...   \n",
              "2933  ...   67.0               7.13         65.0       33.6  454.366654   \n",
              "2934  ...    7.0               6.52         68.0       36.7  453.351155   \n",
              "2935  ...   73.0               6.53         71.0       39.8   57.348340   \n",
              "2936  ...   76.0               6.16         75.0       42.1  548.587312   \n",
              "2937  ...   78.0               7.10         78.0       43.5  547.358878   \n",
              "\n",
              "      Population   thinness  1-19 years   thinness 5-9 years  \\\n",
              "0     33736494.0                   17.2                 17.3   \n",
              "1       327582.0                   17.5                 17.5   \n",
              "2     31731688.0                   17.7                 17.7   \n",
              "3      3696958.0                   17.9                 18.0   \n",
              "4      2978599.0                   18.2                 18.2   \n",
              "...          ...                    ...                  ...   \n",
              "2933  12777511.0                    9.4                  9.4   \n",
              "2934  12633897.0                    9.8                  9.9   \n",
              "2935    125525.0                    1.2                  1.3   \n",
              "2936  12366165.0                    1.6                  1.7   \n",
              "2937  12222251.0                   11.0                 11.2   \n",
              "\n",
              "      Income composition of resources  Schooling  \n",
              "0                               0.479       10.1  \n",
              "1                               0.476       10.0  \n",
              "2                               0.470        9.9  \n",
              "3                               0.463        9.8  \n",
              "4                               0.454        9.5  \n",
              "...                               ...        ...  \n",
              "2933                            0.407        9.2  \n",
              "2934                            0.418        9.5  \n",
              "2935                            0.427       10.0  \n",
              "2936                            0.427        9.8  \n",
              "2937                            0.434        9.8  \n",
              "\n",
              "[2938 rows x 22 columns]"
            ],
            "text/html": [
              "\n",
              "  <div id=\"df-2f8a33ca-dd36-4c10-bce4-167ffb259129\">\n",
              "    <div class=\"colab-df-container\">\n",
              "      <div>\n",
              "<style scoped>\n",
              "    .dataframe tbody tr th:only-of-type {\n",
              "        vertical-align: middle;\n",
              "    }\n",
              "\n",
              "    .dataframe tbody tr th {\n",
              "        vertical-align: top;\n",
              "    }\n",
              "\n",
              "    .dataframe thead th {\n",
              "        text-align: right;\n",
              "    }\n",
              "</style>\n",
              "<table border=\"1\" class=\"dataframe\">\n",
              "  <thead>\n",
              "    <tr style=\"text-align: right;\">\n",
              "      <th></th>\n",
              "      <th>Country</th>\n",
              "      <th>Year</th>\n",
              "      <th>Status</th>\n",
              "      <th>Life expectancy</th>\n",
              "      <th>Adult Mortality</th>\n",
              "      <th>infant deaths</th>\n",
              "      <th>Alcohol</th>\n",
              "      <th>percentage expenditure</th>\n",
              "      <th>Hepatitis B</th>\n",
              "      <th>Measles</th>\n",
              "      <th>...</th>\n",
              "      <th>Polio</th>\n",
              "      <th>Total expenditure</th>\n",
              "      <th>Diphtheria</th>\n",
              "      <th>HIV/AIDS</th>\n",
              "      <th>GDP</th>\n",
              "      <th>Population</th>\n",
              "      <th>thinness  1-19 years</th>\n",
              "      <th>thinness 5-9 years</th>\n",
              "      <th>Income composition of resources</th>\n",
              "      <th>Schooling</th>\n",
              "    </tr>\n",
              "  </thead>\n",
              "  <tbody>\n",
              "    <tr>\n",
              "      <th>0</th>\n",
              "      <td>Afghanistan</td>\n",
              "      <td>2015</td>\n",
              "      <td>Developing</td>\n",
              "      <td>65.0</td>\n",
              "      <td>263.0</td>\n",
              "      <td>62</td>\n",
              "      <td>0.01</td>\n",
              "      <td>71.279624</td>\n",
              "      <td>65.0</td>\n",
              "      <td>1154</td>\n",
              "      <td>...</td>\n",
              "      <td>6.0</td>\n",
              "      <td>8.16</td>\n",
              "      <td>65.0</td>\n",
              "      <td>0.1</td>\n",
              "      <td>584.259210</td>\n",
              "      <td>33736494.0</td>\n",
              "      <td>17.2</td>\n",
              "      <td>17.3</td>\n",
              "      <td>0.479</td>\n",
              "      <td>10.1</td>\n",
              "    </tr>\n",
              "    <tr>\n",
              "      <th>1</th>\n",
              "      <td>Afghanistan</td>\n",
              "      <td>2014</td>\n",
              "      <td>Developing</td>\n",
              "      <td>59.9</td>\n",
              "      <td>271.0</td>\n",
              "      <td>64</td>\n",
              "      <td>0.01</td>\n",
              "      <td>73.523582</td>\n",
              "      <td>62.0</td>\n",
              "      <td>492</td>\n",
              "      <td>...</td>\n",
              "      <td>58.0</td>\n",
              "      <td>8.18</td>\n",
              "      <td>62.0</td>\n",
              "      <td>0.1</td>\n",
              "      <td>612.696514</td>\n",
              "      <td>327582.0</td>\n",
              "      <td>17.5</td>\n",
              "      <td>17.5</td>\n",
              "      <td>0.476</td>\n",
              "      <td>10.0</td>\n",
              "    </tr>\n",
              "    <tr>\n",
              "      <th>2</th>\n",
              "      <td>Afghanistan</td>\n",
              "      <td>2013</td>\n",
              "      <td>Developing</td>\n",
              "      <td>59.9</td>\n",
              "      <td>268.0</td>\n",
              "      <td>66</td>\n",
              "      <td>0.01</td>\n",
              "      <td>73.219243</td>\n",
              "      <td>64.0</td>\n",
              "      <td>430</td>\n",
              "      <td>...</td>\n",
              "      <td>62.0</td>\n",
              "      <td>8.13</td>\n",
              "      <td>64.0</td>\n",
              "      <td>0.1</td>\n",
              "      <td>631.744976</td>\n",
              "      <td>31731688.0</td>\n",
              "      <td>17.7</td>\n",
              "      <td>17.7</td>\n",
              "      <td>0.470</td>\n",
              "      <td>9.9</td>\n",
              "    </tr>\n",
              "    <tr>\n",
              "      <th>3</th>\n",
              "      <td>Afghanistan</td>\n",
              "      <td>2012</td>\n",
              "      <td>Developing</td>\n",
              "      <td>59.5</td>\n",
              "      <td>272.0</td>\n",
              "      <td>69</td>\n",
              "      <td>0.01</td>\n",
              "      <td>78.184215</td>\n",
              "      <td>67.0</td>\n",
              "      <td>2787</td>\n",
              "      <td>...</td>\n",
              "      <td>67.0</td>\n",
              "      <td>8.52</td>\n",
              "      <td>67.0</td>\n",
              "      <td>0.1</td>\n",
              "      <td>669.959000</td>\n",
              "      <td>3696958.0</td>\n",
              "      <td>17.9</td>\n",
              "      <td>18.0</td>\n",
              "      <td>0.463</td>\n",
              "      <td>9.8</td>\n",
              "    </tr>\n",
              "    <tr>\n",
              "      <th>4</th>\n",
              "      <td>Afghanistan</td>\n",
              "      <td>2011</td>\n",
              "      <td>Developing</td>\n",
              "      <td>59.2</td>\n",
              "      <td>275.0</td>\n",
              "      <td>71</td>\n",
              "      <td>0.01</td>\n",
              "      <td>7.097109</td>\n",
              "      <td>68.0</td>\n",
              "      <td>3013</td>\n",
              "      <td>...</td>\n",
              "      <td>68.0</td>\n",
              "      <td>7.87</td>\n",
              "      <td>68.0</td>\n",
              "      <td>0.1</td>\n",
              "      <td>63.537231</td>\n",
              "      <td>2978599.0</td>\n",
              "      <td>18.2</td>\n",
              "      <td>18.2</td>\n",
              "      <td>0.454</td>\n",
              "      <td>9.5</td>\n",
              "    </tr>\n",
              "    <tr>\n",
              "      <th>...</th>\n",
              "      <td>...</td>\n",
              "      <td>...</td>\n",
              "      <td>...</td>\n",
              "      <td>...</td>\n",
              "      <td>...</td>\n",
              "      <td>...</td>\n",
              "      <td>...</td>\n",
              "      <td>...</td>\n",
              "      <td>...</td>\n",
              "      <td>...</td>\n",
              "      <td>...</td>\n",
              "      <td>...</td>\n",
              "      <td>...</td>\n",
              "      <td>...</td>\n",
              "      <td>...</td>\n",
              "      <td>...</td>\n",
              "      <td>...</td>\n",
              "      <td>...</td>\n",
              "      <td>...</td>\n",
              "      <td>...</td>\n",
              "      <td>...</td>\n",
              "    </tr>\n",
              "    <tr>\n",
              "      <th>2933</th>\n",
              "      <td>Zimbabwe</td>\n",
              "      <td>2004</td>\n",
              "      <td>Developing</td>\n",
              "      <td>44.3</td>\n",
              "      <td>723.0</td>\n",
              "      <td>27</td>\n",
              "      <td>4.36</td>\n",
              "      <td>0.000000</td>\n",
              "      <td>68.0</td>\n",
              "      <td>31</td>\n",
              "      <td>...</td>\n",
              "      <td>67.0</td>\n",
              "      <td>7.13</td>\n",
              "      <td>65.0</td>\n",
              "      <td>33.6</td>\n",
              "      <td>454.366654</td>\n",
              "      <td>12777511.0</td>\n",
              "      <td>9.4</td>\n",
              "      <td>9.4</td>\n",
              "      <td>0.407</td>\n",
              "      <td>9.2</td>\n",
              "    </tr>\n",
              "    <tr>\n",
              "      <th>2934</th>\n",
              "      <td>Zimbabwe</td>\n",
              "      <td>2003</td>\n",
              "      <td>Developing</td>\n",
              "      <td>44.5</td>\n",
              "      <td>715.0</td>\n",
              "      <td>26</td>\n",
              "      <td>4.06</td>\n",
              "      <td>0.000000</td>\n",
              "      <td>7.0</td>\n",
              "      <td>998</td>\n",
              "      <td>...</td>\n",
              "      <td>7.0</td>\n",
              "      <td>6.52</td>\n",
              "      <td>68.0</td>\n",
              "      <td>36.7</td>\n",
              "      <td>453.351155</td>\n",
              "      <td>12633897.0</td>\n",
              "      <td>9.8</td>\n",
              "      <td>9.9</td>\n",
              "      <td>0.418</td>\n",
              "      <td>9.5</td>\n",
              "    </tr>\n",
              "    <tr>\n",
              "      <th>2935</th>\n",
              "      <td>Zimbabwe</td>\n",
              "      <td>2002</td>\n",
              "      <td>Developing</td>\n",
              "      <td>44.8</td>\n",
              "      <td>73.0</td>\n",
              "      <td>25</td>\n",
              "      <td>4.43</td>\n",
              "      <td>0.000000</td>\n",
              "      <td>73.0</td>\n",
              "      <td>304</td>\n",
              "      <td>...</td>\n",
              "      <td>73.0</td>\n",
              "      <td>6.53</td>\n",
              "      <td>71.0</td>\n",
              "      <td>39.8</td>\n",
              "      <td>57.348340</td>\n",
              "      <td>125525.0</td>\n",
              "      <td>1.2</td>\n",
              "      <td>1.3</td>\n",
              "      <td>0.427</td>\n",
              "      <td>10.0</td>\n",
              "    </tr>\n",
              "    <tr>\n",
              "      <th>2936</th>\n",
              "      <td>Zimbabwe</td>\n",
              "      <td>2001</td>\n",
              "      <td>Developing</td>\n",
              "      <td>45.3</td>\n",
              "      <td>686.0</td>\n",
              "      <td>25</td>\n",
              "      <td>1.72</td>\n",
              "      <td>0.000000</td>\n",
              "      <td>76.0</td>\n",
              "      <td>529</td>\n",
              "      <td>...</td>\n",
              "      <td>76.0</td>\n",
              "      <td>6.16</td>\n",
              "      <td>75.0</td>\n",
              "      <td>42.1</td>\n",
              "      <td>548.587312</td>\n",
              "      <td>12366165.0</td>\n",
              "      <td>1.6</td>\n",
              "      <td>1.7</td>\n",
              "      <td>0.427</td>\n",
              "      <td>9.8</td>\n",
              "    </tr>\n",
              "    <tr>\n",
              "      <th>2937</th>\n",
              "      <td>Zimbabwe</td>\n",
              "      <td>2000</td>\n",
              "      <td>Developing</td>\n",
              "      <td>46.0</td>\n",
              "      <td>665.0</td>\n",
              "      <td>24</td>\n",
              "      <td>1.68</td>\n",
              "      <td>0.000000</td>\n",
              "      <td>79.0</td>\n",
              "      <td>1483</td>\n",
              "      <td>...</td>\n",
              "      <td>78.0</td>\n",
              "      <td>7.10</td>\n",
              "      <td>78.0</td>\n",
              "      <td>43.5</td>\n",
              "      <td>547.358878</td>\n",
              "      <td>12222251.0</td>\n",
              "      <td>11.0</td>\n",
              "      <td>11.2</td>\n",
              "      <td>0.434</td>\n",
              "      <td>9.8</td>\n",
              "    </tr>\n",
              "  </tbody>\n",
              "</table>\n",
              "<p>2938 rows × 22 columns</p>\n",
              "</div>\n",
              "      <button class=\"colab-df-convert\" onclick=\"convertToInteractive('df-2f8a33ca-dd36-4c10-bce4-167ffb259129')\"\n",
              "              title=\"Convert this dataframe to an interactive table.\"\n",
              "              style=\"display:none;\">\n",
              "        \n",
              "  <svg xmlns=\"http://www.w3.org/2000/svg\" height=\"24px\"viewBox=\"0 0 24 24\"\n",
              "       width=\"24px\">\n",
              "    <path d=\"M0 0h24v24H0V0z\" fill=\"none\"/>\n",
              "    <path d=\"M18.56 5.44l.94 2.06.94-2.06 2.06-.94-2.06-.94-.94-2.06-.94 2.06-2.06.94zm-11 1L8.5 8.5l.94-2.06 2.06-.94-2.06-.94L8.5 2.5l-.94 2.06-2.06.94zm10 10l.94 2.06.94-2.06 2.06-.94-2.06-.94-.94-2.06-.94 2.06-2.06.94z\"/><path d=\"M17.41 7.96l-1.37-1.37c-.4-.4-.92-.59-1.43-.59-.52 0-1.04.2-1.43.59L10.3 9.45l-7.72 7.72c-.78.78-.78 2.05 0 2.83L4 21.41c.39.39.9.59 1.41.59.51 0 1.02-.2 1.41-.59l7.78-7.78 2.81-2.81c.8-.78.8-2.07 0-2.86zM5.41 20L4 18.59l7.72-7.72 1.47 1.35L5.41 20z\"/>\n",
              "  </svg>\n",
              "      </button>\n",
              "      \n",
              "  <style>\n",
              "    .colab-df-container {\n",
              "      display:flex;\n",
              "      flex-wrap:wrap;\n",
              "      gap: 12px;\n",
              "    }\n",
              "\n",
              "    .colab-df-convert {\n",
              "      background-color: #E8F0FE;\n",
              "      border: none;\n",
              "      border-radius: 50%;\n",
              "      cursor: pointer;\n",
              "      display: none;\n",
              "      fill: #1967D2;\n",
              "      height: 32px;\n",
              "      padding: 0 0 0 0;\n",
              "      width: 32px;\n",
              "    }\n",
              "\n",
              "    .colab-df-convert:hover {\n",
              "      background-color: #E2EBFA;\n",
              "      box-shadow: 0px 1px 2px rgba(60, 64, 67, 0.3), 0px 1px 3px 1px rgba(60, 64, 67, 0.15);\n",
              "      fill: #174EA6;\n",
              "    }\n",
              "\n",
              "    [theme=dark] .colab-df-convert {\n",
              "      background-color: #3B4455;\n",
              "      fill: #D2E3FC;\n",
              "    }\n",
              "\n",
              "    [theme=dark] .colab-df-convert:hover {\n",
              "      background-color: #434B5C;\n",
              "      box-shadow: 0px 1px 3px 1px rgba(0, 0, 0, 0.15);\n",
              "      filter: drop-shadow(0px 1px 2px rgba(0, 0, 0, 0.3));\n",
              "      fill: #FFFFFF;\n",
              "    }\n",
              "  </style>\n",
              "\n",
              "      <script>\n",
              "        const buttonEl =\n",
              "          document.querySelector('#df-2f8a33ca-dd36-4c10-bce4-167ffb259129 button.colab-df-convert');\n",
              "        buttonEl.style.display =\n",
              "          google.colab.kernel.accessAllowed ? 'block' : 'none';\n",
              "\n",
              "        async function convertToInteractive(key) {\n",
              "          const element = document.querySelector('#df-2f8a33ca-dd36-4c10-bce4-167ffb259129');\n",
              "          const dataTable =\n",
              "            await google.colab.kernel.invokeFunction('convertToInteractive',\n",
              "                                                     [key], {});\n",
              "          if (!dataTable) return;\n",
              "\n",
              "          const docLinkHtml = 'Like what you see? Visit the ' +\n",
              "            '<a target=\"_blank\" href=https://colab.research.google.com/notebooks/data_table.ipynb>data table notebook</a>'\n",
              "            + ' to learn more about interactive tables.';\n",
              "          element.innerHTML = '';\n",
              "          dataTable['output_type'] = 'display_data';\n",
              "          await google.colab.output.renderOutput(dataTable, element);\n",
              "          const docLink = document.createElement('div');\n",
              "          docLink.innerHTML = docLinkHtml;\n",
              "          element.appendChild(docLink);\n",
              "        }\n",
              "      </script>\n",
              "    </div>\n",
              "  </div>\n",
              "  "
            ]
          },
          "metadata": {},
          "execution_count": 4
        }
      ],
      "source": [
        "life"
      ]
    },
    {
      "cell_type": "code",
      "execution_count": 5,
      "metadata": {
        "colab": {
          "base_uri": "https://localhost:8080/"
        },
        "id": "lx5R6fa8Kkfc",
        "outputId": "adeca535-7f3d-47de-a10f-9b6b94e8c160"
      },
      "outputs": [
        {
          "output_type": "execute_result",
          "data": {
            "text/plain": [
              "0       65.0\n",
              "1       59.9\n",
              "2       59.9\n",
              "3       59.5\n",
              "4       59.2\n",
              "        ... \n",
              "2933    44.3\n",
              "2934    44.5\n",
              "2935    44.8\n",
              "2936    45.3\n",
              "2937    46.0\n",
              "Name: Life expectancy , Length: 2938, dtype: float64"
            ]
          },
          "metadata": {},
          "execution_count": 5
        }
      ],
      "source": [
        "life['Life expectancy '] #수치형데이터인지 확인"
      ]
    },
    {
      "cell_type": "markdown",
      "metadata": {
        "id": "ADQwgrKqL7l0"
      },
      "source": [
        "#상관계수"
      ]
    },
    {
      "cell_type": "code",
      "execution_count": 6,
      "metadata": {
        "colab": {
          "base_uri": "https://localhost:8080/",
          "height": 442
        },
        "id": "fxIH4HqHLLwj",
        "outputId": "c289db30-03d4-4d30-d4b1-45219935e7ec"
      },
      "outputs": [
        {
          "output_type": "execute_result",
          "data": {
            "text/plain": [
              "<AxesSubplot:>"
            ]
          },
          "metadata": {},
          "execution_count": 6
        },
        {
          "output_type": "display_data",
          "data": {
            "text/plain": [
              "<Figure size 432x288 with 2 Axes>"
            ],
            "image/png": "[encoded data removed]"
          },
          "metadata": {
            "needs_background": "light"
          }
        }
      ],
      "source": [
        "sns.heatmap(life.corr(), annot = True) #히트맵 특징공간 상관계수"
      ]
    },
    {
      "cell_type": "code",
      "execution_count": 7,
      "metadata": {
        "id": "Yj81ZNwrL9V-"
      },
      "outputs": [],
      "source": [
        "life_pre=pd.read_csv('/content/drive/Shareddrives/멘토멘티/Life_Expectancy_Data_prepro.csv', encoding='utf-8')"
      ]
    },
    {
      "cell_type": "code",
      "execution_count": 8,
      "metadata": {
        "colab": {
          "base_uri": "https://localhost:8080/",
          "height": 369
        },
        "id": "00CqENJ0Oaa_",
        "outputId": "a35ac5cc-b013-470c-b0e1-b4571938c76f"
      },
      "outputs": [
        {
          "output_type": "execute_result",
          "data": {
            "text/plain": [
              "<AxesSubplot:>"
            ]
          },
          "metadata": {},
          "execution_count": 8
        },
        {
          "output_type": "display_data",
          "data": {
            "text/plain": [
              "<Figure size 432x288 with 2 Axes>"
            ],
            "image/png": "[encoded data removed]"
          },
          "metadata": {
            "needs_background": "light"
          }
        }
      ],
      "source": [
        "sns.heatmap(life_pre.corr(), annot = True) #히트맵 특징공간 상관계수, 필요없는 데이터 없앤 뒤"
      ]
    },
    {
      "cell_type": "markdown",
      "metadata": {
        "id": "z11n5ewVG8uX"
      },
      "source": [
        "#기대수명 왜도 첨도"
      ]
    },
    {
      "cell_type": "code",
      "execution_count": 9,
      "metadata": {
        "colab": {
          "base_uri": "https://localhost:8080/",
          "height": 467
        },
        "id": "QpBaNn6WDOkZ",
        "outputId": "c2eb9983-5c62-46f9-8ba0-b53335edb9f2"
      },
      "outputs": [
        {
          "output_type": "stream",
          "name": "stderr",
          "text": [
            "/usr/local/lib/python3.8/dist-packages/seaborn/distributions.py:2619: FutureWarning: `distplot` is a deprecated function and will be removed in a future version. Please adapt your code to use either `displot` (a figure-level function with similar flexibility) or `histplot` (an axes-level function for histograms).\n",
            "  warnings.warn(msg, FutureWarning)\n"
          ]
        },
        {
          "output_type": "stream",
          "name": "stdout",
          "text": [
            "기대수명 -> Skewness: -0.638605, Kurtosis: -0.234477\n"
          ]
        },
        {
          "output_type": "display_data",
          "data": {
            "text/plain": [
              "<Figure size 576x432 with 1 Axes>"
            ],
            "image/png": "[encoded data removed]"
          },
          "metadata": {
            "needs_background": "light"
          }
        }
      ],
      "source": [
        "f, ax = plt.subplots(figsize = (8,6))\n",
        "sns.distplot(life_pre['Life expectancy '])\n",
        "print(\"%s -> Skewness: %f, Kurtosis: %f\" %  ('기대수명',life_pre['Life expectancy '].skew(), life_pre['Life expectancy '].kurt()))"
      ]
    },
    {
      "cell_type": "markdown",
      "metadata": {
        "id": "BbyN_tGFG_qW"
      },
      "source": [
        "#알코올 왜도 첨도"
      ]
    },
    {
      "cell_type": "code",
      "execution_count": 10,
      "metadata": {
        "colab": {
          "base_uri": "https://localhost:8080/",
          "height": 463
        },
        "id": "zKIGohKuGOjp",
        "outputId": "c04bc18f-e796-435e-e83c-446731de09a4"
      },
      "outputs": [
        {
          "output_type": "stream",
          "name": "stderr",
          "text": [
            "/usr/local/lib/python3.8/dist-packages/seaborn/distributions.py:2619: FutureWarning: `distplot` is a deprecated function and will be removed in a future version. Please adapt your code to use either `displot` (a figure-level function with similar flexibility) or `histplot` (an axes-level function for histograms).\n",
            "  warnings.warn(msg, FutureWarning)\n"
          ]
        },
        {
          "output_type": "stream",
          "name": "stdout",
          "text": [
            "알코올 -> Skewness: 0.589563, Kurtosis: -0.802909\n"
          ]
        },
        {
          "output_type": "display_data",
          "data": {
            "text/plain": [
              "<Figure size 576x432 with 1 Axes>"
            ],
            "image/png": "[encoded data removed]"
          },
          "metadata": {
            "needs_background": "light"
          }
        }
      ],
      "source": [
        "f, ax = plt.subplots(figsize = (8,6))\n",
        "sns.distplot(life_pre['Alcohol'])\n",
        "print(\"%s -> Skewness: %f, Kurtosis: %f\" %  ('알코올',life_pre['Alcohol'].skew(), life_pre['Alcohol'].kurt()))"
      ]
    },
    {
      "cell_type": "markdown",
      "metadata": {
        "id": "STLJy30AH2iR"
      },
      "source": [
        "#bmi 왜도 첨도"
      ]
    },
    {
      "cell_type": "code",
      "execution_count": 11,
      "metadata": {
        "colab": {
          "base_uri": "https://localhost:8080/",
          "height": 463
        },
        "id": "oWDnxksnHcdS",
        "outputId": "458008e6-12bb-48ef-8418-d8f1f8ae2d93"
      },
      "outputs": [
        {
          "output_type": "stream",
          "name": "stderr",
          "text": [
            "/usr/local/lib/python3.8/dist-packages/seaborn/distributions.py:2619: FutureWarning: `distplot` is a deprecated function and will be removed in a future version. Please adapt your code to use either `displot` (a figure-level function with similar flexibility) or `histplot` (an axes-level function for histograms).\n",
            "  warnings.warn(msg, FutureWarning)\n"
          ]
        },
        {
          "output_type": "stream",
          "name": "stdout",
          "text": [
            "bmi -> Skewness: -0.219312, Kurtosis: -1.291095\n"
          ]
        },
        {
          "output_type": "display_data",
          "data": {
            "text/plain": [
              "<Figure size 576x432 with 1 Axes>"
            ],
            "image/png": "[encoded data removed]"
          },
          "metadata": {
            "needs_background": "light"
          }
        }
      ],
      "source": [
        "f, ax = plt.subplots(figsize = (8,6))\n",
        "sns.distplot(life_pre[' BMI '])\n",
        "print(\"%s -> Skewness: %f, Kurtosis: %f\" %  ('bmi',life_pre[' BMI '].skew(), life_pre[' BMI '].kurt()))"
      ]
    },
    {
      "cell_type": "markdown",
      "metadata": {
        "id": "4M3XSQZeIYXy"
      },
      "source": [
        "#소아마비 왜도 첨도"
      ]
    },
    {
      "cell_type": "code",
      "execution_count": 12,
      "metadata": {
        "colab": {
          "base_uri": "https://localhost:8080/",
          "height": 463
        },
        "id": "J-Dn1C6_IIk8",
        "outputId": "4ef7b64d-ae1b-474d-ffc2-2a6f889c609d"
      },
      "outputs": [
        {
          "output_type": "stream",
          "name": "stderr",
          "text": [
            "/usr/local/lib/python3.8/dist-packages/seaborn/distributions.py:2619: FutureWarning: `distplot` is a deprecated function and will be removed in a future version. Please adapt your code to use either `displot` (a figure-level function with similar flexibility) or `histplot` (an axes-level function for histograms).\n",
            "  warnings.warn(msg, FutureWarning)\n"
          ]
        },
        {
          "output_type": "stream",
          "name": "stdout",
          "text": [
            "소아마비 -> Skewness: -2.098053, Kurtosis: 3.776510\n"
          ]
        },
        {
          "output_type": "display_data",
          "data": {
            "text/plain": [
              "<Figure size 576x432 with 1 Axes>"
            ],
            "image/png": "[encoded data removed]"
          },
          "metadata": {
            "needs_background": "light"
          }
        }
      ],
      "source": [
        "f, ax = plt.subplots(figsize = (8,6))\n",
        "sns.distplot(life_pre['Polio'])\n",
        "print(\"%s -> Skewness: %f, Kurtosis: %f\" %  ('소아마비',life_pre['Polio'].skew(), life_pre['Polio'].kurt()))"
      ]
    },
    {
      "cell_type": "markdown",
      "metadata": {
        "id": "tEiQoAIXI6FQ"
      },
      "source": [
        "#Diphtheria\t왜도 첨도"
      ]
    },
    {
      "cell_type": "code",
      "execution_count": 13,
      "metadata": {
        "colab": {
          "base_uri": "https://localhost:8080/",
          "height": 463
        },
        "id": "c-SiKST3In6I",
        "outputId": "30f21f1a-53df-4e20-9ff0-e6ed6298fced"
      },
      "outputs": [
        {
          "output_type": "stream",
          "name": "stderr",
          "text": [
            "/usr/local/lib/python3.8/dist-packages/seaborn/distributions.py:2619: FutureWarning: `distplot` is a deprecated function and will be removed in a future version. Please adapt your code to use either `displot` (a figure-level function with similar flexibility) or `histplot` (an axes-level function for histograms).\n",
            "  warnings.warn(msg, FutureWarning)\n"
          ]
        },
        {
          "output_type": "stream",
          "name": "stdout",
          "text": [
            "Diphtheria -> Skewness: -2.072753, Kurtosis: 3.558143\n"
          ]
        },
        {
          "output_type": "display_data",
          "data": {
            "text/plain": [
              "<Figure size 576x432 with 1 Axes>"
            ],
            "image/png": "[encoded data removed]"
          },
          "metadata": {
            "needs_background": "light"
          }
        }
      ],
      "source": [
        "f, ax = plt.subplots(figsize = (8,6))\n",
        "sns.distplot(life_pre['Diphtheria '])\n",
        "print(\"%s -> Skewness: %f, Kurtosis: %f\" %  ('Diphtheria',life_pre['Diphtheria '].skew(), life_pre['Diphtheria '].kurt()))"
      ]
    },
    {
      "cell_type": "markdown",
      "metadata": {
        "id": "X4Iux-D4J_EE"
      },
      "source": [
        "#GDP 왜도 첨도"
      ]
    },
    {
      "cell_type": "code",
      "execution_count": 14,
      "metadata": {
        "colab": {
          "base_uri": "https://localhost:8080/",
          "height": 463
        },
        "id": "qvDj0iKuJKP1",
        "outputId": "fa3a2ea1-9e46-4f49-daed-a862f09cfdf5"
      },
      "outputs": [
        {
          "output_type": "stream",
          "name": "stderr",
          "text": [
            "/usr/local/lib/python3.8/dist-packages/seaborn/distributions.py:2619: FutureWarning: `distplot` is a deprecated function and will be removed in a future version. Please adapt your code to use either `displot` (a figure-level function with similar flexibility) or `histplot` (an axes-level function for histograms).\n",
            "  warnings.warn(msg, FutureWarning)\n"
          ]
        },
        {
          "output_type": "stream",
          "name": "stdout",
          "text": [
            "GDP -> Skewness: 3.206655, Kurtosis: 12.333074\n"
          ]
        },
        {
          "output_type": "display_data",
          "data": {
            "text/plain": [
              "<Figure size 576x432 with 1 Axes>"
            ],
            "image/png": "[encoded data removed]"
          },
          "metadata": {
            "needs_background": "light"
          }
        }
      ],
      "source": [
        "f, ax = plt.subplots(figsize = (8,6))\n",
        "sns.distplot(life_pre['GDP'])\n",
        "print(\"%s -> Skewness: %f, Kurtosis: %f\" %  ('GDP',life_pre['GDP'].skew(), life_pre['GDP'].kurt()))"
      ]
    },
    {
      "cell_type": "code",
      "execution_count": 15,
      "metadata": {
        "colab": {
          "base_uri": "https://localhost:8080/",
          "height": 206
        },
        "id": "FZ7vqd9WKIy7",
        "outputId": "0d05bafb-3979-4c61-f26d-c006938eea26"
      },
      "outputs": [
        {
          "output_type": "execute_result",
          "data": {
            "text/plain": [
              "       Country      Status  Life expectancy   Adult Mortality  infant deaths  \\\n",
              "0  Afghanistan  Developing              65.0            263.0             62   \n",
              "1  Afghanistan  Developing              59.9            271.0             64   \n",
              "2  Afghanistan  Developing              59.9            268.0             66   \n",
              "3  Afghanistan  Developing              59.5            272.0             69   \n",
              "4  Afghanistan  Developing              59.2            275.0             71   \n",
              "\n",
              "   Alcohol  Hepatitis B  Measles    BMI   under-five deaths   Polio  \\\n",
              "0     0.01         65.0      1154   19.1                  83    6.0   \n",
              "1     0.01         62.0       492   18.6                  86   58.0   \n",
              "2     0.01         64.0       430   18.1                  89   62.0   \n",
              "3     0.01         67.0      2787   17.6                  93   67.0   \n",
              "4     0.01         68.0      3013   17.2                  97   68.0   \n",
              "\n",
              "   Total expenditure  Diphtheria    HIV/AIDS         GDP  \n",
              "0               8.16         65.0        0.1  584.259210  \n",
              "1               8.18         62.0        0.1  612.696514  \n",
              "2               8.13         64.0        0.1  631.744976  \n",
              "3               8.52         67.0        0.1  669.959000  \n",
              "4               7.87         68.0        0.1   63.537231  "
            ],
            "text/html": [
              "\n",
              "  <div id=\"df-49728e34-6491-4acf-8a3b-39b908b17756\">\n",
              "    <div class=\"colab-df-container\">\n",
              "      <div>\n",
              "<style scoped>\n",
              "    .dataframe tbody tr th:only-of-type {\n",
              "        vertical-align: middle;\n",
              "    }\n",
              "\n",
              "    .dataframe tbody tr th {\n",
              "        vertical-align: top;\n",
              "    }\n",
              "\n",
              "    .dataframe thead th {\n",
              "        text-align: right;\n",
              "    }\n",
              "</style>\n",
              "<table border=\"1\" class=\"dataframe\">\n",
              "  <thead>\n",
              "    <tr style=\"text-align: right;\">\n",
              "      <th></th>\n",
              "      <th>Country</th>\n",
              "      <th>Status</th>\n",
              "      <th>Life expectancy</th>\n",
              "      <th>Adult Mortality</th>\n",
              "      <th>infant deaths</th>\n",
              "      <th>Alcohol</th>\n",
              "      <th>Hepatitis B</th>\n",
              "      <th>Measles</th>\n",
              "      <th>BMI</th>\n",
              "      <th>under-five deaths</th>\n",
              "      <th>Polio</th>\n",
              "      <th>Total expenditure</th>\n",
              "      <th>Diphtheria</th>\n",
              "      <th>HIV/AIDS</th>\n",
              "      <th>GDP</th>\n",
              "    </tr>\n",
              "  </thead>\n",
              "  <tbody>\n",
              "    <tr>\n",
              "      <th>0</th>\n",
              "      <td>Afghanistan</td>\n",
              "      <td>Developing</td>\n",
              "      <td>65.0</td>\n",
              "      <td>263.0</td>\n",
              "      <td>62</td>\n",
              "      <td>0.01</td>\n",
              "      <td>65.0</td>\n",
              "      <td>1154</td>\n",
              "      <td>19.1</td>\n",
              "      <td>83</td>\n",
              "      <td>6.0</td>\n",
              "      <td>8.16</td>\n",
              "      <td>65.0</td>\n",
              "      <td>0.1</td>\n",
              "      <td>584.259210</td>\n",
              "    </tr>\n",
              "    <tr>\n",
              "      <th>1</th>\n",
              "      <td>Afghanistan</td>\n",
              "      <td>Developing</td>\n",
              "      <td>59.9</td>\n",
              "      <td>271.0</td>\n",
              "      <td>64</td>\n",
              "      <td>0.01</td>\n",
              "      <td>62.0</td>\n",
              "      <td>492</td>\n",
              "      <td>18.6</td>\n",
              "      <td>86</td>\n",
              "      <td>58.0</td>\n",
              "      <td>8.18</td>\n",
              "      <td>62.0</td>\n",
              "      <td>0.1</td>\n",
              "      <td>612.696514</td>\n",
              "    </tr>\n",
              "    <tr>\n",
              "      <th>2</th>\n",
              "      <td>Afghanistan</td>\n",
              "      <td>Developing</td>\n",
              "      <td>59.9</td>\n",
              "      <td>268.0</td>\n",
              "      <td>66</td>\n",
              "      <td>0.01</td>\n",
              "      <td>64.0</td>\n",
              "      <td>430</td>\n",
              "      <td>18.1</td>\n",
              "      <td>89</td>\n",
              "      <td>62.0</td>\n",
              "      <td>8.13</td>\n",
              "      <td>64.0</td>\n",
              "      <td>0.1</td>\n",
              "      <td>631.744976</td>\n",
              "    </tr>\n",
              "    <tr>\n",
              "      <th>3</th>\n",
              "      <td>Afghanistan</td>\n",
              "      <td>Developing</td>\n",
              "      <td>59.5</td>\n",
              "      <td>272.0</td>\n",
              "      <td>69</td>\n",
              "      <td>0.01</td>\n",
              "      <td>67.0</td>\n",
              "      <td>2787</td>\n",
              "      <td>17.6</td>\n",
              "      <td>93</td>\n",
              "      <td>67.0</td>\n",
              "      <td>8.52</td>\n",
              "      <td>67.0</td>\n",
              "      <td>0.1</td>\n",
              "      <td>669.959000</td>\n",
              "    </tr>\n",
              "    <tr>\n",
              "      <th>4</th>\n",
              "      <td>Afghanistan</td>\n",
              "      <td>Developing</td>\n",
              "      <td>59.2</td>\n",
              "      <td>275.0</td>\n",
              "      <td>71</td>\n",
              "      <td>0.01</td>\n",
              "      <td>68.0</td>\n",
              "      <td>3013</td>\n",
              "      <td>17.2</td>\n",
              "      <td>97</td>\n",
              "      <td>68.0</td>\n",
              "      <td>7.87</td>\n",
              "      <td>68.0</td>\n",
              "      <td>0.1</td>\n",
              "      <td>63.537231</td>\n",
              "    </tr>\n",
              "  </tbody>\n",
              "</table>\n",
              "</div>\n",
              "      <button class=\"colab-df-convert\" onclick=\"convertToInteractive('df-49728e34-6491-4acf-8a3b-39b908b17756')\"\n",
              "              title=\"Convert this dataframe to an interactive table.\"\n",
              "              style=\"display:none;\">\n",
              "        \n",
              "  <svg xmlns=\"http://www.w3.org/2000/svg\" height=\"24px\"viewBox=\"0 0 24 24\"\n",
              "       width=\"24px\">\n",
              "    <path d=\"M0 0h24v24H0V0z\" fill=\"none\"/>\n",
              "    <path d=\"M18.56 5.44l.94 2.06.94-2.06 2.06-.94-2.06-.94-.94-2.06-.94 2.06-2.06.94zm-11 1L8.5 8.5l.94-2.06 2.06-.94-2.06-.94L8.5 2.5l-.94 2.06-2.06.94zm10 10l.94 2.06.94-2.06 2.06-.94-2.06-.94-.94-2.06-.94 2.06-2.06.94z\"/><path d=\"M17.41 7.96l-1.37-1.37c-.4-.4-.92-.59-1.43-.59-.52 0-1.04.2-1.43.59L10.3 9.45l-7.72 7.72c-.78.78-.78 2.05 0 2.83L4 21.41c.39.39.9.59 1.41.59.51 0 1.02-.2 1.41-.59l7.78-7.78 2.81-2.81c.8-.78.8-2.07 0-2.86zM5.41 20L4 18.59l7.72-7.72 1.47 1.35L5.41 20z\"/>\n",
              "  </svg>\n",
              "      </button>\n",
              "      \n",
              "  <style>\n",
              "    .colab-df-container {\n",
              "      display:flex;\n",
              "      flex-wrap:wrap;\n",
              "      gap: 12px;\n",
              "    }\n",
              "\n",
              "    .colab-df-convert {\n",
              "      background-color: #E8F0FE;\n",
              "      border: none;\n",
              "      border-radius: 50%;\n",
              "      cursor: pointer;\n",
              "      display: none;\n",
              "      fill: #1967D2;\n",
              "      height: 32px;\n",
              "      padding: 0 0 0 0;\n",
              "      width: 32px;\n",
              "    }\n",
              "\n",
              "    .colab-df-convert:hover {\n",
              "      background-color: #E2EBFA;\n",
              "      box-shadow: 0px 1px 2px rgba(60, 64, 67, 0.3), 0px 1px 3px 1px rgba(60, 64, 67, 0.15);\n",
              "      fill: #174EA6;\n",
              "    }\n",
              "\n",
              "    [theme=dark] .colab-df-convert {\n",
              "      background-color: #3B4455;\n",
              "      fill: #D2E3FC;\n",
              "    }\n",
              "\n",
              "    [theme=dark] .colab-df-convert:hover {\n",
              "      background-color: #434B5C;\n",
              "      box-shadow: 0px 1px 3px 1px rgba(0, 0, 0, 0.15);\n",
              "      filter: drop-shadow(0px 1px 2px rgba(0, 0, 0, 0.3));\n",
              "      fill: #FFFFFF;\n",
              "    }\n",
              "  </style>\n",
              "\n",
              "      <script>\n",
              "        const buttonEl =\n",
              "          document.querySelector('#df-49728e34-6491-4acf-8a3b-39b908b17756 button.colab-df-convert');\n",
              "        buttonEl.style.display =\n",
              "          google.colab.kernel.accessAllowed ? 'block' : 'none';\n",
              "\n",
              "        async function convertToInteractive(key) {\n",
              "          const element = document.querySelector('#df-49728e34-6491-4acf-8a3b-39b908b17756');\n",
              "          const dataTable =\n",
              "            await google.colab.kernel.invokeFunction('convertToInteractive',\n",
              "                                                     [key], {});\n",
              "          if (!dataTable) return;\n",
              "\n",
              "          const docLinkHtml = 'Like what you see? Visit the ' +\n",
              "            '<a target=\"_blank\" href=https://colab.research.google.com/notebooks/data_table.ipynb>data table notebook</a>'\n",
              "            + ' to learn more about interactive tables.';\n",
              "          element.innerHTML = '';\n",
              "          dataTable['output_type'] = 'display_data';\n",
              "          await google.colab.output.renderOutput(dataTable, element);\n",
              "          const docLink = document.createElement('div');\n",
              "          docLink.innerHTML = docLinkHtml;\n",
              "          element.appendChild(docLink);\n",
              "        }\n",
              "      </script>\n",
              "    </div>\n",
              "  </div>\n",
              "  "
            ]
          },
          "metadata": {},
          "execution_count": 15
        }
      ],
      "source": [
        "life_pre.head()"
      ]
    },
    {
      "cell_type": "code",
      "execution_count": 16,
      "metadata": {
        "colab": {
          "base_uri": "https://localhost:8080/"
        },
        "id": "WiG4FB_5Kyr5",
        "outputId": "f9f04424-ddb5-4969-eb0f-96e13a4b73e8"
      },
      "outputs": [
        {
          "output_type": "execute_result",
          "data": {
            "text/plain": [
              "array(['Developing', 'Developed'], dtype=object)"
            ]
          },
          "metadata": {},
          "execution_count": 16
        }
      ],
      "source": [
        "life_pre['Status'].unique()"
      ]
    },
    {
      "cell_type": "code",
      "execution_count": 17,
      "metadata": {
        "id": "-pbbsW-ELRrX"
      },
      "outputs": [],
      "source": [
        "# status을 수치화 데이터로 바꾸어주는 과정\n",
        "replace_name = {'Developing':1,'Developed':0}\n",
        "life_pre.replace({'Status' : replace_name}, inplace = True)"
      ]
    },
    {
      "cell_type": "code",
      "execution_count": 18,
      "metadata": {
        "colab": {
          "base_uri": "https://localhost:8080/"
        },
        "id": "751RNzNPLwS1",
        "outputId": "76312761-c683-4548-e662-5dae2d499c94"
      },
      "outputs": [
        {
          "output_type": "execute_result",
          "data": {
            "text/plain": [
              "array([1, 0])"
            ]
          },
          "metadata": {},
          "execution_count": 18
        }
      ],
      "source": [
        "life_pre['Status'].unique()"
      ]
    },
    {
      "cell_type": "code",
      "execution_count": 19,
      "metadata": {
        "colab": {
          "base_uri": "https://localhost:8080/",
          "height": 369
        },
        "id": "vSWFHga3L0Uj",
        "outputId": "ca89013c-a51e-4fc5-e61e-2cc3ceb22750"
      },
      "outputs": [
        {
          "output_type": "execute_result",
          "data": {
            "text/plain": [
              "<AxesSubplot:>"
            ]
          },
          "metadata": {},
          "execution_count": 19
        },
        {
          "output_type": "display_data",
          "data": {
            "text/plain": [
              "<Figure size 432x288 with 2 Axes>"
            ],
            "image/png": "[encoded data removed]"
          },
          "metadata": {
            "needs_background": "light"
          }
        }
      ],
      "source": [
        "sns.heatmap(life_pre.corr(), annot = True) #히트맵 특징공간 상관계수"
      ]
    },
    {
      "cell_type": "code",
      "execution_count": 20,
      "metadata": {
        "colab": {
          "base_uri": "https://localhost:8080/",
          "height": 397
        },
        "id": "_gFOGjGEL8qf",
        "outputId": "13ba6666-d8b1-433c-877f-fa8c3204a4a0"
      },
      "outputs": [
        {
          "output_type": "execute_result",
          "data": {
            "text/plain": [
              "<AxesSubplot:xlabel='Alcohol', ylabel='Life expectancy '>"
            ]
          },
          "metadata": {},
          "execution_count": 20
        },
        {
          "output_type": "display_data",
          "data": {
            "text/plain": [
              "<Figure size 2016x432 with 1 Axes>"
            ],
            "image/png": "[encoded data removed]"
          },
          "metadata": {
            "needs_background": "light"
          }
        }
      ],
      "source": [
        "# 장르데이터 시각화\n",
        "f, ax = plt.subplots(figsize = (28,6))\n",
        "sns.boxplot(x='Alcohol', y='Life expectancy ', data=life_pre[['Alcohol', 'Life expectancy ']])"
      ]
    },
    {
      "cell_type": "markdown",
      "metadata": {
        "id": "tyi_KE3iORi3"
      },
      "source": [
        "#최종 전처리 데이터 저장"
      ]
    },
    {
      "cell_type": "code",
      "execution_count": 21,
      "metadata": {
        "id": "LhWp7NPIMx25"
      },
      "outputs": [],
      "source": [
        "life_pre.to_csv('/content/drive/MyDrive/life_final.csv', index = False,encoding='utf-8-sig')"
      ]
    },
    {
      "cell_type": "code",
      "execution_count": 22,
      "metadata": {
        "id": "td-rnTJ0NpyP"
      },
      "outputs": [],
      "source": [
        "final_life_pre = pd.read_csv('/content/drive/MyDrive/life_final.csv')"
      ]
    },
    {
      "cell_type": "code",
      "execution_count": 23,
      "metadata": {
        "colab": {
          "base_uri": "https://localhost:8080/",
          "height": 423
        },
        "id": "dLEvOi5jOfNj",
        "outputId": "a24b52b4-06d6-47f6-c451-74eef6357997"
      },
      "outputs": [
        {
          "output_type": "execute_result",
          "data": {
            "text/plain": [
              "          Country  Status  Life expectancy   Adult Mortality  infant deaths  \\\n",
              "0     Afghanistan       1              65.0            263.0             62   \n",
              "1     Afghanistan       1              59.9            271.0             64   \n",
              "2     Afghanistan       1              59.9            268.0             66   \n",
              "3     Afghanistan       1              59.5            272.0             69   \n",
              "4     Afghanistan       1              59.2            275.0             71   \n",
              "...           ...     ...               ...              ...            ...   \n",
              "2933     Zimbabwe       1              44.3            723.0             27   \n",
              "2934     Zimbabwe       1              44.5            715.0             26   \n",
              "2935     Zimbabwe       1              44.8             73.0             25   \n",
              "2936     Zimbabwe       1              45.3            686.0             25   \n",
              "2937     Zimbabwe       1              46.0            665.0             24   \n",
              "\n",
              "      Alcohol  Hepatitis B  Measles    BMI   under-five deaths   Polio  \\\n",
              "0        0.01         65.0      1154   19.1                  83    6.0   \n",
              "1        0.01         62.0       492   18.6                  86   58.0   \n",
              "2        0.01         64.0       430   18.1                  89   62.0   \n",
              "3        0.01         67.0      2787   17.6                  93   67.0   \n",
              "4        0.01         68.0      3013   17.2                  97   68.0   \n",
              "...       ...          ...       ...    ...                 ...    ...   \n",
              "2933     4.36         68.0        31   27.1                  42   67.0   \n",
              "2934     4.06          7.0       998   26.7                  41    7.0   \n",
              "2935     4.43         73.0       304   26.3                  40   73.0   \n",
              "2936     1.72         76.0       529   25.9                  39   76.0   \n",
              "2937     1.68         79.0      1483   25.5                  39   78.0   \n",
              "\n",
              "      Total expenditure  Diphtheria    HIV/AIDS         GDP  \n",
              "0                  8.16         65.0        0.1  584.259210  \n",
              "1                  8.18         62.0        0.1  612.696514  \n",
              "2                  8.13         64.0        0.1  631.744976  \n",
              "3                  8.52         67.0        0.1  669.959000  \n",
              "4                  7.87         68.0        0.1   63.537231  \n",
              "...                 ...          ...        ...         ...  \n",
              "2933               7.13         65.0       33.6  454.366654  \n",
              "2934               6.52         68.0       36.7  453.351155  \n",
              "2935               6.53         71.0       39.8   57.348340  \n",
              "2936               6.16         75.0       42.1  548.587312  \n",
              "2937               7.10         78.0       43.5  547.358878  \n",
              "\n",
              "[2938 rows x 15 columns]"
            ],
            "text/html": [
              "\n",
              "  <div id=\"df-fb202f24-ce2b-4916-8532-a2b5424a5f93\">\n",
              "    <div class=\"colab-df-container\">\n",
              "      <div>\n",
              "<style scoped>\n",
              "    .dataframe tbody tr th:only-of-type {\n",
              "        vertical-align: middle;\n",
              "    }\n",
              "\n",
              "    .dataframe tbody tr th {\n",
              "        vertical-align: top;\n",
              "    }\n",
              "\n",
              "    .dataframe thead th {\n",
              "        text-align: right;\n",
              "    }\n",
              "</style>\n",
              "<table border=\"1\" class=\"dataframe\">\n",
              "  <thead>\n",
              "    <tr style=\"text-align: right;\">\n",
              "      <th></th>\n",
              "      <th>Country</th>\n",
              "      <th>Status</th>\n",
              "      <th>Life expectancy</th>\n",
              "      <th>Adult Mortality</th>\n",
              "      <th>infant deaths</th>\n",
              "      <th>Alcohol</th>\n",
              "      <th>Hepatitis B</th>\n",
              "      <th>Measles</th>\n",
              "      <th>BMI</th>\n",
              "      <th>under-five deaths</th>\n",
              "      <th>Polio</th>\n",
              "      <th>Total expenditure</th>\n",
              "      <th>Diphtheria</th>\n",
              "      <th>HIV/AIDS</th>\n",
              "      <th>GDP</th>\n",
              "    </tr>\n",
              "  </thead>\n",
              "  <tbody>\n",
              "    <tr>\n",
              "      <th>0</th>\n",
              "      <td>Afghanistan</td>\n",
              "      <td>1</td>\n",
              "      <td>65.0</td>\n",
              "      <td>263.0</td>\n",
              "      <td>62</td>\n",
              "      <td>0.01</td>\n",
              "      <td>65.0</td>\n",
              "      <td>1154</td>\n",
              "      <td>19.1</td>\n",
              "      <td>83</td>\n",
              "      <td>6.0</td>\n",
              "      <td>8.16</td>\n",
              "      <td>65.0</td>\n",
              "      <td>0.1</td>\n",
              "      <td>584.259210</td>\n",
              "    </tr>\n",
              "    <tr>\n",
              "      <th>1</th>\n",
              "      <td>Afghanistan</td>\n",
              "      <td>1</td>\n",
              "      <td>59.9</td>\n",
              "      <td>271.0</td>\n",
              "      <td>64</td>\n",
              "      <td>0.01</td>\n",
              "      <td>62.0</td>\n",
              "      <td>492</td>\n",
              "      <td>18.6</td>\n",
              "      <td>86</td>\n",
              "      <td>58.0</td>\n",
              "      <td>8.18</td>\n",
              "      <td>62.0</td>\n",
              "      <td>0.1</td>\n",
              "      <td>612.696514</td>\n",
              "    </tr>\n",
              "    <tr>\n",
              "      <th>2</th>\n",
              "      <td>Afghanistan</td>\n",
              "      <td>1</td>\n",
              "      <td>59.9</td>\n",
              "      <td>268.0</td>\n",
              "      <td>66</td>\n",
              "      <td>0.01</td>\n",
              "      <td>64.0</td>\n",
              "      <td>430</td>\n",
              "      <td>18.1</td>\n",
              "      <td>89</td>\n",
              "      <td>62.0</td>\n",
              "      <td>8.13</td>\n",
              "      <td>64.0</td>\n",
              "      <td>0.1</td>\n",
              "      <td>631.744976</td>\n",
              "    </tr>\n",
              "    <tr>\n",
              "      <th>3</th>\n",
              "      <td>Afghanistan</td>\n",
              "      <td>1</td>\n",
              "      <td>59.5</td>\n",
              "      <td>272.0</td>\n",
              "      <td>69</td>\n",
              "      <td>0.01</td>\n",
              "      <td>67.0</td>\n",
              "      <td>2787</td>\n",
              "      <td>17.6</td>\n",
              "      <td>93</td>\n",
              "      <td>67.0</td>\n",
              "      <td>8.52</td>\n",
              "      <td>67.0</td>\n",
              "      <td>0.1</td>\n",
              "      <td>669.959000</td>\n",
              "    </tr>\n",
              "    <tr>\n",
              "      <th>4</th>\n",
              "      <td>Afghanistan</td>\n",
              "      <td>1</td>\n",
              "      <td>59.2</td>\n",
              "      <td>275.0</td>\n",
              "      <td>71</td>\n",
              "      <td>0.01</td>\n",
              "      <td>68.0</td>\n",
              "      <td>3013</td>\n",
              "      <td>17.2</td>\n",
              "      <td>97</td>\n",
              "      <td>68.0</td>\n",
              "      <td>7.87</td>\n",
              "      <td>68.0</td>\n",
              "      <td>0.1</td>\n",
              "      <td>63.537231</td>\n",
              "    </tr>\n",
              "    <tr>\n",
              "      <th>...</th>\n",
              "      <td>...</td>\n",
              "      <td>...</td>\n",
              "      <td>...</td>\n",
              "      <td>...</td>\n",
              "      <td>...</td>\n",
              "      <td>...</td>\n",
              "      <td>...</td>\n",
              "      <td>...</td>\n",
              "      <td>...</td>\n",
              "      <td>...</td>\n",
              "      <td>...</td>\n",
              "      <td>...</td>\n",
              "      <td>...</td>\n",
              "      <td>...</td>\n",
              "      <td>...</td>\n",
              "    </tr>\n",
              "    <tr>\n",
              "      <th>2933</th>\n",
              "      <td>Zimbabwe</td>\n",
              "      <td>1</td>\n",
              "      <td>44.3</td>\n",
              "      <td>723.0</td>\n",
              "      <td>27</td>\n",
              "      <td>4.36</td>\n",
              "      <td>68.0</td>\n",
              "      <td>31</td>\n",
              "      <td>27.1</td>\n",
              "      <td>42</td>\n",
              "      <td>67.0</td>\n",
              "      <td>7.13</td>\n",
              "      <td>65.0</td>\n",
              "      <td>33.6</td>\n",
              "      <td>454.366654</td>\n",
              "    </tr>\n",
              "    <tr>\n",
              "      <th>2934</th>\n",
              "      <td>Zimbabwe</td>\n",
              "      <td>1</td>\n",
              "      <td>44.5</td>\n",
              "      <td>715.0</td>\n",
              "      <td>26</td>\n",
              "      <td>4.06</td>\n",
              "      <td>7.0</td>\n",
              "      <td>998</td>\n",
              "      <td>26.7</td>\n",
              "      <td>41</td>\n",
              "      <td>7.0</td>\n",
              "      <td>6.52</td>\n",
              "      <td>68.0</td>\n",
              "      <td>36.7</td>\n",
              "      <td>453.351155</td>\n",
              "    </tr>\n",
              "    <tr>\n",
              "      <th>2935</th>\n",
              "      <td>Zimbabwe</td>\n",
              "      <td>1</td>\n",
              "      <td>44.8</td>\n",
              "      <td>73.0</td>\n",
              "      <td>25</td>\n",
              "      <td>4.43</td>\n",
              "      <td>73.0</td>\n",
              "      <td>304</td>\n",
              "      <td>26.3</td>\n",
              "      <td>40</td>\n",
              "      <td>73.0</td>\n",
              "      <td>6.53</td>\n",
              "      <td>71.0</td>\n",
              "      <td>39.8</td>\n",
              "      <td>57.348340</td>\n",
              "    </tr>\n",
              "    <tr>\n",
              "      <th>2936</th>\n",
              "      <td>Zimbabwe</td>\n",
              "      <td>1</td>\n",
              "      <td>45.3</td>\n",
              "      <td>686.0</td>\n",
              "      <td>25</td>\n",
              "      <td>1.72</td>\n",
              "      <td>76.0</td>\n",
              "      <td>529</td>\n",
              "      <td>25.9</td>\n",
              "      <td>39</td>\n",
              "      <td>76.0</td>\n",
              "      <td>6.16</td>\n",
              "      <td>75.0</td>\n",
              "      <td>42.1</td>\n",
              "      <td>548.587312</td>\n",
              "    </tr>\n",
              "    <tr>\n",
              "      <th>2937</th>\n",
              "      <td>Zimbabwe</td>\n",
              "      <td>1</td>\n",
              "      <td>46.0</td>\n",
              "      <td>665.0</td>\n",
              "      <td>24</td>\n",
              "      <td>1.68</td>\n",
              "      <td>79.0</td>\n",
              "      <td>1483</td>\n",
              "      <td>25.5</td>\n",
              "      <td>39</td>\n",
              "      <td>78.0</td>\n",
              "      <td>7.10</td>\n",
              "      <td>78.0</td>\n",
              "      <td>43.5</td>\n",
              "      <td>547.358878</td>\n",
              "    </tr>\n",
              "  </tbody>\n",
              "</table>\n",
              "<p>2938 rows × 15 columns</p>\n",
              "</div>\n",
              "      <button class=\"colab-df-convert\" onclick=\"convertToInteractive('df-fb202f24-ce2b-4916-8532-a2b5424a5f93')\"\n",
              "              title=\"Convert this dataframe to an interactive table.\"\n",
              "              style=\"display:none;\">\n",
              "        \n",
              "  <svg xmlns=\"http://www.w3.org/2000/svg\" height=\"24px\"viewBox=\"0 0 24 24\"\n",
              "       width=\"24px\">\n",
              "    <path d=\"M0 0h24v24H0V0z\" fill=\"none\"/>\n",
              "    <path d=\"M18.56 5.44l.94 2.06.94-2.06 2.06-.94-2.06-.94-.94-2.06-.94 2.06-2.06.94zm-11 1L8.5 8.5l.94-2.06 2.06-.94-2.06-.94L8.5 2.5l-.94 2.06-2.06.94zm10 10l.94 2.06.94-2.06 2.06-.94-2.06-.94-.94-2.06-.94 2.06-2.06.94z\"/><path d=\"M17.41 7.96l-1.37-1.37c-.4-.4-.92-.59-1.43-.59-.52 0-1.04.2-1.43.59L10.3 9.45l-7.72 7.72c-.78.78-.78 2.05 0 2.83L4 21.41c.39.39.9.59 1.41.59.51 0 1.02-.2 1.41-.59l7.78-7.78 2.81-2.81c.8-.78.8-2.07 0-2.86zM5.41 20L4 18.59l7.72-7.72 1.47 1.35L5.41 20z\"/>\n",
              "  </svg>\n",
              "      </button>\n",
              "      \n",
              "  <style>\n",
              "    .colab-df-container {\n",
              "      display:flex;\n",
              "      flex-wrap:wrap;\n",
              "      gap: 12px;\n",
              "    }\n",
              "\n",
              "    .colab-df-convert {\n",
              "      background-color: #E8F0FE;\n",
              "      border: none;\n",
              "      border-radius: 50%;\n",
              "      cursor: pointer;\n",
              "      display: none;\n",
              "      fill: #1967D2;\n",
              "      height: 32px;\n",
              "      padding: 0 0 0 0;\n",
              "      width: 32px;\n",
              "    }\n",
              "\n",
              "    .colab-df-convert:hover {\n",
              "      background-color: #E2EBFA;\n",
              "      box-shadow: 0px 1px 2px rgba(60, 64, 67, 0.3), 0px 1px 3px 1px rgba(60, 64, 67, 0.15);\n",
              "      fill: #174EA6;\n",
              "    }\n",
              "\n",
              "    [theme=dark] .colab-df-convert {\n",
              "      background-color: #3B4455;\n",
              "      fill: #D2E3FC;\n",
              "    }\n",
              "\n",
              "    [theme=dark] .colab-df-convert:hover {\n",
              "      background-color: #434B5C;\n",
              "      box-shadow: 0px 1px 3px 1px rgba(0, 0, 0, 0.15);\n",
              "      filter: drop-shadow(0px 1px 2px rgba(0, 0, 0, 0.3));\n",
              "      fill: #FFFFFF;\n",
              "    }\n",
              "  </style>\n",
              "\n",
              "      <script>\n",
              "        const buttonEl =\n",
              "          document.querySelector('#df-fb202f24-ce2b-4916-8532-a2b5424a5f93 button.colab-df-convert');\n",
              "        buttonEl.style.display =\n",
              "          google.colab.kernel.accessAllowed ? 'block' : 'none';\n",
              "\n",
              "        async function convertToInteractive(key) {\n",
              "          const element = document.querySelector('#df-fb202f24-ce2b-4916-8532-a2b5424a5f93');\n",
              "          const dataTable =\n",
              "            await google.colab.kernel.invokeFunction('convertToInteractive',\n",
              "                                                     [key], {});\n",
              "          if (!dataTable) return;\n",
              "\n",
              "          const docLinkHtml = 'Like what you see? Visit the ' +\n",
              "            '<a target=\"_blank\" href=https://colab.research.google.com/notebooks/data_table.ipynb>data table notebook</a>'\n",
              "            + ' to learn more about interactive tables.';\n",
              "          element.innerHTML = '';\n",
              "          dataTable['output_type'] = 'display_data';\n",
              "          await google.colab.output.renderOutput(dataTable, element);\n",
              "          const docLink = document.createElement('div');\n",
              "          docLink.innerHTML = docLinkHtml;\n",
              "          element.appendChild(docLink);\n",
              "        }\n",
              "      </script>\n",
              "    </div>\n",
              "  </div>\n",
              "  "
            ]
          },
          "metadata": {},
          "execution_count": 23
        }
      ],
      "source": [
        "final_life_pre"
      ]
    },
    {
      "cell_type": "code",
      "execution_count": 24,
      "metadata": {
        "colab": {
          "base_uri": "https://localhost:8080/"
        },
        "id": "7357X0QKOrSP",
        "outputId": "70d3917e-4eb1-4e23-8545-a69f9f86aed0"
      },
      "outputs": [
        {
          "output_type": "execute_result",
          "data": {
            "text/plain": [
              "Country                 0\n",
              "Status                  0\n",
              "Life expectancy        10\n",
              "Adult Mortality        10\n",
              "infant deaths           0\n",
              "Alcohol               194\n",
              "Hepatitis B           553\n",
              "Measles                 0\n",
              " BMI                   34\n",
              "under-five deaths       0\n",
              "Polio                  19\n",
              "Total expenditure     226\n",
              "Diphtheria             19\n",
              " HIV/AIDS               0\n",
              "GDP                   448\n",
              "dtype: int64"
            ]
          },
          "metadata": {},
          "execution_count": 24
        }
      ],
      "source": [
        "# 결측치 확인\n",
        "final_life_pre.isna().sum() "
      ]
    },
    {
      "cell_type": "markdown",
      "metadata": {
        "id": "HfnKjErWPAmv"
      },
      "source": [
        "#결측지 제거"
      ]
    },
    {
      "cell_type": "code",
      "execution_count": 25,
      "metadata": {
        "colab": {
          "base_uri": "https://localhost:8080/"
        },
        "id": "GNvnHHkkO3Br",
        "outputId": "03f90cfa-570c-4017-e135-f38974d48b30"
      },
      "outputs": [
        {
          "output_type": "execute_result",
          "data": {
            "text/plain": [
              "Index(['Country', 'Status', 'Life expectancy ', 'Adult Mortality',\n",
              "       'infant deaths', 'Alcohol', 'Hepatitis B', 'Measles ', ' BMI ',\n",
              "       'under-five deaths ', 'Polio', 'Total expenditure', 'Diphtheria ',\n",
              "       ' HIV/AIDS', 'GDP'],\n",
              "      dtype='object')"
            ]
          },
          "metadata": {},
          "execution_count": 25
        }
      ],
      "source": [
        "final_life_pre.columns"
      ]
    },
    {
      "cell_type": "code",
      "execution_count": 26,
      "metadata": {
        "id": "YhTCCIYFPql3"
      },
      "outputs": [],
      "source": [
        "final_life_pre['Life expectancy '].fillna(0, inplace = True)\n",
        "final_life_pre['Adult Mortality'].fillna(0, inplace = True)\n",
        "final_life_pre['Alcohol'].fillna(0, inplace = True)\n",
        "final_life_pre['Hepatitis B'].fillna(0, inplace = True)\n",
        "final_life_pre[' BMI '].fillna(0, inplace = True)\n",
        "final_life_pre['Polio'].fillna(0, inplace = True)\n",
        "final_life_pre['Total expenditure'].fillna(0, inplace = True)\n",
        "final_life_pre['Diphtheria '].fillna(0, inplace = True)\n",
        "final_life_pre['GDP'].fillna(0, inplace = True)\n"
      ]
    },
    {
      "cell_type": "code",
      "execution_count": 27,
      "metadata": {
        "colab": {
          "base_uri": "https://localhost:8080/"
        },
        "id": "ela7oNpm41cn",
        "outputId": "fec14c02-2e65-40cb-a51d-33bf8c09fc9e"
      },
      "outputs": [
        {
          "output_type": "execute_result",
          "data": {
            "text/plain": [
              "Country               0\n",
              "Status                0\n",
              "Life expectancy       0\n",
              "Adult Mortality       0\n",
              "infant deaths         0\n",
              "Alcohol               0\n",
              "Hepatitis B           0\n",
              "Measles               0\n",
              " BMI                  0\n",
              "under-five deaths     0\n",
              "Polio                 0\n",
              "Total expenditure     0\n",
              "Diphtheria            0\n",
              " HIV/AIDS             0\n",
              "GDP                   0\n",
              "dtype: int64"
            ]
          },
          "metadata": {},
          "execution_count": 27
        }
      ],
      "source": [
        "# 결측치 확인\n",
        "final_life_pre.isna().sum() "
      ]
    },
    {
      "cell_type": "code",
      "execution_count": 28,
      "metadata": {
        "colab": {
          "base_uri": "https://localhost:8080/",
          "height": 361
        },
        "id": "va8_EFE244s6",
        "outputId": "e41776aa-cd38-4330-ae38-c94e47b73d9b"
      },
      "outputs": [
        {
          "output_type": "execute_result",
          "data": {
            "text/plain": [
              "            Status  Life expectancy   Adult Mortality  infant deaths  \\\n",
              "count  2938.000000       2938.000000      2938.000000    2938.000000   \n",
              "mean      0.825732         68.989312       164.235534      30.303948   \n",
              "std       0.379405         10.327437       124.451093     117.926501   \n",
              "min       0.000000          0.000000         0.000000       0.000000   \n",
              "25%       1.000000         63.000000        73.000000       0.000000   \n",
              "50%       1.000000         72.000000       144.000000       3.000000   \n",
              "75%       1.000000         75.600000       227.000000      22.000000   \n",
              "max       1.000000         89.000000       723.000000    1800.000000   \n",
              "\n",
              "           Alcohol  Hepatitis B       Measles          BMI   \\\n",
              "count  2938.000000  2938.000000    2938.000000  2938.000000   \n",
              "mean      4.298928    65.705582    2419.592240    37.877774   \n",
              "std       4.079748    38.878316   11467.272489    20.344920   \n",
              "min       0.000000     0.000000       0.000000     0.000000   \n",
              "25%       0.470000    24.000000       0.000000    19.000000   \n",
              "50%       3.130000    87.000000      17.000000    43.000000   \n",
              "75%       7.390000    96.000000     360.250000    56.100000   \n",
              "max      17.870000    99.000000  212183.000000    87.300000   \n",
              "\n",
              "       under-five deaths         Polio  Total expenditure  Diphtheria   \\\n",
              "count         2938.000000  2938.000000        2938.000000  2938.000000   \n",
              "mean            42.035739    82.016338           5.481406    81.791695   \n",
              "std            160.445548    24.271835           2.875063    24.544100   \n",
              "min              0.000000     0.000000           0.000000     0.000000   \n",
              "25%              0.000000    77.000000           3.740000    78.000000   \n",
              "50%              4.000000    93.000000           5.540000    93.000000   \n",
              "75%             28.000000    97.000000           7.330000    97.000000   \n",
              "max           2500.000000    99.000000          17.600000    99.000000   \n",
              "\n",
              "          HIV/AIDS            GDP  \n",
              "count  2938.000000    2938.000000  \n",
              "mean      1.742103    6342.091419  \n",
              "std       5.077785   13409.501883  \n",
              "min       0.100000       0.000000  \n",
              "25%       0.100000     190.174435  \n",
              "50%       0.100000    1171.983435  \n",
              "75%       0.800000    4779.405190  \n",
              "max      50.600000  119172.741800  "
            ],
            "text/html": [
              "\n",
              "  <div id=\"df-bcdfdb0a-d059-4e2b-9fe0-2ac0051b3fc8\">\n",
              "    <div class=\"colab-df-container\">\n",
              "      <div>\n",
              "<style scoped>\n",
              "    .dataframe tbody tr th:only-of-type {\n",
              "        vertical-align: middle;\n",
              "    }\n",
              "\n",
              "    .dataframe tbody tr th {\n",
              "        vertical-align: top;\n",
              "    }\n",
              "\n",
              "    .dataframe thead th {\n",
              "        text-align: right;\n",
              "    }\n",
              "</style>\n",
              "<table border=\"1\" class=\"dataframe\">\n",
              "  <thead>\n",
              "    <tr style=\"text-align: right;\">\n",
              "      <th></th>\n",
              "      <th>Status</th>\n",
              "      <th>Life expectancy</th>\n",
              "      <th>Adult Mortality</th>\n",
              "      <th>infant deaths</th>\n",
              "      <th>Alcohol</th>\n",
              "      <th>Hepatitis B</th>\n",
              "      <th>Measles</th>\n",
              "      <th>BMI</th>\n",
              "      <th>under-five deaths</th>\n",
              "      <th>Polio</th>\n",
              "      <th>Total expenditure</th>\n",
              "      <th>Diphtheria</th>\n",
              "      <th>HIV/AIDS</th>\n",
              "      <th>GDP</th>\n",
              "    </tr>\n",
              "  </thead>\n",
              "  <tbody>\n",
              "    <tr>\n",
              "      <th>count</th>\n",
              "      <td>2938.000000</td>\n",
              "      <td>2938.000000</td>\n",
              "      <td>2938.000000</td>\n",
              "      <td>2938.000000</td>\n",
              "      <td>2938.000000</td>\n",
              "      <td>2938.000000</td>\n",
              "      <td>2938.000000</td>\n",
              "      <td>2938.000000</td>\n",
              "      <td>2938.000000</td>\n",
              "      <td>2938.000000</td>\n",
              "      <td>2938.000000</td>\n",
              "      <td>2938.000000</td>\n",
              "      <td>2938.000000</td>\n",
              "      <td>2938.000000</td>\n",
              "    </tr>\n",
              "    <tr>\n",
              "      <th>mean</th>\n",
              "      <td>0.825732</td>\n",
              "      <td>68.989312</td>\n",
              "      <td>164.235534</td>\n",
              "      <td>30.303948</td>\n",
              "      <td>4.298928</td>\n",
              "      <td>65.705582</td>\n",
              "      <td>2419.592240</td>\n",
              "      <td>37.877774</td>\n",
              "      <td>42.035739</td>\n",
              "      <td>82.016338</td>\n",
              "      <td>5.481406</td>\n",
              "      <td>81.791695</td>\n",
              "      <td>1.742103</td>\n",
              "      <td>6342.091419</td>\n",
              "    </tr>\n",
              "    <tr>\n",
              "      <th>std</th>\n",
              "      <td>0.379405</td>\n",
              "      <td>10.327437</td>\n",
              "      <td>124.451093</td>\n",
              "      <td>117.926501</td>\n",
              "      <td>4.079748</td>\n",
              "      <td>38.878316</td>\n",
              "      <td>11467.272489</td>\n",
              "      <td>20.344920</td>\n",
              "      <td>160.445548</td>\n",
              "      <td>24.271835</td>\n",
              "      <td>2.875063</td>\n",
              "      <td>24.544100</td>\n",
              "      <td>5.077785</td>\n",
              "      <td>13409.501883</td>\n",
              "    </tr>\n",
              "    <tr>\n",
              "      <th>min</th>\n",
              "      <td>0.000000</td>\n",
              "      <td>0.000000</td>\n",
              "      <td>0.000000</td>\n",
              "      <td>0.000000</td>\n",
              "      <td>0.000000</td>\n",
              "      <td>0.000000</td>\n",
              "      <td>0.000000</td>\n",
              "      <td>0.000000</td>\n",
              "      <td>0.000000</td>\n",
              "      <td>0.000000</td>\n",
              "      <td>0.000000</td>\n",
              "      <td>0.000000</td>\n",
              "      <td>0.100000</td>\n",
              "      <td>0.000000</td>\n",
              "    </tr>\n",
              "    <tr>\n",
              "      <th>25%</th>\n",
              "      <td>1.000000</td>\n",
              "      <td>63.000000</td>\n",
              "      <td>73.000000</td>\n",
              "      <td>0.000000</td>\n",
              "      <td>0.470000</td>\n",
              "      <td>24.000000</td>\n",
              "      <td>0.000000</td>\n",
              "      <td>19.000000</td>\n",
              "      <td>0.000000</td>\n",
              "      <td>77.000000</td>\n",
              "      <td>3.740000</td>\n",
              "      <td>78.000000</td>\n",
              "      <td>0.100000</td>\n",
              "      <td>190.174435</td>\n",
              "    </tr>\n",
              "    <tr>\n",
              "      <th>50%</th>\n",
              "      <td>1.000000</td>\n",
              "      <td>72.000000</td>\n",
              "      <td>144.000000</td>\n",
              "      <td>3.000000</td>\n",
              "      <td>3.130000</td>\n",
              "      <td>87.000000</td>\n",
              "      <td>17.000000</td>\n",
              "      <td>43.000000</td>\n",
              "      <td>4.000000</td>\n",
              "      <td>93.000000</td>\n",
              "      <td>5.540000</td>\n",
              "      <td>93.000000</td>\n",
              "      <td>0.100000</td>\n",
              "      <td>1171.983435</td>\n",
              "    </tr>\n",
              "    <tr>\n",
              "      <th>75%</th>\n",
              "      <td>1.000000</td>\n",
              "      <td>75.600000</td>\n",
              "      <td>227.000000</td>\n",
              "      <td>22.000000</td>\n",
              "      <td>7.390000</td>\n",
              "      <td>96.000000</td>\n",
              "      <td>360.250000</td>\n",
              "      <td>56.100000</td>\n",
              "      <td>28.000000</td>\n",
              "      <td>97.000000</td>\n",
              "      <td>7.330000</td>\n",
              "      <td>97.000000</td>\n",
              "      <td>0.800000</td>\n",
              "      <td>4779.405190</td>\n",
              "    </tr>\n",
              "    <tr>\n",
              "      <th>max</th>\n",
              "      <td>1.000000</td>\n",
              "      <td>89.000000</td>\n",
              "      <td>723.000000</td>\n",
              "      <td>1800.000000</td>\n",
              "      <td>17.870000</td>\n",
              "      <td>99.000000</td>\n",
              "      <td>212183.000000</td>\n",
              "      <td>87.300000</td>\n",
              "      <td>2500.000000</td>\n",
              "      <td>99.000000</td>\n",
              "      <td>17.600000</td>\n",
              "      <td>99.000000</td>\n",
              "      <td>50.600000</td>\n",
              "      <td>119172.741800</td>\n",
              "    </tr>\n",
              "  </tbody>\n",
              "</table>\n",
              "</div>\n",
              "      <button class=\"colab-df-convert\" onclick=\"convertToInteractive('df-bcdfdb0a-d059-4e2b-9fe0-2ac0051b3fc8')\"\n",
              "              title=\"Convert this dataframe to an interactive table.\"\n",
              "              style=\"display:none;\">\n",
              "        \n",
              "  <svg xmlns=\"http://www.w3.org/2000/svg\" height=\"24px\"viewBox=\"0 0 24 24\"\n",
              "       width=\"24px\">\n",
              "    <path d=\"M0 0h24v24H0V0z\" fill=\"none\"/>\n",
              "    <path d=\"M18.56 5.44l.94 2.06.94-2.06 2.06-.94-2.06-.94-.94-2.06-.94 2.06-2.06.94zm-11 1L8.5 8.5l.94-2.06 2.06-.94-2.06-.94L8.5 2.5l-.94 2.06-2.06.94zm10 10l.94 2.06.94-2.06 2.06-.94-2.06-.94-.94-2.06-.94 2.06-2.06.94z\"/><path d=\"M17.41 7.96l-1.37-1.37c-.4-.4-.92-.59-1.43-.59-.52 0-1.04.2-1.43.59L10.3 9.45l-7.72 7.72c-.78.78-.78 2.05 0 2.83L4 21.41c.39.39.9.59 1.41.59.51 0 1.02-.2 1.41-.59l7.78-7.78 2.81-2.81c.8-.78.8-2.07 0-2.86zM5.41 20L4 18.59l7.72-7.72 1.47 1.35L5.41 20z\"/>\n",
              "  </svg>\n",
              "      </button>\n",
              "      \n",
              "  <style>\n",
              "    .colab-df-container {\n",
              "      display:flex;\n",
              "      flex-wrap:wrap;\n",
              "      gap: 12px;\n",
              "    }\n",
              "\n",
              "    .colab-df-convert {\n",
              "      background-color: #E8F0FE;\n",
              "      border: none;\n",
              "      border-radius: 50%;\n",
              "      cursor: pointer;\n",
              "      display: none;\n",
              "      fill: #1967D2;\n",
              "      height: 32px;\n",
              "      padding: 0 0 0 0;\n",
              "      width: 32px;\n",
              "    }\n",
              "\n",
              "    .colab-df-convert:hover {\n",
              "      background-color: #E2EBFA;\n",
              "      box-shadow: 0px 1px 2px rgba(60, 64, 67, 0.3), 0px 1px 3px 1px rgba(60, 64, 67, 0.15);\n",
              "      fill: #174EA6;\n",
              "    }\n",
              "\n",
              "    [theme=dark] .colab-df-convert {\n",
              "      background-color: #3B4455;\n",
              "      fill: #D2E3FC;\n",
              "    }\n",
              "\n",
              "    [theme=dark] .colab-df-convert:hover {\n",
              "      background-color: #434B5C;\n",
              "      box-shadow: 0px 1px 3px 1px rgba(0, 0, 0, 0.15);\n",
              "      filter: drop-shadow(0px 1px 2px rgba(0, 0, 0, 0.3));\n",
              "      fill: #FFFFFF;\n",
              "    }\n",
              "  </style>\n",
              "\n",
              "      <script>\n",
              "        const buttonEl =\n",
              "          document.querySelector('#df-bcdfdb0a-d059-4e2b-9fe0-2ac0051b3fc8 button.colab-df-convert');\n",
              "        buttonEl.style.display =\n",
              "          google.colab.kernel.accessAllowed ? 'block' : 'none';\n",
              "\n",
              "        async function convertToInteractive(key) {\n",
              "          const element = document.querySelector('#df-bcdfdb0a-d059-4e2b-9fe0-2ac0051b3fc8');\n",
              "          const dataTable =\n",
              "            await google.colab.kernel.invokeFunction('convertToInteractive',\n",
              "                                                     [key], {});\n",
              "          if (!dataTable) return;\n",
              "\n",
              "          const docLinkHtml = 'Like what you see? Visit the ' +\n",
              "            '<a target=\"_blank\" href=https://colab.research.google.com/notebooks/data_table.ipynb>data table notebook</a>'\n",
              "            + ' to learn more about interactive tables.';\n",
              "          element.innerHTML = '';\n",
              "          dataTable['output_type'] = 'display_data';\n",
              "          await google.colab.output.renderOutput(dataTable, element);\n",
              "          const docLink = document.createElement('div');\n",
              "          docLink.innerHTML = docLinkHtml;\n",
              "          element.appendChild(docLink);\n",
              "        }\n",
              "      </script>\n",
              "    </div>\n",
              "  </div>\n",
              "  "
            ]
          },
          "metadata": {},
          "execution_count": 28
        }
      ],
      "source": [
        "final_life_pre.describe()"
      ]
    },
    {
      "cell_type": "markdown",
      "metadata": {
        "id": "1RvDZZno5i3S"
      },
      "source": [
        "# train 데이터와 test 데이터로 분리 (train 80%, test 20% ,랜덤 샘플링)"
      ]
    },
    {
      "cell_type": "code",
      "execution_count": 29,
      "metadata": {
        "id": "jT7INKtL5fiz"
      },
      "outputs": [],
      "source": [
        "# shuffle = True\n",
        "life_expect_train, life_expect_test= train_test_split(final_life_pre,test_size=0.2,shuffle=True,random_state=1004)"
      ]
    },
    {
      "cell_type": "code",
      "execution_count": 30,
      "metadata": {
        "colab": {
          "base_uri": "https://localhost:8080/"
        },
        "id": "fdBMKYqn5mZ-",
        "outputId": "f595207d-8c04-4fea-d90a-34bc465d6d91"
      },
      "outputs": [
        {
          "output_type": "execute_result",
          "data": {
            "text/plain": [
              "(2350, 15)"
            ]
          },
          "metadata": {},
          "execution_count": 30
        }
      ],
      "source": [
        "life_expect_train.shape"
      ]
    },
    {
      "cell_type": "code",
      "execution_count": 31,
      "metadata": {
        "colab": {
          "base_uri": "https://localhost:8080/"
        },
        "id": "ufIqkpdq6Spw",
        "outputId": "0ec2f177-0128-4301-b8ce-a871fb42b8a8"
      },
      "outputs": [
        {
          "output_type": "execute_result",
          "data": {
            "text/plain": [
              "(588, 15)"
            ]
          },
          "metadata": {},
          "execution_count": 31
        }
      ],
      "source": [
        "life_expect_test.shape"
      ]
    },
    {
      "cell_type": "code",
      "execution_count": 32,
      "metadata": {
        "colab": {
          "base_uri": "https://localhost:8080/",
          "height": 206
        },
        "id": "zfVJjxFH6WvA",
        "outputId": "8d9aa59b-4038-4312-9cd8-b2aab1066539"
      },
      "outputs": [
        {
          "output_type": "execute_result",
          "data": {
            "text/plain": [
              "         Country  Status  Life expectancy   Adult Mortality  infant deaths  \\\n",
              "1893     Nigeria       1              54.5            344.0            483   \n",
              "1172     Iceland       0              82.4              5.0              0   \n",
              "2832  Uzbekistan       1              68.0            183.0             21   \n",
              "1072   Guatemala       1              68.4            211.0             16   \n",
              "982      Georgia       1              73.9            127.0              1   \n",
              "\n",
              "      Alcohol  Hepatitis B  Measles    BMI   under-five deaths   Polio  \\\n",
              "1893     0.00         49.0     12423   25.4                 747   49.0   \n",
              "1172     7.31          0.0         0    6.2                   0   91.0   \n",
              "2832     2.56         98.0         0    4.0                  24   99.0   \n",
              "1072     2.53          0.0         0   41.1                  20   78.0   \n",
              "982      8.14         89.0        64   52.8                   1   88.0   \n",
              "\n",
              "      Total expenditure  Diphtheria    HIV/AIDS          GDP  \n",
              "1893               0.00         49.0        3.7  2655.157977  \n",
              "1172               8.75         91.0        0.1  4781.388800  \n",
              "2832               6.31         98.0        0.2  1213.265328  \n",
              "1072               6.76         77.0        0.3  1568.376276  \n",
              "982                9.38         94.0        0.1  3725.632210  "
            ],
            "text/html": [
              "\n",
              "  <div id=\"df-8957cb5f-83ec-487d-8553-4b430eb4b2d6\">\n",
              "    <div class=\"colab-df-container\">\n",
              "      <div>\n",
              "<style scoped>\n",
              "    .dataframe tbody tr th:only-of-type {\n",
              "        vertical-align: middle;\n",
              "    }\n",
              "\n",
              "    .dataframe tbody tr th {\n",
              "        vertical-align: top;\n",
              "    }\n",
              "\n",
              "    .dataframe thead th {\n",
              "        text-align: right;\n",
              "    }\n",
              "</style>\n",
              "<table border=\"1\" class=\"dataframe\">\n",
              "  <thead>\n",
              "    <tr style=\"text-align: right;\">\n",
              "      <th></th>\n",
              "      <th>Country</th>\n",
              "      <th>Status</th>\n",
              "      <th>Life expectancy</th>\n",
              "      <th>Adult Mortality</th>\n",
              "      <th>infant deaths</th>\n",
              "      <th>Alcohol</th>\n",
              "      <th>Hepatitis B</th>\n",
              "      <th>Measles</th>\n",
              "      <th>BMI</th>\n",
              "      <th>under-five deaths</th>\n",
              "      <th>Polio</th>\n",
              "      <th>Total expenditure</th>\n",
              "      <th>Diphtheria</th>\n",
              "      <th>HIV/AIDS</th>\n",
              "      <th>GDP</th>\n",
              "    </tr>\n",
              "  </thead>\n",
              "  <tbody>\n",
              "    <tr>\n",
              "      <th>1893</th>\n",
              "      <td>Nigeria</td>\n",
              "      <td>1</td>\n",
              "      <td>54.5</td>\n",
              "      <td>344.0</td>\n",
              "      <td>483</td>\n",
              "      <td>0.00</td>\n",
              "      <td>49.0</td>\n",
              "      <td>12423</td>\n",
              "      <td>25.4</td>\n",
              "      <td>747</td>\n",
              "      <td>49.0</td>\n",
              "      <td>0.00</td>\n",
              "      <td>49.0</td>\n",
              "      <td>3.7</td>\n",
              "      <td>2655.157977</td>\n",
              "    </tr>\n",
              "    <tr>\n",
              "      <th>1172</th>\n",
              "      <td>Iceland</td>\n",
              "      <td>0</td>\n",
              "      <td>82.4</td>\n",
              "      <td>5.0</td>\n",
              "      <td>0</td>\n",
              "      <td>7.31</td>\n",
              "      <td>0.0</td>\n",
              "      <td>0</td>\n",
              "      <td>6.2</td>\n",
              "      <td>0</td>\n",
              "      <td>91.0</td>\n",
              "      <td>8.75</td>\n",
              "      <td>91.0</td>\n",
              "      <td>0.1</td>\n",
              "      <td>4781.388800</td>\n",
              "    </tr>\n",
              "    <tr>\n",
              "      <th>2832</th>\n",
              "      <td>Uzbekistan</td>\n",
              "      <td>1</td>\n",
              "      <td>68.0</td>\n",
              "      <td>183.0</td>\n",
              "      <td>21</td>\n",
              "      <td>2.56</td>\n",
              "      <td>98.0</td>\n",
              "      <td>0</td>\n",
              "      <td>4.0</td>\n",
              "      <td>24</td>\n",
              "      <td>99.0</td>\n",
              "      <td>6.31</td>\n",
              "      <td>98.0</td>\n",
              "      <td>0.2</td>\n",
              "      <td>1213.265328</td>\n",
              "    </tr>\n",
              "    <tr>\n",
              "      <th>1072</th>\n",
              "      <td>Guatemala</td>\n",
              "      <td>1</td>\n",
              "      <td>68.4</td>\n",
              "      <td>211.0</td>\n",
              "      <td>16</td>\n",
              "      <td>2.53</td>\n",
              "      <td>0.0</td>\n",
              "      <td>0</td>\n",
              "      <td>41.1</td>\n",
              "      <td>20</td>\n",
              "      <td>78.0</td>\n",
              "      <td>6.76</td>\n",
              "      <td>77.0</td>\n",
              "      <td>0.3</td>\n",
              "      <td>1568.376276</td>\n",
              "    </tr>\n",
              "    <tr>\n",
              "      <th>982</th>\n",
              "      <td>Georgia</td>\n",
              "      <td>1</td>\n",
              "      <td>73.9</td>\n",
              "      <td>127.0</td>\n",
              "      <td>1</td>\n",
              "      <td>8.14</td>\n",
              "      <td>89.0</td>\n",
              "      <td>64</td>\n",
              "      <td>52.8</td>\n",
              "      <td>1</td>\n",
              "      <td>88.0</td>\n",
              "      <td>9.38</td>\n",
              "      <td>94.0</td>\n",
              "      <td>0.1</td>\n",
              "      <td>3725.632210</td>\n",
              "    </tr>\n",
              "  </tbody>\n",
              "</table>\n",
              "</div>\n",
              "      <button class=\"colab-df-convert\" onclick=\"convertToInteractive('df-8957cb5f-83ec-487d-8553-4b430eb4b2d6')\"\n",
              "              title=\"Convert this dataframe to an interactive table.\"\n",
              "              style=\"display:none;\">\n",
              "        \n",
              "  <svg xmlns=\"http://www.w3.org/2000/svg\" height=\"24px\"viewBox=\"0 0 24 24\"\n",
              "       width=\"24px\">\n",
              "    <path d=\"M0 0h24v24H0V0z\" fill=\"none\"/>\n",
              "    <path d=\"M18.56 5.44l.94 2.06.94-2.06 2.06-.94-2.06-.94-.94-2.06-.94 2.06-2.06.94zm-11 1L8.5 8.5l.94-2.06 2.06-.94-2.06-.94L8.5 2.5l-.94 2.06-2.06.94zm10 10l.94 2.06.94-2.06 2.06-.94-2.06-.94-.94-2.06-.94 2.06-2.06.94z\"/><path d=\"M17.41 7.96l-1.37-1.37c-.4-.4-.92-.59-1.43-.59-.52 0-1.04.2-1.43.59L10.3 9.45l-7.72 7.72c-.78.78-.78 2.05 0 2.83L4 21.41c.39.39.9.59 1.41.59.51 0 1.02-.2 1.41-.59l7.78-7.78 2.81-2.81c.8-.78.8-2.07 0-2.86zM5.41 20L4 18.59l7.72-7.72 1.47 1.35L5.41 20z\"/>\n",
              "  </svg>\n",
              "      </button>\n",
              "      \n",
              "  <style>\n",
              "    .colab-df-container {\n",
              "      display:flex;\n",
              "      flex-wrap:wrap;\n",
              "      gap: 12px;\n",
              "    }\n",
              "\n",
              "    .colab-df-convert {\n",
              "      background-color: #E8F0FE;\n",
              "      border: none;\n",
              "      border-radius: 50%;\n",
              "      cursor: pointer;\n",
              "      display: none;\n",
              "      fill: #1967D2;\n",
              "      height: 32px;\n",
              "      padding: 0 0 0 0;\n",
              "      width: 32px;\n",
              "    }\n",
              "\n",
              "    .colab-df-convert:hover {\n",
              "      background-color: #E2EBFA;\n",
              "      box-shadow: 0px 1px 2px rgba(60, 64, 67, 0.3), 0px 1px 3px 1px rgba(60, 64, 67, 0.15);\n",
              "      fill: #174EA6;\n",
              "    }\n",
              "\n",
              "    [theme=dark] .colab-df-convert {\n",
              "      background-color: #3B4455;\n",
              "      fill: #D2E3FC;\n",
              "    }\n",
              "\n",
              "    [theme=dark] .colab-df-convert:hover {\n",
              "      background-color: #434B5C;\n",
              "      box-shadow: 0px 1px 3px 1px rgba(0, 0, 0, 0.15);\n",
              "      filter: drop-shadow(0px 1px 2px rgba(0, 0, 0, 0.3));\n",
              "      fill: #FFFFFF;\n",
              "    }\n",
              "  </style>\n",
              "\n",
              "      <script>\n",
              "        const buttonEl =\n",
              "          document.querySelector('#df-8957cb5f-83ec-487d-8553-4b430eb4b2d6 button.colab-df-convert');\n",
              "        buttonEl.style.display =\n",
              "          google.colab.kernel.accessAllowed ? 'block' : 'none';\n",
              "\n",
              "        async function convertToInteractive(key) {\n",
              "          const element = document.querySelector('#df-8957cb5f-83ec-487d-8553-4b430eb4b2d6');\n",
              "          const dataTable =\n",
              "            await google.colab.kernel.invokeFunction('convertToInteractive',\n",
              "                                                     [key], {});\n",
              "          if (!dataTable) return;\n",
              "\n",
              "          const docLinkHtml = 'Like what you see? Visit the ' +\n",
              "            '<a target=\"_blank\" href=https://colab.research.google.com/notebooks/data_table.ipynb>data table notebook</a>'\n",
              "            + ' to learn more about interactive tables.';\n",
              "          element.innerHTML = '';\n",
              "          dataTable['output_type'] = 'display_data';\n",
              "          await google.colab.output.renderOutput(dataTable, element);\n",
              "          const docLink = document.createElement('div');\n",
              "          docLink.innerHTML = docLinkHtml;\n",
              "          element.appendChild(docLink);\n",
              "        }\n",
              "      </script>\n",
              "    </div>\n",
              "  </div>\n",
              "  "
            ]
          },
          "metadata": {},
          "execution_count": 32
        }
      ],
      "source": [
        "life_expect_train.head()"
      ]
    },
    {
      "cell_type": "code",
      "execution_count": 33,
      "metadata": {
        "colab": {
          "base_uri": "https://localhost:8080/",
          "height": 250
        },
        "id": "cmKzmYKA6gTe",
        "outputId": "ffc61180-ccbb-4799-92b9-be9f5eb33616"
      },
      "outputs": [
        {
          "output_type": "execute_result",
          "data": {
            "text/plain": [
              "                   Country  Status  Life expectancy   Adult Mortality  \\\n",
              "2503             Swaziland       1              47.1            568.0   \n",
              "2761  United Arab Emirates       1              74.2             17.0   \n",
              "1894               Nigeria       1              53.6            362.0   \n",
              "1069             Guatemala       1              69.6             21.0   \n",
              "862                Eritrea       1              58.8            343.0   \n",
              "\n",
              "      infant deaths  Alcohol  Hepatitis B  Measles    BMI   \\\n",
              "2503              3     6.72         86.0        49   26.3   \n",
              "2761              1     1.64         92.0        69   54.1   \n",
              "1894            490     0.01         49.0      6855   24.7   \n",
              "1069             15     2.40          0.0         0   43.1   \n",
              "862               7     0.56         91.0       376   13.3   \n",
              "\n",
              "      under-five deaths   Polio  Total expenditure  Diphtheria    HIV/AIDS  \\\n",
              "2503                   4   87.0               5.11         84.0       48.8   \n",
              "2761                   1   94.0               2.38         94.0        0.1   \n",
              "1894                 759   49.0               3.67         49.0        3.9   \n",
              "1069                  18   88.0               6.77         87.0        0.4   \n",
              "862                   10   95.0               3.50         93.0        1.9   \n",
              "\n",
              "              GDP  \n",
              "2503  1437.634951  \n",
              "2761  3371.268690  \n",
              "1894  3221.678128  \n",
              "1069  1872.737830  \n",
              "862    232.794546  "
            ],
            "text/html": [
              "\n",
              "  <div id=\"df-7ccbea0e-b08d-4460-9dd3-df7210db5910\">\n",
              "    <div class=\"colab-df-container\">\n",
              "      <div>\n",
              "<style scoped>\n",
              "    .dataframe tbody tr th:only-of-type {\n",
              "        vertical-align: middle;\n",
              "    }\n",
              "\n",
              "    .dataframe tbody tr th {\n",
              "        vertical-align: top;\n",
              "    }\n",
              "\n",
              "    .dataframe thead th {\n",
              "        text-align: right;\n",
              "    }\n",
              "</style>\n",
              "<table border=\"1\" class=\"dataframe\">\n",
              "  <thead>\n",
              "    <tr style=\"text-align: right;\">\n",
              "      <th></th>\n",
              "      <th>Country</th>\n",
              "      <th>Status</th>\n",
              "      <th>Life expectancy</th>\n",
              "      <th>Adult Mortality</th>\n",
              "      <th>infant deaths</th>\n",
              "      <th>Alcohol</th>\n",
              "      <th>Hepatitis B</th>\n",
              "      <th>Measles</th>\n",
              "      <th>BMI</th>\n",
              "      <th>under-five deaths</th>\n",
              "      <th>Polio</th>\n",
              "      <th>Total expenditure</th>\n",
              "      <th>Diphtheria</th>\n",
              "      <th>HIV/AIDS</th>\n",
              "      <th>GDP</th>\n",
              "    </tr>\n",
              "  </thead>\n",
              "  <tbody>\n",
              "    <tr>\n",
              "      <th>2503</th>\n",
              "      <td>Swaziland</td>\n",
              "      <td>1</td>\n",
              "      <td>47.1</td>\n",
              "      <td>568.0</td>\n",
              "      <td>3</td>\n",
              "      <td>6.72</td>\n",
              "      <td>86.0</td>\n",
              "      <td>49</td>\n",
              "      <td>26.3</td>\n",
              "      <td>4</td>\n",
              "      <td>87.0</td>\n",
              "      <td>5.11</td>\n",
              "      <td>84.0</td>\n",
              "      <td>48.8</td>\n",
              "      <td>1437.634951</td>\n",
              "    </tr>\n",
              "    <tr>\n",
              "      <th>2761</th>\n",
              "      <td>United Arab Emirates</td>\n",
              "      <td>1</td>\n",
              "      <td>74.2</td>\n",
              "      <td>17.0</td>\n",
              "      <td>1</td>\n",
              "      <td>1.64</td>\n",
              "      <td>92.0</td>\n",
              "      <td>69</td>\n",
              "      <td>54.1</td>\n",
              "      <td>1</td>\n",
              "      <td>94.0</td>\n",
              "      <td>2.38</td>\n",
              "      <td>94.0</td>\n",
              "      <td>0.1</td>\n",
              "      <td>3371.268690</td>\n",
              "    </tr>\n",
              "    <tr>\n",
              "      <th>1894</th>\n",
              "      <td>Nigeria</td>\n",
              "      <td>1</td>\n",
              "      <td>53.6</td>\n",
              "      <td>362.0</td>\n",
              "      <td>490</td>\n",
              "      <td>0.01</td>\n",
              "      <td>49.0</td>\n",
              "      <td>6855</td>\n",
              "      <td>24.7</td>\n",
              "      <td>759</td>\n",
              "      <td>49.0</td>\n",
              "      <td>3.67</td>\n",
              "      <td>49.0</td>\n",
              "      <td>3.9</td>\n",
              "      <td>3221.678128</td>\n",
              "    </tr>\n",
              "    <tr>\n",
              "      <th>1069</th>\n",
              "      <td>Guatemala</td>\n",
              "      <td>1</td>\n",
              "      <td>69.6</td>\n",
              "      <td>21.0</td>\n",
              "      <td>15</td>\n",
              "      <td>2.40</td>\n",
              "      <td>0.0</td>\n",
              "      <td>0</td>\n",
              "      <td>43.1</td>\n",
              "      <td>18</td>\n",
              "      <td>88.0</td>\n",
              "      <td>6.77</td>\n",
              "      <td>87.0</td>\n",
              "      <td>0.4</td>\n",
              "      <td>1872.737830</td>\n",
              "    </tr>\n",
              "    <tr>\n",
              "      <th>862</th>\n",
              "      <td>Eritrea</td>\n",
              "      <td>1</td>\n",
              "      <td>58.8</td>\n",
              "      <td>343.0</td>\n",
              "      <td>7</td>\n",
              "      <td>0.56</td>\n",
              "      <td>91.0</td>\n",
              "      <td>376</td>\n",
              "      <td>13.3</td>\n",
              "      <td>10</td>\n",
              "      <td>95.0</td>\n",
              "      <td>3.50</td>\n",
              "      <td>93.0</td>\n",
              "      <td>1.9</td>\n",
              "      <td>232.794546</td>\n",
              "    </tr>\n",
              "  </tbody>\n",
              "</table>\n",
              "</div>\n",
              "      <button class=\"colab-df-convert\" onclick=\"convertToInteractive('df-7ccbea0e-b08d-4460-9dd3-df7210db5910')\"\n",
              "              title=\"Convert this dataframe to an interactive table.\"\n",
              "              style=\"display:none;\">\n",
              "        \n",
              "  <svg xmlns=\"http://www.w3.org/2000/svg\" height=\"24px\"viewBox=\"0 0 24 24\"\n",
              "       width=\"24px\">\n",
              "    <path d=\"M0 0h24v24H0V0z\" fill=\"none\"/>\n",
              "    <path d=\"M18.56 5.44l.94 2.06.94-2.06 2.06-.94-2.06-.94-.94-2.06-.94 2.06-2.06.94zm-11 1L8.5 8.5l.94-2.06 2.06-.94-2.06-.94L8.5 2.5l-.94 2.06-2.06.94zm10 10l.94 2.06.94-2.06 2.06-.94-2.06-.94-.94-2.06-.94 2.06-2.06.94z\"/><path d=\"M17.41 7.96l-1.37-1.37c-.4-.4-.92-.59-1.43-.59-.52 0-1.04.2-1.43.59L10.3 9.45l-7.72 7.72c-.78.78-.78 2.05 0 2.83L4 21.41c.39.39.9.59 1.41.59.51 0 1.02-.2 1.41-.59l7.78-7.78 2.81-2.81c.8-.78.8-2.07 0-2.86zM5.41 20L4 18.59l7.72-7.72 1.47 1.35L5.41 20z\"/>\n",
              "  </svg>\n",
              "      </button>\n",
              "      \n",
              "  <style>\n",
              "    .colab-df-container {\n",
              "      display:flex;\n",
              "      flex-wrap:wrap;\n",
              "      gap: 12px;\n",
              "    }\n",
              "\n",
              "    .colab-df-convert {\n",
              "      background-color: #E8F0FE;\n",
              "      border: none;\n",
              "      border-radius: 50%;\n",
              "      cursor: pointer;\n",
              "      display: none;\n",
              "      fill: #1967D2;\n",
              "      height: 32px;\n",
              "      padding: 0 0 0 0;\n",
              "      width: 32px;\n",
              "    }\n",
              "\n",
              "    .colab-df-convert:hover {\n",
              "      background-color: #E2EBFA;\n",
              "      box-shadow: 0px 1px 2px rgba(60, 64, 67, 0.3), 0px 1px 3px 1px rgba(60, 64, 67, 0.15);\n",
              "      fill: #174EA6;\n",
              "    }\n",
              "\n",
              "    [theme=dark] .colab-df-convert {\n",
              "      background-color: #3B4455;\n",
              "      fill: #D2E3FC;\n",
              "    }\n",
              "\n",
              "    [theme=dark] .colab-df-convert:hover {\n",
              "      background-color: #434B5C;\n",
              "      box-shadow: 0px 1px 3px 1px rgba(0, 0, 0, 0.15);\n",
              "      filter: drop-shadow(0px 1px 2px rgba(0, 0, 0, 0.3));\n",
              "      fill: #FFFFFF;\n",
              "    }\n",
              "  </style>\n",
              "\n",
              "      <script>\n",
              "        const buttonEl =\n",
              "          document.querySelector('#df-7ccbea0e-b08d-4460-9dd3-df7210db5910 button.colab-df-convert');\n",
              "        buttonEl.style.display =\n",
              "          google.colab.kernel.accessAllowed ? 'block' : 'none';\n",
              "\n",
              "        async function convertToInteractive(key) {\n",
              "          const element = document.querySelector('#df-7ccbea0e-b08d-4460-9dd3-df7210db5910');\n",
              "          const dataTable =\n",
              "            await google.colab.kernel.invokeFunction('convertToInteractive',\n",
              "                                                     [key], {});\n",
              "          if (!dataTable) return;\n",
              "\n",
              "          const docLinkHtml = 'Like what you see? Visit the ' +\n",
              "            '<a target=\"_blank\" href=https://colab.research.google.com/notebooks/data_table.ipynb>data table notebook</a>'\n",
              "            + ' to learn more about interactive tables.';\n",
              "          element.innerHTML = '';\n",
              "          dataTable['output_type'] = 'display_data';\n",
              "          await google.colab.output.renderOutput(dataTable, element);\n",
              "          const docLink = document.createElement('div');\n",
              "          docLink.innerHTML = docLinkHtml;\n",
              "          element.appendChild(docLink);\n",
              "        }\n",
              "      </script>\n",
              "    </div>\n",
              "  </div>\n",
              "  "
            ]
          },
          "metadata": {},
          "execution_count": 33
        }
      ],
      "source": [
        "life_expect_test.head()"
      ]
    },
    {
      "cell_type": "code",
      "execution_count": 34,
      "metadata": {
        "id": "T0mKqppxDHex"
      },
      "outputs": [],
      "source": [
        "show_expect_test = life_expect_test[['Country','Life expectancy ']]\n",
        "\n"
      ]
    },
    {
      "cell_type": "code",
      "execution_count": 35,
      "metadata": {
        "colab": {
          "base_uri": "https://localhost:8080/",
          "height": 423
        },
        "id": "B-6cSwdmDnyA",
        "outputId": "cf466991-188e-4d3e-e1cb-b737dbb2226a"
      },
      "outputs": [
        {
          "output_type": "execute_result",
          "data": {
            "text/plain": [
              "                   Country  Life expectancy \n",
              "2503             Swaziland              47.1\n",
              "2761  United Arab Emirates              74.2\n",
              "1894               Nigeria              53.6\n",
              "1069             Guatemala              69.6\n",
              "862                Eritrea              58.8\n",
              "...                    ...               ...\n",
              "1038                Greece              79.1\n",
              "1975      Papua New Guinea              62.9\n",
              "1883                 Niger              57.1\n",
              "2494             Swaziland              53.6\n",
              "980                Georgia              74.5\n",
              "\n",
              "[588 rows x 2 columns]"
            ],
            "text/html": [
              "\n",
              "  <div id=\"df-c7b8e86a-fdde-4913-8b46-0fea36812492\">\n",
              "    <div class=\"colab-df-container\">\n",
              "      <div>\n",
              "<style scoped>\n",
              "    .dataframe tbody tr th:only-of-type {\n",
              "        vertical-align: middle;\n",
              "    }\n",
              "\n",
              "    .dataframe tbody tr th {\n",
              "        vertical-align: top;\n",
              "    }\n",
              "\n",
              "    .dataframe thead th {\n",
              "        text-align: right;\n",
              "    }\n",
              "</style>\n",
              "<table border=\"1\" class=\"dataframe\">\n",
              "  <thead>\n",
              "    <tr style=\"text-align: right;\">\n",
              "      <th></th>\n",
              "      <th>Country</th>\n",
              "      <th>Life expectancy</th>\n",
              "    </tr>\n",
              "  </thead>\n",
              "  <tbody>\n",
              "    <tr>\n",
              "      <th>2503</th>\n",
              "      <td>Swaziland</td>\n",
              "      <td>47.1</td>\n",
              "    </tr>\n",
              "    <tr>\n",
              "      <th>2761</th>\n",
              "      <td>United Arab Emirates</td>\n",
              "      <td>74.2</td>\n",
              "    </tr>\n",
              "    <tr>\n",
              "      <th>1894</th>\n",
              "      <td>Nigeria</td>\n",
              "      <td>53.6</td>\n",
              "    </tr>\n",
              "    <tr>\n",
              "      <th>1069</th>\n",
              "      <td>Guatemala</td>\n",
              "      <td>69.6</td>\n",
              "    </tr>\n",
              "    <tr>\n",
              "      <th>862</th>\n",
              "      <td>Eritrea</td>\n",
              "      <td>58.8</td>\n",
              "    </tr>\n",
              "    <tr>\n",
              "      <th>...</th>\n",
              "      <td>...</td>\n",
              "      <td>...</td>\n",
              "    </tr>\n",
              "    <tr>\n",
              "      <th>1038</th>\n",
              "      <td>Greece</td>\n",
              "      <td>79.1</td>\n",
              "    </tr>\n",
              "    <tr>\n",
              "      <th>1975</th>\n",
              "      <td>Papua New Guinea</td>\n",
              "      <td>62.9</td>\n",
              "    </tr>\n",
              "    <tr>\n",
              "      <th>1883</th>\n",
              "      <td>Niger</td>\n",
              "      <td>57.1</td>\n",
              "    </tr>\n",
              "    <tr>\n",
              "      <th>2494</th>\n",
              "      <td>Swaziland</td>\n",
              "      <td>53.6</td>\n",
              "    </tr>\n",
              "    <tr>\n",
              "      <th>980</th>\n",
              "      <td>Georgia</td>\n",
              "      <td>74.5</td>\n",
              "    </tr>\n",
              "  </tbody>\n",
              "</table>\n",
              "<p>588 rows × 2 columns</p>\n",
              "</div>\n",
              "      <button class=\"colab-df-convert\" onclick=\"convertToInteractive('df-c7b8e86a-fdde-4913-8b46-0fea36812492')\"\n",
              "              title=\"Convert this dataframe to an interactive table.\"\n",
              "              style=\"display:none;\">\n",
              "        \n",
              "  <svg xmlns=\"http://www.w3.org/2000/svg\" height=\"24px\"viewBox=\"0 0 24 24\"\n",
              "       width=\"24px\">\n",
              "    <path d=\"M0 0h24v24H0V0z\" fill=\"none\"/>\n",
              "    <path d=\"M18.56 5.44l.94 2.06.94-2.06 2.06-.94-2.06-.94-.94-2.06-.94 2.06-2.06.94zm-11 1L8.5 8.5l.94-2.06 2.06-.94-2.06-.94L8.5 2.5l-.94 2.06-2.06.94zm10 10l.94 2.06.94-2.06 2.06-.94-2.06-.94-.94-2.06-.94 2.06-2.06.94z\"/><path d=\"M17.41 7.96l-1.37-1.37c-.4-.4-.92-.59-1.43-.59-.52 0-1.04.2-1.43.59L10.3 9.45l-7.72 7.72c-.78.78-.78 2.05 0 2.83L4 21.41c.39.39.9.59 1.41.59.51 0 1.02-.2 1.41-.59l7.78-7.78 2.81-2.81c.8-.78.8-2.07 0-2.86zM5.41 20L4 18.59l7.72-7.72 1.47 1.35L5.41 20z\"/>\n",
              "  </svg>\n",
              "      </button>\n",
              "      \n",
              "  <style>\n",
              "    .colab-df-container {\n",
              "      display:flex;\n",
              "      flex-wrap:wrap;\n",
              "      gap: 12px;\n",
              "    }\n",
              "\n",
              "    .colab-df-convert {\n",
              "      background-color: #E8F0FE;\n",
              "      border: none;\n",
              "      border-radius: 50%;\n",
              "      cursor: pointer;\n",
              "      display: none;\n",
              "      fill: #1967D2;\n",
              "      height: 32px;\n",
              "      padding: 0 0 0 0;\n",
              "      width: 32px;\n",
              "    }\n",
              "\n",
              "    .colab-df-convert:hover {\n",
              "      background-color: #E2EBFA;\n",
              "      box-shadow: 0px 1px 2px rgba(60, 64, 67, 0.3), 0px 1px 3px 1px rgba(60, 64, 67, 0.15);\n",
              "      fill: #174EA6;\n",
              "    }\n",
              "\n",
              "    [theme=dark] .colab-df-convert {\n",
              "      background-color: #3B4455;\n",
              "      fill: #D2E3FC;\n",
              "    }\n",
              "\n",
              "    [theme=dark] .colab-df-convert:hover {\n",
              "      background-color: #434B5C;\n",
              "      box-shadow: 0px 1px 3px 1px rgba(0, 0, 0, 0.15);\n",
              "      filter: drop-shadow(0px 1px 2px rgba(0, 0, 0, 0.3));\n",
              "      fill: #FFFFFF;\n",
              "    }\n",
              "  </style>\n",
              "\n",
              "      <script>\n",
              "        const buttonEl =\n",
              "          document.querySelector('#df-c7b8e86a-fdde-4913-8b46-0fea36812492 button.colab-df-convert');\n",
              "        buttonEl.style.display =\n",
              "          google.colab.kernel.accessAllowed ? 'block' : 'none';\n",
              "\n",
              "        async function convertToInteractive(key) {\n",
              "          const element = document.querySelector('#df-c7b8e86a-fdde-4913-8b46-0fea36812492');\n",
              "          const dataTable =\n",
              "            await google.colab.kernel.invokeFunction('convertToInteractive',\n",
              "                                                     [key], {});\n",
              "          if (!dataTable) return;\n",
              "\n",
              "          const docLinkHtml = 'Like what you see? Visit the ' +\n",
              "            '<a target=\"_blank\" href=https://colab.research.google.com/notebooks/data_table.ipynb>data table notebook</a>'\n",
              "            + ' to learn more about interactive tables.';\n",
              "          element.innerHTML = '';\n",
              "          dataTable['output_type'] = 'display_data';\n",
              "          await google.colab.output.renderOutput(dataTable, element);\n",
              "          const docLink = document.createElement('div');\n",
              "          docLink.innerHTML = docLinkHtml;\n",
              "          element.appendChild(docLink);\n",
              "        }\n",
              "      </script>\n",
              "    </div>\n",
              "  </div>\n",
              "  "
            ]
          },
          "metadata": {},
          "execution_count": 35
        }
      ],
      "source": [
        "show_expect_test"
      ]
    },
    {
      "cell_type": "code",
      "execution_count": 36,
      "metadata": {
        "id": "HeR26gjqDIYZ"
      },
      "outputs": [],
      "source": [
        "show_expect_test.to_csv('/content/drive/MyDrive/show_expect_test.csv', index = False, encoding='utf-8-sig')\n"
      ]
    },
    {
      "cell_type": "code",
      "execution_count": 37,
      "metadata": {
        "colab": {
          "base_uri": "https://localhost:8080/",
          "height": 369
        },
        "id": "wxBouh9v7HP_",
        "outputId": "0a64a9ac-8e6f-409c-ce61-4a2f68827c93"
      },
      "outputs": [
        {
          "output_type": "execute_result",
          "data": {
            "text/plain": [
              "<AxesSubplot:>"
            ]
          },
          "metadata": {},
          "execution_count": 37
        },
        {
          "output_type": "display_data",
          "data": {
            "text/plain": [
              "<Figure size 432x288 with 2 Axes>"
            ],
            "image/png": "[encoded data removed]"
          },
          "metadata": {
            "needs_background": "light"
          }
        }
      ],
      "source": [
        "sns.heatmap(life_pre.corr(), annot = True) #히트맵 특징공간 상관계수, 필요없는 데이터 없앤 뒤"
      ]
    },
    {
      "cell_type": "markdown",
      "metadata": {
        "id": "pC8OSUkc6uMB"
      },
      "source": [
        "# 모델링 \n",
        "(특징공간 : 알코올(성인15세이상 알코올 소비량), 체질량 지수, 소아마비, 디스테리아, gdp, \n",
        "범주형자료(개도국유무 : 개도국 1, 선진국 0)\n",
        "예측하는 값 : 기대수명)\n",
        "\n",
        "LinearRegression\n",
        "\n",
        "lightgbm\n",
        "\n",
        "XGBOOST\n",
        "\n",
        "RandomForest\n"
      ]
    },
    {
      "cell_type": "code",
      "execution_count": 38,
      "metadata": {
        "id": "o5Ew4yIU8O2J"
      },
      "outputs": [],
      "source": [
        "model_linear = LinearRegression()\n",
        "model_lgbm = lgb.LGBMRegressor(random_state=777, n_estimators=1000)\n",
        "model_xgb = xgb.XGBRegressor(random_state=777, n_estimators=1000)\n",
        "model_rf = RandomForestRegressor(random_state=777, n_estimators=1000)"
      ]
    },
    {
      "cell_type": "code",
      "execution_count": 39,
      "metadata": {
        "id": "4NkcCHDO8X3E"
      },
      "outputs": [],
      "source": [
        "# 특징공간 설정\n",
        "features = ['Status', 'Alcohol', ' BMI ', 'GDP','Diphtheria ']\n",
        "target = ['Life expectancy ']"
      ]
    },
    {
      "cell_type": "code",
      "execution_count": 40,
      "metadata": {
        "id": "dQ-N6pko-VzC"
      },
      "outputs": [],
      "source": [
        "x_train, x_test, y_train =life_expect_train[features], life_expect_test[features], life_expect_train[target]"
      ]
    },
    {
      "cell_type": "code",
      "execution_count": 41,
      "metadata": {
        "colab": {
          "base_uri": "https://localhost:8080/",
          "height": 111
        },
        "id": "IOVgeSN6AQi6",
        "outputId": "67c96fec-bad6-414f-c90f-6f89dd7a1579"
      },
      "outputs": [
        {
          "output_type": "stream",
          "name": "stderr",
          "text": [
            "<ipython-input-41-d4bdabf8a4f3>:5: DataConversionWarning: A column-vector y was passed when a 1d array was expected. Please change the shape of y to (n_samples,), for example using ravel().\n",
            "  model_rf.fit(x_train, y_train)     # // RandomForest\n"
          ]
        },
        {
          "output_type": "execute_result",
          "data": {
            "text/plain": [
              "RandomForestRegressor(n_estimators=1000, random_state=777)"
            ],
            "text/html": [
              "<style>#sk-container-id-1 {color: black;background-color: white;}#sk-container-id-1 pre{padding: 0;}#sk-container-id-1 div.sk-toggleable {background-color: white;}#sk-container-id-1 label.sk-toggleable__label {cursor: pointer;display: block;width: 100%;margin-bottom: 0;padding: 0.3em;box-sizing: border-box;text-align: center;}#sk-container-id-1 label.sk-toggleable__label-arrow:before {content: \"▸\";float: left;margin-right: 0.25em;color: #696969;}#sk-container-id-1 label.sk-toggleable__label-arrow:hover:before {color: black;}#sk-container-id-1 div.sk-estimator:hover label.sk-toggleable__label-arrow:before {color: black;}#sk-container-id-1 div.sk-toggleable__content {max-height: 0;max-width: 0;overflow: hidden;text-align: left;background-color: #f0f8ff;}#sk-container-id-1 div.sk-toggleable__content pre {margin: 0.2em;color: black;border-radius: 0.25em;background-color: #f0f8ff;}#sk-container-id-1 input.sk-toggleable__control:checked~div.sk-toggleable__content {max-height: 200px;max-width: 100%;overflow: auto;}#sk-container-id-1 input.sk-toggleable__control:checked~label.sk-toggleable__label-arrow:before {content: \"▾\";}#sk-container-id-1 div.sk-estimator input.sk-toggleable__control:checked~label.sk-toggleable__label {background-color: #d4ebff;}#sk-container-id-1 div.sk-label input.sk-toggleable__control:checked~label.sk-toggleable__label {background-color: #d4ebff;}#sk-container-id-1 input.sk-hidden--visually {border: 0;clip: rect(1px 1px 1px 1px);clip: rect(1px, 1px, 1px, 1px);height: 1px;margin: -1px;overflow: hidden;padding: 0;position: absolute;width: 1px;}#sk-container-id-1 div.sk-estimator {font-family: monospace;background-color: #f0f8ff;border: 1px dotted black;border-radius: 0.25em;box-sizing: border-box;margin-bottom: 0.5em;}#sk-container-id-1 div.sk-estimator:hover {background-color: #d4ebff;}#sk-container-id-1 div.sk-parallel-item::after {content: \"\";width: 100%;border-bottom: 1px solid gray;flex-grow: 1;}#sk-container-id-1 div.sk-label:hover label.sk-toggleable__label {background-color: #d4ebff;}#sk-container-id-1 div.sk-serial::before {content: \"\";position: absolute;border-left: 1px solid gray;box-sizing: border-box;top: 0;bottom: 0;left: 50%;z-index: 0;}#sk-container-id-1 div.sk-serial {display: flex;flex-direction: column;align-items: center;background-color: white;padding-right: 0.2em;padding-left: 0.2em;position: relative;}#sk-container-id-1 div.sk-item {position: relative;z-index: 1;}#sk-container-id-1 div.sk-parallel {display: flex;align-items: stretch;justify-content: center;background-color: white;position: relative;}#sk-container-id-1 div.sk-item::before, #sk-container-id-1 div.sk-parallel-item::before {content: \"\";position: absolute;border-left: 1px solid gray;box-sizing: border-box;top: 0;bottom: 0;left: 50%;z-index: -1;}#sk-container-id-1 div.sk-parallel-item {display: flex;flex-direction: column;z-index: 1;position: relative;background-color: white;}#sk-container-id-1 div.sk-parallel-item:first-child::after {align-self: flex-end;width: 50%;}#sk-container-id-1 div.sk-parallel-item:last-child::after {align-self: flex-start;width: 50%;}#sk-container-id-1 div.sk-parallel-item:only-child::after {width: 0;}#sk-container-id-1 div.sk-dashed-wrapped {border: 1px dashed gray;margin: 0 0.4em 0.5em 0.4em;box-sizing: border-box;padding-bottom: 0.4em;background-color: white;}#sk-container-id-1 div.sk-label label {font-family: monospace;font-weight: bold;display: inline-block;line-height: 1.2em;}#sk-container-id-1 div.sk-label-container {text-align: center;}#sk-container-id-1 div.sk-container {/* jupyter's `normalize.less` sets `[hidden] { display: none; }` but bootstrap.min.css set `[hidden] { display: none !important; }` so we also need the `!important` here to be able to override the default hidden behavior on the sphinx rendered scikit-learn.org. See: https://github.com/scikit-learn/scikit-learn/issues/21755 */display: inline-block !important;position: relative;}#sk-container-id-1 div.sk-text-repr-fallback {display: none;}</style><div id=\"sk-container-id-1\" class=\"sk-top-container\"><div class=\"sk-text-repr-fallback\"><pre>RandomForestRegressor(n_estimators=1000, random_state=777)</pre><b>In a Jupyter environment, please rerun this cell to show the HTML representation or trust the notebook. <br />On GitHub, the HTML representation is unable to render, please try loading this page with nbviewer.org.</b></div><div class=\"sk-container\" hidden><div class=\"sk-item\"><div class=\"sk-estimator sk-toggleable\"><input class=\"sk-toggleable__control sk-hidden--visually\" id=\"sk-estimator-id-1\" type=\"checkbox\" checked><label for=\"sk-estimator-id-1\" class=\"sk-toggleable__label sk-toggleable__label-arrow\">RandomForestRegressor</label><div class=\"sk-toggleable__content\"><pre>RandomForestRegressor(n_estimators=1000, random_state=777)</pre></div></div></div></div></div>"
            ]
          },
          "metadata": {},
          "execution_count": 41
        }
      ],
      "source": [
        "# 모델링#fit은 훈련시키는 함수\n",
        "model_linear.fit(x_train, y_train) # // LinerRegression\n",
        "model_lgbm.fit(x_train, y_train)   # // Lightgbm\n",
        "model_xgb.fit(x_train, y_train)     # // XGB\n",
        "model_rf.fit(x_train, y_train)     # // RandomForest"
      ]
    },
    {
      "cell_type": "markdown",
      "metadata": {
        "id": "Mkc1H9zcFlW5"
      },
      "source": [
        "#예측 결과 보기"
      ]
    },
    {
      "cell_type": "code",
      "execution_count": 42,
      "metadata": {
        "id": "8OppMcUeFoqT"
      },
      "outputs": [],
      "source": [
        "show_test=pd.read_csv('/content/drive/Shareddrives/멘토멘티/show_expect_real_test.csv')"
      ]
    },
    {
      "cell_type": "code",
      "execution_count": 43,
      "metadata": {
        "colab": {
          "base_uri": "https://localhost:8080/",
          "height": 423
        },
        "id": "PIlwh6GpFwll",
        "outputId": "c7cce34c-df24-4cf7-ef7b-4f8a343fde4b"
      },
      "outputs": [
        {
          "output_type": "execute_result",
          "data": {
            "text/plain": [
              "                  Country  Life expectancy \n",
              "0               Swaziland                 0\n",
              "1    United Arab Emirates                 0\n",
              "2                 Nigeria                 0\n",
              "3               Guatemala                 0\n",
              "4                 Eritrea                 0\n",
              "..                    ...               ...\n",
              "583                Greece                 0\n",
              "584      Papua New Guinea                 0\n",
              "585                 Niger                 0\n",
              "586             Swaziland                 0\n",
              "587               Georgia                 0\n",
              "\n",
              "[588 rows x 2 columns]"
            ],
            "text/html": [
              "\n",
              "  <div id=\"df-dd74e39b-d433-4f96-9682-1cee4e434d09\">\n",
              "    <div class=\"colab-df-container\">\n",
              "      <div>\n",
              "<style scoped>\n",
              "    .dataframe tbody tr th:only-of-type {\n",
              "        vertical-align: middle;\n",
              "    }\n",
              "\n",
              "    .dataframe tbody tr th {\n",
              "        vertical-align: top;\n",
              "    }\n",
              "\n",
              "    .dataframe thead th {\n",
              "        text-align: right;\n",
              "    }\n",
              "</style>\n",
              "<table border=\"1\" class=\"dataframe\">\n",
              "  <thead>\n",
              "    <tr style=\"text-align: right;\">\n",
              "      <th></th>\n",
              "      <th>Country</th>\n",
              "      <th>Life expectancy</th>\n",
              "    </tr>\n",
              "  </thead>\n",
              "  <tbody>\n",
              "    <tr>\n",
              "      <th>0</th>\n",
              "      <td>Swaziland</td>\n",
              "      <td>0</td>\n",
              "    </tr>\n",
              "    <tr>\n",
              "      <th>1</th>\n",
              "      <td>United Arab Emirates</td>\n",
              "      <td>0</td>\n",
              "    </tr>\n",
              "    <tr>\n",
              "      <th>2</th>\n",
              "      <td>Nigeria</td>\n",
              "      <td>0</td>\n",
              "    </tr>\n",
              "    <tr>\n",
              "      <th>3</th>\n",
              "      <td>Guatemala</td>\n",
              "      <td>0</td>\n",
              "    </tr>\n",
              "    <tr>\n",
              "      <th>4</th>\n",
              "      <td>Eritrea</td>\n",
              "      <td>0</td>\n",
              "    </tr>\n",
              "    <tr>\n",
              "      <th>...</th>\n",
              "      <td>...</td>\n",
              "      <td>...</td>\n",
              "    </tr>\n",
              "    <tr>\n",
              "      <th>583</th>\n",
              "      <td>Greece</td>\n",
              "      <td>0</td>\n",
              "    </tr>\n",
              "    <tr>\n",
              "      <th>584</th>\n",
              "      <td>Papua New Guinea</td>\n",
              "      <td>0</td>\n",
              "    </tr>\n",
              "    <tr>\n",
              "      <th>585</th>\n",
              "      <td>Niger</td>\n",
              "      <td>0</td>\n",
              "    </tr>\n",
              "    <tr>\n",
              "      <th>586</th>\n",
              "      <td>Swaziland</td>\n",
              "      <td>0</td>\n",
              "    </tr>\n",
              "    <tr>\n",
              "      <th>587</th>\n",
              "      <td>Georgia</td>\n",
              "      <td>0</td>\n",
              "    </tr>\n",
              "  </tbody>\n",
              "</table>\n",
              "<p>588 rows × 2 columns</p>\n",
              "</div>\n",
              "      <button class=\"colab-df-convert\" onclick=\"convertToInteractive('df-dd74e39b-d433-4f96-9682-1cee4e434d09')\"\n",
              "              title=\"Convert this dataframe to an interactive table.\"\n",
              "              style=\"display:none;\">\n",
              "        \n",
              "  <svg xmlns=\"http://www.w3.org/2000/svg\" height=\"24px\"viewBox=\"0 0 24 24\"\n",
              "       width=\"24px\">\n",
              "    <path d=\"M0 0h24v24H0V0z\" fill=\"none\"/>\n",
              "    <path d=\"M18.56 5.44l.94 2.06.94-2.06 2.06-.94-2.06-.94-.94-2.06-.94 2.06-2.06.94zm-11 1L8.5 8.5l.94-2.06 2.06-.94-2.06-.94L8.5 2.5l-.94 2.06-2.06.94zm10 10l.94 2.06.94-2.06 2.06-.94-2.06-.94-.94-2.06-.94 2.06-2.06.94z\"/><path d=\"M17.41 7.96l-1.37-1.37c-.4-.4-.92-.59-1.43-.59-.52 0-1.04.2-1.43.59L10.3 9.45l-7.72 7.72c-.78.78-.78 2.05 0 2.83L4 21.41c.39.39.9.59 1.41.59.51 0 1.02-.2 1.41-.59l7.78-7.78 2.81-2.81c.8-.78.8-2.07 0-2.86zM5.41 20L4 18.59l7.72-7.72 1.47 1.35L5.41 20z\"/>\n",
              "  </svg>\n",
              "      </button>\n",
              "      \n",
              "  <style>\n",
              "    .colab-df-container {\n",
              "      display:flex;\n",
              "      flex-wrap:wrap;\n",
              "      gap: 12px;\n",
              "    }\n",
              "\n",
              "    .colab-df-convert {\n",
              "      background-color: #E8F0FE;\n",
              "      border: none;\n",
              "      border-radius: 50%;\n",
              "      cursor: pointer;\n",
              "      display: none;\n",
              "      fill: #1967D2;\n",
              "      height: 32px;\n",
              "      padding: 0 0 0 0;\n",
              "      width: 32px;\n",
              "    }\n",
              "\n",
              "    .colab-df-convert:hover {\n",
              "      background-color: #E2EBFA;\n",
              "      box-shadow: 0px 1px 2px rgba(60, 64, 67, 0.3), 0px 1px 3px 1px rgba(60, 64, 67, 0.15);\n",
              "      fill: #174EA6;\n",
              "    }\n",
              "\n",
              "    [theme=dark] .colab-df-convert {\n",
              "      background-color: #3B4455;\n",
              "      fill: #D2E3FC;\n",
              "    }\n",
              "\n",
              "    [theme=dark] .colab-df-convert:hover {\n",
              "      background-color: #434B5C;\n",
              "      box-shadow: 0px 1px 3px 1px rgba(0, 0, 0, 0.15);\n",
              "      filter: drop-shadow(0px 1px 2px rgba(0, 0, 0, 0.3));\n",
              "      fill: #FFFFFF;\n",
              "    }\n",
              "  </style>\n",
              "\n",
              "      <script>\n",
              "        const buttonEl =\n",
              "          document.querySelector('#df-dd74e39b-d433-4f96-9682-1cee4e434d09 button.colab-df-convert');\n",
              "        buttonEl.style.display =\n",
              "          google.colab.kernel.accessAllowed ? 'block' : 'none';\n",
              "\n",
              "        async function convertToInteractive(key) {\n",
              "          const element = document.querySelector('#df-dd74e39b-d433-4f96-9682-1cee4e434d09');\n",
              "          const dataTable =\n",
              "            await google.colab.kernel.invokeFunction('convertToInteractive',\n",
              "                                                     [key], {});\n",
              "          if (!dataTable) return;\n",
              "\n",
              "          const docLinkHtml = 'Like what you see? Visit the ' +\n",
              "            '<a target=\"_blank\" href=https://colab.research.google.com/notebooks/data_table.ipynb>data table notebook</a>'\n",
              "            + ' to learn more about interactive tables.';\n",
              "          element.innerHTML = '';\n",
              "          dataTable['output_type'] = 'display_data';\n",
              "          await google.colab.output.renderOutput(dataTable, element);\n",
              "          const docLink = document.createElement('div');\n",
              "          docLink.innerHTML = docLinkHtml;\n",
              "          element.appendChild(docLink);\n",
              "        }\n",
              "      </script>\n",
              "    </div>\n",
              "  </div>\n",
              "  "
            ]
          },
          "metadata": {},
          "execution_count": 43
        }
      ],
      "source": [
        "show_test"
      ]
    },
    {
      "cell_type": "code",
      "execution_count": 44,
      "metadata": {
        "id": "YIkPMqvDApeD"
      },
      "outputs": [],
      "source": [
        "singleLR = show_test.copy()\n",
        "singleLGBM = show_test.copy()\n",
        "singleXGB = show_test.copy()\n",
        "singleRF = show_test.copy()\n"
      ]
    },
    {
      "cell_type": "code",
      "execution_count": 45,
      "metadata": {
        "id": "y8TBAEYgGekH"
      },
      "outputs": [],
      "source": [
        "singleLR['Life expectancy '] = model_linear.predict(x_test)\n",
        "singleLGBM['Life expectancy '] = model_lgbm.predict(x_test)\n",
        "singleXGB['Life expectancy '] = model_xgb.predict(x_test)\n",
        "singleRF['Life expectancy '] = model_rf.predict(x_test)\n"
      ]
    },
    {
      "cell_type": "code",
      "execution_count": 46,
      "metadata": {
        "id": "ovL5--DNGf1Z",
        "colab": {
          "base_uri": "https://localhost:8080/",
          "height": 423
        },
        "outputId": "c04475eb-ecde-4481-b8fa-3cf4852d8ea4"
      },
      "outputs": [
        {
          "output_type": "execute_result",
          "data": {
            "text/plain": [
              "                  Country  Life expectancy \n",
              "0               Swaziland         66.199082\n",
              "1    United Arab Emirates         71.402404\n",
              "2                 Nigeria         61.637066\n",
              "3               Guatemala         68.785602\n",
              "4                 Eritrea         64.363115\n",
              "..                    ...               ...\n",
              "583                Greece         74.959008\n",
              "584      Papua New Guinea         67.619677\n",
              "585                 Niger         62.472630\n",
              "586             Swaziland         66.963376\n",
              "587               Georgia         71.892056\n",
              "\n",
              "[588 rows x 2 columns]"
            ],
            "text/html": [
              "\n",
              "  <div id=\"df-1dc20821-cdcc-4e2b-989c-25b3fab4ee6c\">\n",
              "    <div class=\"colab-df-container\">\n",
              "      <div>\n",
              "<style scoped>\n",
              "    .dataframe tbody tr th:only-of-type {\n",
              "        vertical-align: middle;\n",
              "    }\n",
              "\n",
              "    .dataframe tbody tr th {\n",
              "        vertical-align: top;\n",
              "    }\n",
              "\n",
              "    .dataframe thead th {\n",
              "        text-align: right;\n",
              "    }\n",
              "</style>\n",
              "<table border=\"1\" class=\"dataframe\">\n",
              "  <thead>\n",
              "    <tr style=\"text-align: right;\">\n",
              "      <th></th>\n",
              "      <th>Country</th>\n",
              "      <th>Life expectancy</th>\n",
              "    </tr>\n",
              "  </thead>\n",
              "  <tbody>\n",
              "    <tr>\n",
              "      <th>0</th>\n",
              "      <td>Swaziland</td>\n",
              "      <td>66.199082</td>\n",
              "    </tr>\n",
              "    <tr>\n",
              "      <th>1</th>\n",
              "      <td>United Arab Emirates</td>\n",
              "      <td>71.402404</td>\n",
              "    </tr>\n",
              "    <tr>\n",
              "      <th>2</th>\n",
              "      <td>Nigeria</td>\n",
              "      <td>61.637066</td>\n",
              "    </tr>\n",
              "    <tr>\n",
              "      <th>3</th>\n",
              "      <td>Guatemala</td>\n",
              "      <td>68.785602</td>\n",
              "    </tr>\n",
              "    <tr>\n",
              "      <th>4</th>\n",
              "      <td>Eritrea</td>\n",
              "      <td>64.363115</td>\n",
              "    </tr>\n",
              "    <tr>\n",
              "      <th>...</th>\n",
              "      <td>...</td>\n",
              "      <td>...</td>\n",
              "    </tr>\n",
              "    <tr>\n",
              "      <th>583</th>\n",
              "      <td>Greece</td>\n",
              "      <td>74.959008</td>\n",
              "    </tr>\n",
              "    <tr>\n",
              "      <th>584</th>\n",
              "      <td>Papua New Guinea</td>\n",
              "      <td>67.619677</td>\n",
              "    </tr>\n",
              "    <tr>\n",
              "      <th>585</th>\n",
              "      <td>Niger</td>\n",
              "      <td>62.472630</td>\n",
              "    </tr>\n",
              "    <tr>\n",
              "      <th>586</th>\n",
              "      <td>Swaziland</td>\n",
              "      <td>66.963376</td>\n",
              "    </tr>\n",
              "    <tr>\n",
              "      <th>587</th>\n",
              "      <td>Georgia</td>\n",
              "      <td>71.892056</td>\n",
              "    </tr>\n",
              "  </tbody>\n",
              "</table>\n",
              "<p>588 rows × 2 columns</p>\n",
              "</div>\n",
              "      <button class=\"colab-df-convert\" onclick=\"convertToInteractive('df-1dc20821-cdcc-4e2b-989c-25b3fab4ee6c')\"\n",
              "              title=\"Convert this dataframe to an interactive table.\"\n",
              "              style=\"display:none;\">\n",
              "        \n",
              "  <svg xmlns=\"http://www.w3.org/2000/svg\" height=\"24px\"viewBox=\"0 0 24 24\"\n",
              "       width=\"24px\">\n",
              "    <path d=\"M0 0h24v24H0V0z\" fill=\"none\"/>\n",
              "    <path d=\"M18.56 5.44l.94 2.06.94-2.06 2.06-.94-2.06-.94-.94-2.06-.94 2.06-2.06.94zm-11 1L8.5 8.5l.94-2.06 2.06-.94-2.06-.94L8.5 2.5l-.94 2.06-2.06.94zm10 10l.94 2.06.94-2.06 2.06-.94-2.06-.94-.94-2.06-.94 2.06-2.06.94z\"/><path d=\"M17.41 7.96l-1.37-1.37c-.4-.4-.92-.59-1.43-.59-.52 0-1.04.2-1.43.59L10.3 9.45l-7.72 7.72c-.78.78-.78 2.05 0 2.83L4 21.41c.39.39.9.59 1.41.59.51 0 1.02-.2 1.41-.59l7.78-7.78 2.81-2.81c.8-.78.8-2.07 0-2.86zM5.41 20L4 18.59l7.72-7.72 1.47 1.35L5.41 20z\"/>\n",
              "  </svg>\n",
              "      </button>\n",
              "      \n",
              "  <style>\n",
              "    .colab-df-container {\n",
              "      display:flex;\n",
              "      flex-wrap:wrap;\n",
              "      gap: 12px;\n",
              "    }\n",
              "\n",
              "    .colab-df-convert {\n",
              "      background-color: #E8F0FE;\n",
              "      border: none;\n",
              "      border-radius: 50%;\n",
              "      cursor: pointer;\n",
              "      display: none;\n",
              "      fill: #1967D2;\n",
              "      height: 32px;\n",
              "      padding: 0 0 0 0;\n",
              "      width: 32px;\n",
              "    }\n",
              "\n",
              "    .colab-df-convert:hover {\n",
              "      background-color: #E2EBFA;\n",
              "      box-shadow: 0px 1px 2px rgba(60, 64, 67, 0.3), 0px 1px 3px 1px rgba(60, 64, 67, 0.15);\n",
              "      fill: #174EA6;\n",
              "    }\n",
              "\n",
              "    [theme=dark] .colab-df-convert {\n",
              "      background-color: #3B4455;\n",
              "      fill: #D2E3FC;\n",
              "    }\n",
              "\n",
              "    [theme=dark] .colab-df-convert:hover {\n",
              "      background-color: #434B5C;\n",
              "      box-shadow: 0px 1px 3px 1px rgba(0, 0, 0, 0.15);\n",
              "      filter: drop-shadow(0px 1px 2px rgba(0, 0, 0, 0.3));\n",
              "      fill: #FFFFFF;\n",
              "    }\n",
              "  </style>\n",
              "\n",
              "      <script>\n",
              "        const buttonEl =\n",
              "          document.querySelector('#df-1dc20821-cdcc-4e2b-989c-25b3fab4ee6c button.colab-df-convert');\n",
              "        buttonEl.style.display =\n",
              "          google.colab.kernel.accessAllowed ? 'block' : 'none';\n",
              "\n",
              "        async function convertToInteractive(key) {\n",
              "          const element = document.querySelector('#df-1dc20821-cdcc-4e2b-989c-25b3fab4ee6c');\n",
              "          const dataTable =\n",
              "            await google.colab.kernel.invokeFunction('convertToInteractive',\n",
              "                                                     [key], {});\n",
              "          if (!dataTable) return;\n",
              "\n",
              "          const docLinkHtml = 'Like what you see? Visit the ' +\n",
              "            '<a target=\"_blank\" href=https://colab.research.google.com/notebooks/data_table.ipynb>data table notebook</a>'\n",
              "            + ' to learn more about interactive tables.';\n",
              "          element.innerHTML = '';\n",
              "          dataTable['output_type'] = 'display_data';\n",
              "          await google.colab.output.renderOutput(dataTable, element);\n",
              "          const docLink = document.createElement('div');\n",
              "          docLink.innerHTML = docLinkHtml;\n",
              "          element.appendChild(docLink);\n",
              "        }\n",
              "      </script>\n",
              "    </div>\n",
              "  </div>\n",
              "  "
            ]
          },
          "metadata": {},
          "execution_count": 46
        }
      ],
      "source": [
        "singleLR"
      ]
    },
    {
      "cell_type": "code",
      "execution_count": 47,
      "metadata": {
        "id": "mWyYFfmiGiBq",
        "colab": {
          "base_uri": "https://localhost:8080/",
          "height": 423
        },
        "outputId": "ab4bd050-b226-4c20-9f82-68e66f964644"
      },
      "outputs": [
        {
          "output_type": "execute_result",
          "data": {
            "text/plain": [
              "                  Country  Life expectancy \n",
              "0               Swaziland         55.098236\n",
              "1    United Arab Emirates         71.300228\n",
              "2                 Nigeria         59.888916\n",
              "3               Guatemala         69.127240\n",
              "4                 Eritrea         63.580367\n",
              "..                    ...               ...\n",
              "583                Greece         77.800338\n",
              "584      Papua New Guinea         65.843064\n",
              "585                 Niger         57.831210\n",
              "586             Swaziland         55.410006\n",
              "587               Georgia         74.459458\n",
              "\n",
              "[588 rows x 2 columns]"
            ],
            "text/html": [
              "\n",
              "  <div id=\"df-80412d05-0ed2-4bfb-971e-e4b9f4f88e47\">\n",
              "    <div class=\"colab-df-container\">\n",
              "      <div>\n",
              "<style scoped>\n",
              "    .dataframe tbody tr th:only-of-type {\n",
              "        vertical-align: middle;\n",
              "    }\n",
              "\n",
              "    .dataframe tbody tr th {\n",
              "        vertical-align: top;\n",
              "    }\n",
              "\n",
              "    .dataframe thead th {\n",
              "        text-align: right;\n",
              "    }\n",
              "</style>\n",
              "<table border=\"1\" class=\"dataframe\">\n",
              "  <thead>\n",
              "    <tr style=\"text-align: right;\">\n",
              "      <th></th>\n",
              "      <th>Country</th>\n",
              "      <th>Life expectancy</th>\n",
              "    </tr>\n",
              "  </thead>\n",
              "  <tbody>\n",
              "    <tr>\n",
              "      <th>0</th>\n",
              "      <td>Swaziland</td>\n",
              "      <td>55.098236</td>\n",
              "    </tr>\n",
              "    <tr>\n",
              "      <th>1</th>\n",
              "      <td>United Arab Emirates</td>\n",
              "      <td>71.300228</td>\n",
              "    </tr>\n",
              "    <tr>\n",
              "      <th>2</th>\n",
              "      <td>Nigeria</td>\n",
              "      <td>59.888916</td>\n",
              "    </tr>\n",
              "    <tr>\n",
              "      <th>3</th>\n",
              "      <td>Guatemala</td>\n",
              "      <td>69.127240</td>\n",
              "    </tr>\n",
              "    <tr>\n",
              "      <th>4</th>\n",
              "      <td>Eritrea</td>\n",
              "      <td>63.580367</td>\n",
              "    </tr>\n",
              "    <tr>\n",
              "      <th>...</th>\n",
              "      <td>...</td>\n",
              "      <td>...</td>\n",
              "    </tr>\n",
              "    <tr>\n",
              "      <th>583</th>\n",
              "      <td>Greece</td>\n",
              "      <td>77.800338</td>\n",
              "    </tr>\n",
              "    <tr>\n",
              "      <th>584</th>\n",
              "      <td>Papua New Guinea</td>\n",
              "      <td>65.843064</td>\n",
              "    </tr>\n",
              "    <tr>\n",
              "      <th>585</th>\n",
              "      <td>Niger</td>\n",
              "      <td>57.831210</td>\n",
              "    </tr>\n",
              "    <tr>\n",
              "      <th>586</th>\n",
              "      <td>Swaziland</td>\n",
              "      <td>55.410006</td>\n",
              "    </tr>\n",
              "    <tr>\n",
              "      <th>587</th>\n",
              "      <td>Georgia</td>\n",
              "      <td>74.459458</td>\n",
              "    </tr>\n",
              "  </tbody>\n",
              "</table>\n",
              "<p>588 rows × 2 columns</p>\n",
              "</div>\n",
              "      <button class=\"colab-df-convert\" onclick=\"convertToInteractive('df-80412d05-0ed2-4bfb-971e-e4b9f4f88e47')\"\n",
              "              title=\"Convert this dataframe to an interactive table.\"\n",
              "              style=\"display:none;\">\n",
              "        \n",
              "  <svg xmlns=\"http://www.w3.org/2000/svg\" height=\"24px\"viewBox=\"0 0 24 24\"\n",
              "       width=\"24px\">\n",
              "    <path d=\"M0 0h24v24H0V0z\" fill=\"none\"/>\n",
              "    <path d=\"M18.56 5.44l.94 2.06.94-2.06 2.06-.94-2.06-.94-.94-2.06-.94 2.06-2.06.94zm-11 1L8.5 8.5l.94-2.06 2.06-.94-2.06-.94L8.5 2.5l-.94 2.06-2.06.94zm10 10l.94 2.06.94-2.06 2.06-.94-2.06-.94-.94-2.06-.94 2.06-2.06.94z\"/><path d=\"M17.41 7.96l-1.37-1.37c-.4-.4-.92-.59-1.43-.59-.52 0-1.04.2-1.43.59L10.3 9.45l-7.72 7.72c-.78.78-.78 2.05 0 2.83L4 21.41c.39.39.9.59 1.41.59.51 0 1.02-.2 1.41-.59l7.78-7.78 2.81-2.81c.8-.78.8-2.07 0-2.86zM5.41 20L4 18.59l7.72-7.72 1.47 1.35L5.41 20z\"/>\n",
              "  </svg>\n",
              "      </button>\n",
              "      \n",
              "  <style>\n",
              "    .colab-df-container {\n",
              "      display:flex;\n",
              "      flex-wrap:wrap;\n",
              "      gap: 12px;\n",
              "    }\n",
              "\n",
              "    .colab-df-convert {\n",
              "      background-color: #E8F0FE;\n",
              "      border: none;\n",
              "      border-radius: 50%;\n",
              "      cursor: pointer;\n",
              "      display: none;\n",
              "      fill: #1967D2;\n",
              "      height: 32px;\n",
              "      padding: 0 0 0 0;\n",
              "      width: 32px;\n",
              "    }\n",
              "\n",
              "    .colab-df-convert:hover {\n",
              "      background-color: #E2EBFA;\n",
              "      box-shadow: 0px 1px 2px rgba(60, 64, 67, 0.3), 0px 1px 3px 1px rgba(60, 64, 67, 0.15);\n",
              "      fill: #174EA6;\n",
              "    }\n",
              "\n",
              "    [theme=dark] .colab-df-convert {\n",
              "      background-color: #3B4455;\n",
              "      fill: #D2E3FC;\n",
              "    }\n",
              "\n",
              "    [theme=dark] .colab-df-convert:hover {\n",
              "      background-color: #434B5C;\n",
              "      box-shadow: 0px 1px 3px 1px rgba(0, 0, 0, 0.15);\n",
              "      filter: drop-shadow(0px 1px 2px rgba(0, 0, 0, 0.3));\n",
              "      fill: #FFFFFF;\n",
              "    }\n",
              "  </style>\n",
              "\n",
              "      <script>\n",
              "        const buttonEl =\n",
              "          document.querySelector('#df-80412d05-0ed2-4bfb-971e-e4b9f4f88e47 button.colab-df-convert');\n",
              "        buttonEl.style.display =\n",
              "          google.colab.kernel.accessAllowed ? 'block' : 'none';\n",
              "\n",
              "        async function convertToInteractive(key) {\n",
              "          const element = document.querySelector('#df-80412d05-0ed2-4bfb-971e-e4b9f4f88e47');\n",
              "          const dataTable =\n",
              "            await google.colab.kernel.invokeFunction('convertToInteractive',\n",
              "                                                     [key], {});\n",
              "          if (!dataTable) return;\n",
              "\n",
              "          const docLinkHtml = 'Like what you see? Visit the ' +\n",
              "            '<a target=\"_blank\" href=https://colab.research.google.com/notebooks/data_table.ipynb>data table notebook</a>'\n",
              "            + ' to learn more about interactive tables.';\n",
              "          element.innerHTML = '';\n",
              "          dataTable['output_type'] = 'display_data';\n",
              "          await google.colab.output.renderOutput(dataTable, element);\n",
              "          const docLink = document.createElement('div');\n",
              "          docLink.innerHTML = docLinkHtml;\n",
              "          element.appendChild(docLink);\n",
              "        }\n",
              "      </script>\n",
              "    </div>\n",
              "  </div>\n",
              "  "
            ]
          },
          "metadata": {},
          "execution_count": 47
        }
      ],
      "source": [
        "singleLGBM"
      ]
    },
    {
      "cell_type": "code",
      "execution_count": 48,
      "metadata": {
        "id": "BE9AugKSGl3-",
        "colab": {
          "base_uri": "https://localhost:8080/",
          "height": 423
        },
        "outputId": "de286fa1-83f7-413c-d1ac-34b0ace0d4cb"
      },
      "outputs": [
        {
          "output_type": "execute_result",
          "data": {
            "text/plain": [
              "                  Country  Life expectancy \n",
              "0               Swaziland         55.040825\n",
              "1    United Arab Emirates         70.957283\n",
              "2                 Nigeria         59.778038\n",
              "3               Guatemala         70.414429\n",
              "4                 Eritrea         62.519112\n",
              "..                    ...               ...\n",
              "583                Greece         79.604340\n",
              "584      Papua New Guinea         68.284210\n",
              "585                 Niger         58.964069\n",
              "586             Swaziland         58.779507\n",
              "587               Georgia         74.240929\n",
              "\n",
              "[588 rows x 2 columns]"
            ],
            "text/html": [
              "\n",
              "  <div id=\"df-ec4c3e34-9262-4377-84e4-099fcfe23c2a\">\n",
              "    <div class=\"colab-df-container\">\n",
              "      <div>\n",
              "<style scoped>\n",
              "    .dataframe tbody tr th:only-of-type {\n",
              "        vertical-align: middle;\n",
              "    }\n",
              "\n",
              "    .dataframe tbody tr th {\n",
              "        vertical-align: top;\n",
              "    }\n",
              "\n",
              "    .dataframe thead th {\n",
              "        text-align: right;\n",
              "    }\n",
              "</style>\n",
              "<table border=\"1\" class=\"dataframe\">\n",
              "  <thead>\n",
              "    <tr style=\"text-align: right;\">\n",
              "      <th></th>\n",
              "      <th>Country</th>\n",
              "      <th>Life expectancy</th>\n",
              "    </tr>\n",
              "  </thead>\n",
              "  <tbody>\n",
              "    <tr>\n",
              "      <th>0</th>\n",
              "      <td>Swaziland</td>\n",
              "      <td>55.040825</td>\n",
              "    </tr>\n",
              "    <tr>\n",
              "      <th>1</th>\n",
              "      <td>United Arab Emirates</td>\n",
              "      <td>70.957283</td>\n",
              "    </tr>\n",
              "    <tr>\n",
              "      <th>2</th>\n",
              "      <td>Nigeria</td>\n",
              "      <td>59.778038</td>\n",
              "    </tr>\n",
              "    <tr>\n",
              "      <th>3</th>\n",
              "      <td>Guatemala</td>\n",
              "      <td>70.414429</td>\n",
              "    </tr>\n",
              "    <tr>\n",
              "      <th>4</th>\n",
              "      <td>Eritrea</td>\n",
              "      <td>62.519112</td>\n",
              "    </tr>\n",
              "    <tr>\n",
              "      <th>...</th>\n",
              "      <td>...</td>\n",
              "      <td>...</td>\n",
              "    </tr>\n",
              "    <tr>\n",
              "      <th>583</th>\n",
              "      <td>Greece</td>\n",
              "      <td>79.604340</td>\n",
              "    </tr>\n",
              "    <tr>\n",
              "      <th>584</th>\n",
              "      <td>Papua New Guinea</td>\n",
              "      <td>68.284210</td>\n",
              "    </tr>\n",
              "    <tr>\n",
              "      <th>585</th>\n",
              "      <td>Niger</td>\n",
              "      <td>58.964069</td>\n",
              "    </tr>\n",
              "    <tr>\n",
              "      <th>586</th>\n",
              "      <td>Swaziland</td>\n",
              "      <td>58.779507</td>\n",
              "    </tr>\n",
              "    <tr>\n",
              "      <th>587</th>\n",
              "      <td>Georgia</td>\n",
              "      <td>74.240929</td>\n",
              "    </tr>\n",
              "  </tbody>\n",
              "</table>\n",
              "<p>588 rows × 2 columns</p>\n",
              "</div>\n",
              "      <button class=\"colab-df-convert\" onclick=\"convertToInteractive('df-ec4c3e34-9262-4377-84e4-099fcfe23c2a')\"\n",
              "              title=\"Convert this dataframe to an interactive table.\"\n",
              "              style=\"display:none;\">\n",
              "        \n",
              "  <svg xmlns=\"http://www.w3.org/2000/svg\" height=\"24px\"viewBox=\"0 0 24 24\"\n",
              "       width=\"24px\">\n",
              "    <path d=\"M0 0h24v24H0V0z\" fill=\"none\"/>\n",
              "    <path d=\"M18.56 5.44l.94 2.06.94-2.06 2.06-.94-2.06-.94-.94-2.06-.94 2.06-2.06.94zm-11 1L8.5 8.5l.94-2.06 2.06-.94-2.06-.94L8.5 2.5l-.94 2.06-2.06.94zm10 10l.94 2.06.94-2.06 2.06-.94-2.06-.94-.94-2.06-.94 2.06-2.06.94z\"/><path d=\"M17.41 7.96l-1.37-1.37c-.4-.4-.92-.59-1.43-.59-.52 0-1.04.2-1.43.59L10.3 9.45l-7.72 7.72c-.78.78-.78 2.05 0 2.83L4 21.41c.39.39.9.59 1.41.59.51 0 1.02-.2 1.41-.59l7.78-7.78 2.81-2.81c.8-.78.8-2.07 0-2.86zM5.41 20L4 18.59l7.72-7.72 1.47 1.35L5.41 20z\"/>\n",
              "  </svg>\n",
              "      </button>\n",
              "      \n",
              "  <style>\n",
              "    .colab-df-container {\n",
              "      display:flex;\n",
              "      flex-wrap:wrap;\n",
              "      gap: 12px;\n",
              "    }\n",
              "\n",
              "    .colab-df-convert {\n",
              "      background-color: #E8F0FE;\n",
              "      border: none;\n",
              "      border-radius: 50%;\n",
              "      cursor: pointer;\n",
              "      display: none;\n",
              "      fill: #1967D2;\n",
              "      height: 32px;\n",
              "      padding: 0 0 0 0;\n",
              "      width: 32px;\n",
              "    }\n",
              "\n",
              "    .colab-df-convert:hover {\n",
              "      background-color: #E2EBFA;\n",
              "      box-shadow: 0px 1px 2px rgba(60, 64, 67, 0.3), 0px 1px 3px 1px rgba(60, 64, 67, 0.15);\n",
              "      fill: #174EA6;\n",
              "    }\n",
              "\n",
              "    [theme=dark] .colab-df-convert {\n",
              "      background-color: #3B4455;\n",
              "      fill: #D2E3FC;\n",
              "    }\n",
              "\n",
              "    [theme=dark] .colab-df-convert:hover {\n",
              "      background-color: #434B5C;\n",
              "      box-shadow: 0px 1px 3px 1px rgba(0, 0, 0, 0.15);\n",
              "      filter: drop-shadow(0px 1px 2px rgba(0, 0, 0, 0.3));\n",
              "      fill: #FFFFFF;\n",
              "    }\n",
              "  </style>\n",
              "\n",
              "      <script>\n",
              "        const buttonEl =\n",
              "          document.querySelector('#df-ec4c3e34-9262-4377-84e4-099fcfe23c2a button.colab-df-convert');\n",
              "        buttonEl.style.display =\n",
              "          google.colab.kernel.accessAllowed ? 'block' : 'none';\n",
              "\n",
              "        async function convertToInteractive(key) {\n",
              "          const element = document.querySelector('#df-ec4c3e34-9262-4377-84e4-099fcfe23c2a');\n",
              "          const dataTable =\n",
              "            await google.colab.kernel.invokeFunction('convertToInteractive',\n",
              "                                                     [key], {});\n",
              "          if (!dataTable) return;\n",
              "\n",
              "          const docLinkHtml = 'Like what you see? Visit the ' +\n",
              "            '<a target=\"_blank\" href=https://colab.research.google.com/notebooks/data_table.ipynb>data table notebook</a>'\n",
              "            + ' to learn more about interactive tables.';\n",
              "          element.innerHTML = '';\n",
              "          dataTable['output_type'] = 'display_data';\n",
              "          await google.colab.output.renderOutput(dataTable, element);\n",
              "          const docLink = document.createElement('div');\n",
              "          docLink.innerHTML = docLinkHtml;\n",
              "          element.appendChild(docLink);\n",
              "        }\n",
              "      </script>\n",
              "    </div>\n",
              "  </div>\n",
              "  "
            ]
          },
          "metadata": {},
          "execution_count": 48
        }
      ],
      "source": [
        "singleXGB"
      ]
    },
    {
      "cell_type": "code",
      "execution_count": 49,
      "metadata": {
        "id": "bgduxmELGn3y",
        "colab": {
          "base_uri": "https://localhost:8080/",
          "height": 423
        },
        "outputId": "2f976d0e-be94-4a86-ff5c-0c9443cc4e52"
      },
      "outputs": [
        {
          "output_type": "execute_result",
          "data": {
            "text/plain": [
              "                  Country  Life expectancy \n",
              "0               Swaziland           52.0852\n",
              "1    United Arab Emirates           72.3983\n",
              "2                 Nigeria           60.0415\n",
              "3               Guatemala           69.6519\n",
              "4                 Eritrea           68.7490\n",
              "..                    ...               ...\n",
              "583                Greece           76.8594\n",
              "584      Papua New Guinea           66.0145\n",
              "585                 Niger           64.0379\n",
              "586             Swaziland           56.3883\n",
              "587               Georgia           74.8297\n",
              "\n",
              "[588 rows x 2 columns]"
            ],
            "text/html": [
              "\n",
              "  <div id=\"df-ed515be8-de5c-4c2d-877b-a49fe6565106\">\n",
              "    <div class=\"colab-df-container\">\n",
              "      <div>\n",
              "<style scoped>\n",
              "    .dataframe tbody tr th:only-of-type {\n",
              "        vertical-align: middle;\n",
              "    }\n",
              "\n",
              "    .dataframe tbody tr th {\n",
              "        vertical-align: top;\n",
              "    }\n",
              "\n",
              "    .dataframe thead th {\n",
              "        text-align: right;\n",
              "    }\n",
              "</style>\n",
              "<table border=\"1\" class=\"dataframe\">\n",
              "  <thead>\n",
              "    <tr style=\"text-align: right;\">\n",
              "      <th></th>\n",
              "      <th>Country</th>\n",
              "      <th>Life expectancy</th>\n",
              "    </tr>\n",
              "  </thead>\n",
              "  <tbody>\n",
              "    <tr>\n",
              "      <th>0</th>\n",
              "      <td>Swaziland</td>\n",
              "      <td>52.0852</td>\n",
              "    </tr>\n",
              "    <tr>\n",
              "      <th>1</th>\n",
              "      <td>United Arab Emirates</td>\n",
              "      <td>72.3983</td>\n",
              "    </tr>\n",
              "    <tr>\n",
              "      <th>2</th>\n",
              "      <td>Nigeria</td>\n",
              "      <td>60.0415</td>\n",
              "    </tr>\n",
              "    <tr>\n",
              "      <th>3</th>\n",
              "      <td>Guatemala</td>\n",
              "      <td>69.6519</td>\n",
              "    </tr>\n",
              "    <tr>\n",
              "      <th>4</th>\n",
              "      <td>Eritrea</td>\n",
              "      <td>68.7490</td>\n",
              "    </tr>\n",
              "    <tr>\n",
              "      <th>...</th>\n",
              "      <td>...</td>\n",
              "      <td>...</td>\n",
              "    </tr>\n",
              "    <tr>\n",
              "      <th>583</th>\n",
              "      <td>Greece</td>\n",
              "      <td>76.8594</td>\n",
              "    </tr>\n",
              "    <tr>\n",
              "      <th>584</th>\n",
              "      <td>Papua New Guinea</td>\n",
              "      <td>66.0145</td>\n",
              "    </tr>\n",
              "    <tr>\n",
              "      <th>585</th>\n",
              "      <td>Niger</td>\n",
              "      <td>64.0379</td>\n",
              "    </tr>\n",
              "    <tr>\n",
              "      <th>586</th>\n",
              "      <td>Swaziland</td>\n",
              "      <td>56.3883</td>\n",
              "    </tr>\n",
              "    <tr>\n",
              "      <th>587</th>\n",
              "      <td>Georgia</td>\n",
              "      <td>74.8297</td>\n",
              "    </tr>\n",
              "  </tbody>\n",
              "</table>\n",
              "<p>588 rows × 2 columns</p>\n",
              "</div>\n",
              "      <button class=\"colab-df-convert\" onclick=\"convertToInteractive('df-ed515be8-de5c-4c2d-877b-a49fe6565106')\"\n",
              "              title=\"Convert this dataframe to an interactive table.\"\n",
              "              style=\"display:none;\">\n",
              "        \n",
              "  <svg xmlns=\"http://www.w3.org/2000/svg\" height=\"24px\"viewBox=\"0 0 24 24\"\n",
              "       width=\"24px\">\n",
              "    <path d=\"M0 0h24v24H0V0z\" fill=\"none\"/>\n",
              "    <path d=\"M18.56 5.44l.94 2.06.94-2.06 2.06-.94-2.06-.94-.94-2.06-.94 2.06-2.06.94zm-11 1L8.5 8.5l.94-2.06 2.06-.94-2.06-.94L8.5 2.5l-.94 2.06-2.06.94zm10 10l.94 2.06.94-2.06 2.06-.94-2.06-.94-.94-2.06-.94 2.06-2.06.94z\"/><path d=\"M17.41 7.96l-1.37-1.37c-.4-.4-.92-.59-1.43-.59-.52 0-1.04.2-1.43.59L10.3 9.45l-7.72 7.72c-.78.78-.78 2.05 0 2.83L4 21.41c.39.39.9.59 1.41.59.51 0 1.02-.2 1.41-.59l7.78-7.78 2.81-2.81c.8-.78.8-2.07 0-2.86zM5.41 20L4 18.59l7.72-7.72 1.47 1.35L5.41 20z\"/>\n",
              "  </svg>\n",
              "      </button>\n",
              "      \n",
              "  <style>\n",
              "    .colab-df-container {\n",
              "      display:flex;\n",
              "      flex-wrap:wrap;\n",
              "      gap: 12px;\n",
              "    }\n",
              "\n",
              "    .colab-df-convert {\n",
              "      background-color: #E8F0FE;\n",
              "      border: none;\n",
              "      border-radius: 50%;\n",
              "      cursor: pointer;\n",
              "      display: none;\n",
              "      fill: #1967D2;\n",
              "      height: 32px;\n",
              "      padding: 0 0 0 0;\n",
              "      width: 32px;\n",
              "    }\n",
              "\n",
              "    .colab-df-convert:hover {\n",
              "      background-color: #E2EBFA;\n",
              "      box-shadow: 0px 1px 2px rgba(60, 64, 67, 0.3), 0px 1px 3px 1px rgba(60, 64, 67, 0.15);\n",
              "      fill: #174EA6;\n",
              "    }\n",
              "\n",
              "    [theme=dark] .colab-df-convert {\n",
              "      background-color: #3B4455;\n",
              "      fill: #D2E3FC;\n",
              "    }\n",
              "\n",
              "    [theme=dark] .colab-df-convert:hover {\n",
              "      background-color: #434B5C;\n",
              "      box-shadow: 0px 1px 3px 1px rgba(0, 0, 0, 0.15);\n",
              "      filter: drop-shadow(0px 1px 2px rgba(0, 0, 0, 0.3));\n",
              "      fill: #FFFFFF;\n",
              "    }\n",
              "  </style>\n",
              "\n",
              "      <script>\n",
              "        const buttonEl =\n",
              "          document.querySelector('#df-ed515be8-de5c-4c2d-877b-a49fe6565106 button.colab-df-convert');\n",
              "        buttonEl.style.display =\n",
              "          google.colab.kernel.accessAllowed ? 'block' : 'none';\n",
              "\n",
              "        async function convertToInteractive(key) {\n",
              "          const element = document.querySelector('#df-ed515be8-de5c-4c2d-877b-a49fe6565106');\n",
              "          const dataTable =\n",
              "            await google.colab.kernel.invokeFunction('convertToInteractive',\n",
              "                                                     [key], {});\n",
              "          if (!dataTable) return;\n",
              "\n",
              "          const docLinkHtml = 'Like what you see? Visit the ' +\n",
              "            '<a target=\"_blank\" href=https://colab.research.google.com/notebooks/data_table.ipynb>data table notebook</a>'\n",
              "            + ' to learn more about interactive tables.';\n",
              "          element.innerHTML = '';\n",
              "          dataTable['output_type'] = 'display_data';\n",
              "          await google.colab.output.renderOutput(dataTable, element);\n",
              "          const docLink = document.createElement('div');\n",
              "          docLink.innerHTML = docLinkHtml;\n",
              "          element.appendChild(docLink);\n",
              "        }\n",
              "      </script>\n",
              "    </div>\n",
              "  </div>\n",
              "  "
            ]
          },
          "metadata": {},
          "execution_count": 49
        }
      ],
      "source": [
        "singleRF"
      ]
    },
    {
      "cell_type": "markdown",
      "metadata": {
        "id": "3pMpZng4GxCR"
      },
      "source": [
        "# 모델들의 mse rmse 결정계수"
      ]
    },
    {
      "cell_type": "code",
      "execution_count": 50,
      "metadata": {
        "id": "NKrAkXe3GptN",
        "colab": {
          "base_uri": "https://localhost:8080/"
        },
        "outputId": "a7d3067c-4e1e-4b64-a305-ed008ae6ecf6"
      },
      "outputs": [
        {
          "output_type": "stream",
          "name": "stdout",
          "text": [
            "LinerRegression\n",
            "LinerRegression 모델의 Mean_Squared_Error =  59.44235376122046\n",
            "LinerRegression 모델의 RMSE =  7.709886754111273\n",
            "LinerRegression 모델의 결정계수 = 0.46040727944190174\n",
            "\n",
            "Lightgbm\n",
            "Lightgbm 모델의 Mean_Squared_Error =  35.55360983484721\n",
            "Lightgbm 모델의 RMSE =  5.9626847841259565\n",
            "Lightgbm 모델의 결정계수 = 0.6772592630919319\n",
            "\n",
            "XGB\n",
            "XGB 모델의 Mean_Squared_Error =  29.877119900172215\n",
            "XGB 모델의 RMSE =  5.465996697782776\n",
            "XGB 모델의 결정계수 = 0.7287880544883151\n",
            "\n",
            "RandomForest\n",
            "RandomForest 모델의 Mean_Squared_Error =  27.89143414337072\n",
            "RandomForest 모델의 RMSE =  5.281234149644448\n",
            "RandomForest 모델의 결정계수 =  0.7468132757638728\n",
            "\n"
          ]
        }
      ],
      "source": [
        "# 모델들의 mse rmse 결정계수\n",
        "\n",
        "#LinerRegression\n",
        "print(\"LinerRegression\")\n",
        "print('LinerRegression 모델의 Mean_Squared_Error = ', mean_squared_error(life_expect_test['Life expectancy '], singleLR['Life expectancy ']))\n",
        "print('LinerRegression 모델의 RMSE = ',  mean_squared_error(life_expect_test['Life expectancy '], singleLR['Life expectancy '])**0.5)\n",
        "print(\"LinerRegression 모델의 결정계수 =\",r2_score(life_expect_test['Life expectancy '], singleLR['Life expectancy ']))\n",
        "print(\"\")\n",
        "#Lightgbm\n",
        "print(\"Lightgbm\")\n",
        "print('Lightgbm 모델의 Mean_Squared_Error = ', mean_squared_error(life_expect_test['Life expectancy '], singleLGBM['Life expectancy ']))\n",
        "print('Lightgbm 모델의 RMSE = ',  mean_squared_error(life_expect_test['Life expectancy '], singleLGBM['Life expectancy '])**0.5)\n",
        "print(\"Lightgbm 모델의 결정계수 =\" ,r2_score(life_expect_test['Life expectancy '], singleLGBM['Life expectancy ']))\n",
        "print(\"\")\n",
        "#XGB\n",
        "print(\"XGB\")\n",
        "print('XGB 모델의 Mean_Squared_Error = ', mean_squared_error(life_expect_test['Life expectancy '], singleXGB['Life expectancy ']))\n",
        "print('XGB 모델의 RMSE = ',  mean_squared_error(life_expect_test['Life expectancy '], singleXGB['Life expectancy '])**0.5)\n",
        "print(\"XGB 모델의 결정계수 =\", r2_score(life_expect_test['Life expectancy '], singleXGB['Life expectancy ']))\n",
        "print(\"\")\n",
        "#RandomForest\n",
        "print(\"RandomForest\")\n",
        "print('RandomForest 모델의 Mean_Squared_Error = ', mean_squared_error(life_expect_test['Life expectancy '], singleRF['Life expectancy ']))\n",
        "print('RandomForest 모델의 RMSE = ',  mean_squared_error(life_expect_test['Life expectancy '], singleRF['Life expectancy '])**0.5)\n",
        "print(\"RandomForest 모델의 결정계수 = \",r2_score(life_expect_test['Life expectancy '], singleRF['Life expectancy ']))\n",
        "print(\"\")"
      ]
    },
    {
      "cell_type": "markdown",
      "source": [
        "# XGBoostRegressor + BayesianOptimization"
      ],
      "metadata": {
        "id": "c4rgXPGeE59H"
      }
    },
    {
      "cell_type": "code",
      "source": [
        "# 하이퍼 파라미터 범위\n",
        "\n",
        "pbounds = { 'learning_rate': (0.0001, 0.4),\n",
        "            'n_estimators': (10, 1000),\n",
        "            'max_depth': (3,10),   \n",
        "            'subsample': (0.5, 1),  \n",
        "            'colsample_bytree': (0.5, 1),   \n",
        "            'gamma': (0, 5)}\n",
        "\n",
        "def xgb_opt(learning_rate, n_estimators, max_depth, subsample, colsample_bytree, gamma):\n",
        "    \n",
        "    params = {\n",
        "        'learning_rate': learning_rate,                      # 학습률\n",
        "        'n_estimators' : int(round(n_estimators)),           # 생성할 tree의 갯수\n",
        "        'max_depth' : int(round(max_depth)),                 # 최대 깊이\n",
        "        'subsample': subsample,                              # 각 트리마다의 관측 데이터 샘플링 비율\n",
        "        'colsample': colsample_bytree,                       # 각 트리마다의 feature 샘플링 비율\n",
        "        'gamma': gamma,                                      # 분할을 수행하는데 필요한 최소 손실 감소\n",
        "        'n_jobs' : -1,                                       # 사용할 cpu 갯수( -1 있는거 다 사용)\n",
        "        'random_state' : 777                                 # 랜덤 샘플링시 고정할 시드 값\n",
        "    }\n",
        "    \n",
        "    m_xgb = xgb.XGBRegressor(**params)\n",
        "    \n",
        "    kf = KFold(n_splits = 5 , shuffle=True, random_state=50)\n",
        "\n",
        "    score = cross_val_score(m_xgb, x_train, y_train, scoring='neg_mean_squared_error', cv=kf, n_jobs=-1)\n",
        "    \n",
        "    return np.mean(score)\n",
        "\n",
        "BO_xgb = BayesianOptimization(f = xgb_opt, pbounds = pbounds, random_state=0)"
      ],
      "metadata": {
        "id": "l0XS9C2tCciE"
      },
      "execution_count": 51,
      "outputs": []
    },
    {
      "cell_type": "code",
      "source": [
        "BO_xgb.maximize(init_points = 10, n_iter = 100)"
      ],
      "metadata": {
        "colab": {
          "base_uri": "https://localhost:8080/"
        },
        "id": "MzZBrYcWFFrj",
        "outputId": "48fccb75-27b6-4de9-f6d0-1104d7c3e08a"
      },
      "execution_count": 52,
      "outputs": [
        {
          "output_type": "stream",
          "name": "stdout",
          "text": [
            "|   iter    |  target   | colsam... |   gamma   | learni... | max_depth | n_esti... | subsample |\n",
            "-------------------------------------------------------------------------------------------------\n",
            "| \u001b[0m1        \u001b[0m | \u001b[0m-28.16   \u001b[0m | \u001b[0m0.7744   \u001b[0m | \u001b[0m3.576    \u001b[0m | \u001b[0m0.2411   \u001b[0m | \u001b[0m6.814    \u001b[0m | \u001b[0m429.4    \u001b[0m | \u001b[0m0.8229   \u001b[0m |\n",
            "| \u001b[0m2        \u001b[0m | \u001b[0m-30.68   \u001b[0m | \u001b[0m0.7188   \u001b[0m | \u001b[0m4.459    \u001b[0m | \u001b[0m0.3855   \u001b[0m | \u001b[0m5.684    \u001b[0m | \u001b[0m793.8    \u001b[0m | \u001b[0m0.7644   \u001b[0m |\n",
            "| \u001b[0m3        \u001b[0m | \u001b[0m-884.4   \u001b[0m | \u001b[0m0.784    \u001b[0m | \u001b[0m4.628    \u001b[0m | \u001b[0m0.02851  \u001b[0m | \u001b[0m3.61     \u001b[0m | \u001b[0m30.02    \u001b[0m | \u001b[0m0.9163   \u001b[0m |\n",
            "| \u001b[0m4        \u001b[0m | \u001b[0m-30.51   \u001b[0m | \u001b[0m0.8891   \u001b[0m | \u001b[0m4.35     \u001b[0m | \u001b[0m0.3914   \u001b[0m | \u001b[0m8.594    \u001b[0m | \u001b[0m466.9    \u001b[0m | \u001b[0m0.8903   \u001b[0m |\n",
            "| \u001b[95m5        \u001b[0m | \u001b[95m-25.97   \u001b[0m | \u001b[95m0.5591   \u001b[0m | \u001b[95m3.2      \u001b[0m | \u001b[95m0.05743  \u001b[0m | \u001b[95m9.613    \u001b[0m | \u001b[95m526.6    \u001b[0m | \u001b[95m0.7073   \u001b[0m |\n",
            "| \u001b[0m6        \u001b[0m | \u001b[0m-31.0    \u001b[0m | \u001b[0m0.6323   \u001b[0m | \u001b[0m3.871    \u001b[0m | \u001b[0m0.1825   \u001b[0m | \u001b[0m6.979    \u001b[0m | \u001b[0m28.6     \u001b[0m | \u001b[0m0.8088   \u001b[0m |\n",
            "| \u001b[0m7        \u001b[0m | \u001b[0m-31.0    \u001b[0m | \u001b[0m0.806    \u001b[0m | \u001b[0m3.085    \u001b[0m | \u001b[0m0.3775   \u001b[0m | \u001b[0m7.773    \u001b[0m | \u001b[0m365.9    \u001b[0m | \u001b[0m0.7185   \u001b[0m |\n",
            "| \u001b[0m8        \u001b[0m | \u001b[0m-27.98   \u001b[0m | \u001b[0m0.8488   \u001b[0m | \u001b[0m0.3011   \u001b[0m | \u001b[0m0.2667   \u001b[0m | \u001b[0m7.694    \u001b[0m | \u001b[0m218.3    \u001b[0m | \u001b[0m0.5645   \u001b[0m |\n",
            "| \u001b[0m9        \u001b[0m | \u001b[0m-28.63   \u001b[0m | \u001b[0m0.6577   \u001b[0m | \u001b[0m1.819    \u001b[0m | \u001b[0m0.2281   \u001b[0m | \u001b[0m6.07     \u001b[0m | \u001b[0m988.5    \u001b[0m | \u001b[0m0.551    \u001b[0m |\n",
            "| \u001b[0m10       \u001b[0m | \u001b[0m-30.9    \u001b[0m | \u001b[0m0.6044   \u001b[0m | \u001b[0m0.8065   \u001b[0m | \u001b[0m0.2613   \u001b[0m | \u001b[0m4.773    \u001b[0m | \u001b[0m471.6    \u001b[0m | \u001b[0m0.6222   \u001b[0m |\n",
            "| \u001b[0m11       \u001b[0m | \u001b[0m-29.66   \u001b[0m | \u001b[0m0.6562   \u001b[0m | \u001b[0m3.529    \u001b[0m | \u001b[0m0.324    \u001b[0m | \u001b[0m6.999    \u001b[0m | \u001b[0m429.4    \u001b[0m | \u001b[0m0.9441   \u001b[0m |\n",
            "| \u001b[0m12       \u001b[0m | \u001b[0m-28.76   \u001b[0m | \u001b[0m0.7123   \u001b[0m | \u001b[0m1.687    \u001b[0m | \u001b[0m0.1862   \u001b[0m | \u001b[0m9.279    \u001b[0m | \u001b[0m27.68    \u001b[0m | \u001b[0m0.689    \u001b[0m |\n",
            "| \u001b[0m13       \u001b[0m | \u001b[0m-29.48   \u001b[0m | \u001b[0m0.5595   \u001b[0m | \u001b[0m4.862    \u001b[0m | \u001b[0m0.2074   \u001b[0m | \u001b[0m9.027    \u001b[0m | \u001b[0m25.63    \u001b[0m | \u001b[0m0.861    \u001b[0m |\n",
            "| \u001b[0m14       \u001b[0m | \u001b[0m-53.22   \u001b[0m | \u001b[0m0.6087   \u001b[0m | \u001b[0m3.766    \u001b[0m | \u001b[0m0.0872   \u001b[0m | \u001b[0m9.662    \u001b[0m | \u001b[0m30.19    \u001b[0m | \u001b[0m0.8627   \u001b[0m |\n",
            "| \u001b[0m15       \u001b[0m | \u001b[0m-28.93   \u001b[0m | \u001b[0m0.7374   \u001b[0m | \u001b[0m2.666    \u001b[0m | \u001b[0m0.2898   \u001b[0m | \u001b[0m8.747    \u001b[0m | \u001b[0m471.0    \u001b[0m | \u001b[0m0.7444   \u001b[0m |\n",
            "| \u001b[0m16       \u001b[0m | \u001b[0m-28.95   \u001b[0m | \u001b[0m0.6176   \u001b[0m | \u001b[0m4.699    \u001b[0m | \u001b[0m0.2515   \u001b[0m | \u001b[0m4.761    \u001b[0m | \u001b[0m470.0    \u001b[0m | \u001b[0m0.9276   \u001b[0m |\n",
            "| \u001b[0m17       \u001b[0m | \u001b[0m-4.369e+0\u001b[0m | \u001b[0m0.5      \u001b[0m | \u001b[0m0.9679   \u001b[0m | \u001b[0m0.0001   \u001b[0m | \u001b[0m5.992    \u001b[0m | \u001b[0m467.5    \u001b[0m | \u001b[0m0.5      \u001b[0m |\n",
            "| \u001b[0m18       \u001b[0m | \u001b[0m-28.84   \u001b[0m | \u001b[0m0.6108   \u001b[0m | \u001b[0m4.17     \u001b[0m | \u001b[0m0.2246   \u001b[0m | \u001b[0m4.81     \u001b[0m | \u001b[0m473.6    \u001b[0m | \u001b[0m0.7482   \u001b[0m |\n",
            "| \u001b[0m19       \u001b[0m | \u001b[0m-29.31   \u001b[0m | \u001b[0m0.8546   \u001b[0m | \u001b[0m1.128    \u001b[0m | \u001b[0m0.2597   \u001b[0m | \u001b[0m6.585    \u001b[0m | \u001b[0m475.0    \u001b[0m | \u001b[0m0.9813   \u001b[0m |\n",
            "| \u001b[0m20       \u001b[0m | \u001b[0m-28.88   \u001b[0m | \u001b[0m0.9995   \u001b[0m | \u001b[0m4.575    \u001b[0m | \u001b[0m0.2759   \u001b[0m | \u001b[0m8.327    \u001b[0m | \u001b[0m473.8    \u001b[0m | \u001b[0m0.8445   \u001b[0m |\n",
            "| \u001b[0m21       \u001b[0m | \u001b[0m-32.83   \u001b[0m | \u001b[0m0.9914   \u001b[0m | \u001b[0m0.5507   \u001b[0m | \u001b[0m0.2724   \u001b[0m | \u001b[0m3.053    \u001b[0m | \u001b[0m475.0    \u001b[0m | \u001b[0m0.7836   \u001b[0m |\n",
            "| \u001b[0m22       \u001b[0m | \u001b[0m-84.04   \u001b[0m | \u001b[0m0.7623   \u001b[0m | \u001b[0m2.28     \u001b[0m | \u001b[0m0.09181  \u001b[0m | \u001b[0m6.475    \u001b[0m | \u001b[0m24.33    \u001b[0m | \u001b[0m0.6838   \u001b[0m |\n",
            "| \u001b[0m23       \u001b[0m | \u001b[0m-30.11   \u001b[0m | \u001b[0m0.9684   \u001b[0m | \u001b[0m1.414    \u001b[0m | \u001b[0m0.3685   \u001b[0m | \u001b[0m9.913    \u001b[0m | \u001b[0m474.1    \u001b[0m | \u001b[0m0.9146   \u001b[0m |\n",
            "| \u001b[0m24       \u001b[0m | \u001b[0m-29.39   \u001b[0m | \u001b[0m0.5262   \u001b[0m | \u001b[0m2.817    \u001b[0m | \u001b[0m0.1586   \u001b[0m | \u001b[0m4.586    \u001b[0m | \u001b[0m478.5    \u001b[0m | \u001b[0m0.5511   \u001b[0m |\n",
            "| \u001b[0m25       \u001b[0m | \u001b[0m-29.32   \u001b[0m | \u001b[0m0.6959   \u001b[0m | \u001b[0m1.977    \u001b[0m | \u001b[0m0.38     \u001b[0m | \u001b[0m9.095    \u001b[0m | \u001b[0m478.5    \u001b[0m | \u001b[0m0.65     \u001b[0m |\n",
            "| \u001b[0m26       \u001b[0m | \u001b[0m-28.85   \u001b[0m | \u001b[0m0.578    \u001b[0m | \u001b[0m1.418    \u001b[0m | \u001b[0m0.01076  \u001b[0m | \u001b[0m7.382    \u001b[0m | \u001b[0m482.3    \u001b[0m | \u001b[0m0.588    \u001b[0m |\n",
            "| \u001b[0m27       \u001b[0m | \u001b[0m-28.78   \u001b[0m | \u001b[0m0.6125   \u001b[0m | \u001b[0m4.909    \u001b[0m | \u001b[0m0.2453   \u001b[0m | \u001b[0m7.408    \u001b[0m | \u001b[0m481.0    \u001b[0m | \u001b[0m0.9183   \u001b[0m |\n",
            "| \u001b[0m28       \u001b[0m | \u001b[0m-32.38   \u001b[0m | \u001b[0m1.0      \u001b[0m | \u001b[0m3.561    \u001b[0m | \u001b[0m0.4      \u001b[0m | \u001b[0m3.538    \u001b[0m | \u001b[0m482.8    \u001b[0m | \u001b[0m1.0      \u001b[0m |\n",
            "| \u001b[0m29       \u001b[0m | \u001b[0m-28.05   \u001b[0m | \u001b[0m0.9316   \u001b[0m | \u001b[0m4.547    \u001b[0m | \u001b[0m0.1668   \u001b[0m | \u001b[0m7.854    \u001b[0m | \u001b[0m485.8    \u001b[0m | \u001b[0m0.8857   \u001b[0m |\n",
            "| \u001b[0m30       \u001b[0m | \u001b[0m-32.6    \u001b[0m | \u001b[0m0.7528   \u001b[0m | \u001b[0m0.5189   \u001b[0m | \u001b[0m0.399    \u001b[0m | \u001b[0m4.73     \u001b[0m | \u001b[0m486.3    \u001b[0m | \u001b[0m0.7459   \u001b[0m |\n",
            "| \u001b[0m31       \u001b[0m | \u001b[0m-30.9    \u001b[0m | \u001b[0m0.5537   \u001b[0m | \u001b[0m4.316    \u001b[0m | \u001b[0m0.1674   \u001b[0m | \u001b[0m3.424    \u001b[0m | \u001b[0m487.5    \u001b[0m | \u001b[0m0.8929   \u001b[0m |\n",
            "| \u001b[0m32       \u001b[0m | \u001b[0m-28.85   \u001b[0m | \u001b[0m0.983    \u001b[0m | \u001b[0m0.08008  \u001b[0m | \u001b[0m0.3444   \u001b[0m | \u001b[0m9.467    \u001b[0m | \u001b[0m486.0    \u001b[0m | \u001b[0m0.5001   \u001b[0m |\n",
            "| \u001b[0m33       \u001b[0m | \u001b[0m-27.77   \u001b[0m | \u001b[0m0.8097   \u001b[0m | \u001b[0m2.828    \u001b[0m | \u001b[0m0.1386   \u001b[0m | \u001b[0m7.853    \u001b[0m | \u001b[0m490.1    \u001b[0m | \u001b[0m0.9573   \u001b[0m |\n",
            "| \u001b[0m34       \u001b[0m | \u001b[0m-29.84   \u001b[0m | \u001b[0m0.6713   \u001b[0m | \u001b[0m1.315    \u001b[0m | \u001b[0m0.1696   \u001b[0m | \u001b[0m4.149    \u001b[0m | \u001b[0m490.7    \u001b[0m | \u001b[0m0.9536   \u001b[0m |\n",
            "| \u001b[0m35       \u001b[0m | \u001b[0m-28.16   \u001b[0m | \u001b[0m0.6185   \u001b[0m | \u001b[0m3.93     \u001b[0m | \u001b[0m0.03203  \u001b[0m | \u001b[0m4.834    \u001b[0m | \u001b[0m494.0    \u001b[0m | \u001b[0m0.6074   \u001b[0m |\n",
            "| \u001b[0m36       \u001b[0m | \u001b[0m-28.12   \u001b[0m | \u001b[0m0.5672   \u001b[0m | \u001b[0m3.801    \u001b[0m | \u001b[0m0.1921   \u001b[0m | \u001b[0m9.33     \u001b[0m | \u001b[0m494.3    \u001b[0m | \u001b[0m0.7728   \u001b[0m |\n",
            "| \u001b[0m37       \u001b[0m | \u001b[0m-26.75   \u001b[0m | \u001b[0m0.6239   \u001b[0m | \u001b[0m0.2144   \u001b[0m | \u001b[0m0.0697   \u001b[0m | \u001b[0m7.381    \u001b[0m | \u001b[0m493.5    \u001b[0m | \u001b[0m0.7386   \u001b[0m |\n",
            "| \u001b[0m38       \u001b[0m | \u001b[0m-28.28   \u001b[0m | \u001b[0m0.8321   \u001b[0m | \u001b[0m0.9156   \u001b[0m | \u001b[0m0.153    \u001b[0m | \u001b[0m4.828    \u001b[0m | \u001b[0m497.2    \u001b[0m | \u001b[0m0.906    \u001b[0m |\n",
            "| \u001b[0m39       \u001b[0m | \u001b[0m-28.62   \u001b[0m | \u001b[0m0.6116   \u001b[0m | \u001b[0m0.8063   \u001b[0m | \u001b[0m0.193    \u001b[0m | \u001b[0m9.395    \u001b[0m | \u001b[0m497.8    \u001b[0m | \u001b[0m0.6989   \u001b[0m |\n",
            "| \u001b[0m40       \u001b[0m | \u001b[0m-28.45   \u001b[0m | \u001b[0m0.8899   \u001b[0m | \u001b[0m3.381    \u001b[0m | \u001b[0m0.221    \u001b[0m | \u001b[0m6.79     \u001b[0m | \u001b[0m500.2    \u001b[0m | \u001b[0m0.6305   \u001b[0m |\n",
            "| \u001b[0m41       \u001b[0m | \u001b[0m-29.96   \u001b[0m | \u001b[0m0.538    \u001b[0m | \u001b[0m0.2062   \u001b[0m | \u001b[0m0.3207   \u001b[0m | \u001b[0m9.863    \u001b[0m | \u001b[0m502.6    \u001b[0m | \u001b[0m0.6591   \u001b[0m |\n",
            "| \u001b[0m42       \u001b[0m | \u001b[0m-28.33   \u001b[0m | \u001b[0m0.6566   \u001b[0m | \u001b[0m0.0413   \u001b[0m | \u001b[0m0.2511   \u001b[0m | \u001b[0m5.429    \u001b[0m | \u001b[0m502.4    \u001b[0m | \u001b[0m0.9413   \u001b[0m |\n",
            "| \u001b[0m43       \u001b[0m | \u001b[0m-28.04   \u001b[0m | \u001b[0m0.6928   \u001b[0m | \u001b[0m2.581    \u001b[0m | \u001b[0m0.1683   \u001b[0m | \u001b[0m7.34     \u001b[0m | \u001b[0m505.2    \u001b[0m | \u001b[0m0.9503   \u001b[0m |\n",
            "| \u001b[0m44       \u001b[0m | \u001b[0m-32.66   \u001b[0m | \u001b[0m0.5203   \u001b[0m | \u001b[0m3.642    \u001b[0m | \u001b[0m0.02047  \u001b[0m | \u001b[0m3.039    \u001b[0m | \u001b[0m502.3    \u001b[0m | \u001b[0m0.8653   \u001b[0m |\n",
            "| \u001b[0m45       \u001b[0m | \u001b[0m-33.0    \u001b[0m | \u001b[0m0.6315   \u001b[0m | \u001b[0m1.345    \u001b[0m | \u001b[0m0.3949   \u001b[0m | \u001b[0m3.067    \u001b[0m | \u001b[0m506.0    \u001b[0m | \u001b[0m0.9151   \u001b[0m |\n",
            "| \u001b[0m46       \u001b[0m | \u001b[0m-29.47   \u001b[0m | \u001b[0m0.7292   \u001b[0m | \u001b[0m4.736    \u001b[0m | \u001b[0m0.08451  \u001b[0m | \u001b[0m4.197    \u001b[0m | \u001b[0m508.6    \u001b[0m | \u001b[0m0.8844   \u001b[0m |\n",
            "| \u001b[0m47       \u001b[0m | \u001b[0m-30.13   \u001b[0m | \u001b[0m0.9374   \u001b[0m | \u001b[0m0.3429   \u001b[0m | \u001b[0m0.2821   \u001b[0m | \u001b[0m6.286    \u001b[0m | \u001b[0m508.8    \u001b[0m | \u001b[0m0.5141   \u001b[0m |\n",
            "| \u001b[0m48       \u001b[0m | \u001b[0m-27.36   \u001b[0m | \u001b[0m0.5903   \u001b[0m | \u001b[0m4.238    \u001b[0m | \u001b[0m0.1847   \u001b[0m | \u001b[0m8.699    \u001b[0m | \u001b[0m509.1    \u001b[0m | \u001b[0m0.6645   \u001b[0m |\n",
            "| \u001b[0m49       \u001b[0m | \u001b[0m-31.11   \u001b[0m | \u001b[0m0.911    \u001b[0m | \u001b[0m2.95     \u001b[0m | \u001b[0m0.3037   \u001b[0m | \u001b[0m6.047    \u001b[0m | \u001b[0m512.7    \u001b[0m | \u001b[0m0.8718   \u001b[0m |\n",
            "| \u001b[0m50       \u001b[0m | \u001b[0m-27.61   \u001b[0m | \u001b[0m0.862    \u001b[0m | \u001b[0m1.324    \u001b[0m | \u001b[0m0.2262   \u001b[0m | \u001b[0m9.372    \u001b[0m | \u001b[0m511.6    \u001b[0m | \u001b[0m0.8806   \u001b[0m |\n",
            "| \u001b[0m51       \u001b[0m | \u001b[0m-28.73   \u001b[0m | \u001b[0m0.9638   \u001b[0m | \u001b[0m4.847    \u001b[0m | \u001b[0m0.2825   \u001b[0m | \u001b[0m9.157    \u001b[0m | \u001b[0m515.4    \u001b[0m | \u001b[0m0.6397   \u001b[0m |\n",
            "| \u001b[0m52       \u001b[0m | \u001b[0m-27.81   \u001b[0m | \u001b[0m0.5066   \u001b[0m | \u001b[0m0.9375   \u001b[0m | \u001b[0m0.0137   \u001b[0m | \u001b[0m7.083    \u001b[0m | \u001b[0m516.8    \u001b[0m | \u001b[0m0.83     \u001b[0m |\n",
            "| \u001b[0m53       \u001b[0m | \u001b[0m-30.48   \u001b[0m | \u001b[0m0.5      \u001b[0m | \u001b[0m0.0      \u001b[0m | \u001b[0m0.4      \u001b[0m | \u001b[0m10.0     \u001b[0m | \u001b[0m507.2    \u001b[0m | \u001b[0m1.0      \u001b[0m |\n",
            "| \u001b[0m54       \u001b[0m | \u001b[0m-27.08   \u001b[0m | \u001b[0m0.9866   \u001b[0m | \u001b[0m4.968    \u001b[0m | \u001b[0m0.1142   \u001b[0m | \u001b[0m9.881    \u001b[0m | \u001b[0m464.0    \u001b[0m | \u001b[0m0.9195   \u001b[0m |\n",
            "| \u001b[0m55       \u001b[0m | \u001b[0m-28.94   \u001b[0m | \u001b[0m0.536    \u001b[0m | \u001b[0m4.818    \u001b[0m | \u001b[0m0.2332   \u001b[0m | \u001b[0m8.278    \u001b[0m | \u001b[0m519.9    \u001b[0m | \u001b[0m0.8764   \u001b[0m |\n",
            "| \u001b[0m56       \u001b[0m | \u001b[0m-28.14   \u001b[0m | \u001b[0m0.5864   \u001b[0m | \u001b[0m1.037    \u001b[0m | \u001b[0m0.262    \u001b[0m | \u001b[0m9.298    \u001b[0m | \u001b[0m521.8    \u001b[0m | \u001b[0m0.8297   \u001b[0m |\n",
            "| \u001b[0m57       \u001b[0m | \u001b[0m-29.64   \u001b[0m | \u001b[0m0.5571   \u001b[0m | \u001b[0m4.761    \u001b[0m | \u001b[0m0.3006   \u001b[0m | \u001b[0m6.277    \u001b[0m | \u001b[0m524.2    \u001b[0m | \u001b[0m0.6376   \u001b[0m |\n",
            "| \u001b[0m58       \u001b[0m | \u001b[0m-4.319e+0\u001b[0m | \u001b[0m0.5      \u001b[0m | \u001b[0m0.3222   \u001b[0m | \u001b[0m0.0001   \u001b[0m | \u001b[0m6.354    \u001b[0m | \u001b[0m525.2    \u001b[0m | \u001b[0m1.0      \u001b[0m |\n",
            "| \u001b[0m59       \u001b[0m | \u001b[0m-29.02   \u001b[0m | \u001b[0m0.7677   \u001b[0m | \u001b[0m4.693    \u001b[0m | \u001b[0m0.2042   \u001b[0m | \u001b[0m5.101    \u001b[0m | \u001b[0m517.8    \u001b[0m | \u001b[0m0.6362   \u001b[0m |\n",
            "| \u001b[0m60       \u001b[0m | \u001b[0m-28.82   \u001b[0m | \u001b[0m0.6996   \u001b[0m | \u001b[0m4.871    \u001b[0m | \u001b[0m0.373    \u001b[0m | \u001b[0m9.943    \u001b[0m | \u001b[0m529.2    \u001b[0m | \u001b[0m0.9155   \u001b[0m |\n",
            "| \u001b[0m61       \u001b[0m | \u001b[0m-33.9    \u001b[0m | \u001b[0m0.9695   \u001b[0m | \u001b[0m1.837    \u001b[0m | \u001b[0m0.3941   \u001b[0m | \u001b[0m9.749    \u001b[0m | \u001b[0m518.6    \u001b[0m | \u001b[0m0.5127   \u001b[0m |\n",
            "| \u001b[0m62       \u001b[0m | \u001b[0m-28.86   \u001b[0m | \u001b[0m0.8748   \u001b[0m | \u001b[0m2.264    \u001b[0m | \u001b[0m0.2881   \u001b[0m | \u001b[0m6.015    \u001b[0m | \u001b[0m222.1    \u001b[0m | \u001b[0m0.539    \u001b[0m |\n",
            "| \u001b[0m63       \u001b[0m | \u001b[0m-28.91   \u001b[0m | \u001b[0m0.5637   \u001b[0m | \u001b[0m4.228    \u001b[0m | \u001b[0m0.2024   \u001b[0m | \u001b[0m5.757    \u001b[0m | \u001b[0m218.2    \u001b[0m | \u001b[0m0.9219   \u001b[0m |\n",
            "| \u001b[0m64       \u001b[0m | \u001b[0m-31.46   \u001b[0m | \u001b[0m0.9457   \u001b[0m | \u001b[0m0.7513   \u001b[0m | \u001b[0m0.1537   \u001b[0m | \u001b[0m3.261    \u001b[0m | \u001b[0m218.5    \u001b[0m | \u001b[0m0.9469   \u001b[0m |\n",
            "| \u001b[0m65       \u001b[0m | \u001b[0m-29.17   \u001b[0m | \u001b[0m0.5187   \u001b[0m | \u001b[0m0.7954   \u001b[0m | \u001b[0m0.1522   \u001b[0m | \u001b[0m5.561    \u001b[0m | \u001b[0m213.6    \u001b[0m | \u001b[0m0.8724   \u001b[0m |\n",
            "| \u001b[0m66       \u001b[0m | \u001b[0m-29.12   \u001b[0m | \u001b[0m0.6931   \u001b[0m | \u001b[0m2.719    \u001b[0m | \u001b[0m0.3116   \u001b[0m | \u001b[0m9.763    \u001b[0m | \u001b[0m214.7    \u001b[0m | \u001b[0m0.9026   \u001b[0m |\n",
            "| \u001b[0m67       \u001b[0m | \u001b[0m-26.27   \u001b[0m | \u001b[0m0.8725   \u001b[0m | \u001b[0m4.572    \u001b[0m | \u001b[0m0.135    \u001b[0m | \u001b[0m9.864    \u001b[0m | \u001b[0m220.2    \u001b[0m | \u001b[0m0.7405   \u001b[0m |\n",
            "| \u001b[0m68       \u001b[0m | \u001b[0m-31.33   \u001b[0m | \u001b[0m0.6833   \u001b[0m | \u001b[0m4.999    \u001b[0m | \u001b[0m0.3783   \u001b[0m | \u001b[0m6.153    \u001b[0m | \u001b[0m213.8    \u001b[0m | \u001b[0m0.8382   \u001b[0m |\n",
            "| \u001b[0m69       \u001b[0m | \u001b[0m-27.43   \u001b[0m | \u001b[0m0.5688   \u001b[0m | \u001b[0m2.504    \u001b[0m | \u001b[0m0.1904   \u001b[0m | \u001b[0m7.924    \u001b[0m | \u001b[0m210.2    \u001b[0m | \u001b[0m0.7883   \u001b[0m |\n",
            "| \u001b[0m70       \u001b[0m | \u001b[0m-31.08   \u001b[0m | \u001b[0m0.7698   \u001b[0m | \u001b[0m1.96     \u001b[0m | \u001b[0m0.2624   \u001b[0m | \u001b[0m3.328    \u001b[0m | \u001b[0m209.9    \u001b[0m | \u001b[0m0.714    \u001b[0m |\n",
            "| \u001b[0m71       \u001b[0m | \u001b[0m-28.84   \u001b[0m | \u001b[0m0.6655   \u001b[0m | \u001b[0m0.4631   \u001b[0m | \u001b[0m0.2543   \u001b[0m | \u001b[0m9.579    \u001b[0m | \u001b[0m222.0    \u001b[0m | \u001b[0m0.6691   \u001b[0m |\n",
            "| \u001b[0m72       \u001b[0m | \u001b[0m-28.62   \u001b[0m | \u001b[0m0.7519   \u001b[0m | \u001b[0m4.808    \u001b[0m | \u001b[0m0.2014   \u001b[0m | \u001b[0m9.911    \u001b[0m | \u001b[0m224.5    \u001b[0m | \u001b[0m0.5557   \u001b[0m |\n",
            "| \u001b[0m73       \u001b[0m | \u001b[0m-29.1    \u001b[0m | \u001b[0m0.6263   \u001b[0m | \u001b[0m0.6141   \u001b[0m | \u001b[0m0.3006   \u001b[0m | \u001b[0m8.147    \u001b[0m | \u001b[0m227.2    \u001b[0m | \u001b[0m0.7287   \u001b[0m |\n",
            "| \u001b[0m74       \u001b[0m | \u001b[0m-4.33e+03\u001b[0m | \u001b[0m0.5      \u001b[0m | \u001b[0m0.0      \u001b[0m | \u001b[0m0.0001   \u001b[0m | \u001b[0m3.0      \u001b[0m | \u001b[0m511.7    \u001b[0m | \u001b[0m1.0      \u001b[0m |\n",
            "| \u001b[0m75       \u001b[0m | \u001b[0m-4.581e+0\u001b[0m | \u001b[0m1.0      \u001b[0m | \u001b[0m4.324    \u001b[0m | \u001b[0m0.0001   \u001b[0m | \u001b[0m5.801    \u001b[0m | \u001b[0m226.2    \u001b[0m | \u001b[0m1.0      \u001b[0m |\n",
            "| \u001b[0m76       \u001b[0m | \u001b[0m-26.7    \u001b[0m | \u001b[0m0.732    \u001b[0m | \u001b[0m4.87     \u001b[0m | \u001b[0m0.1203   \u001b[0m | \u001b[0m9.456    \u001b[0m | \u001b[0m523.8    \u001b[0m | \u001b[0m0.7735   \u001b[0m |\n",
            "| \u001b[0m77       \u001b[0m | \u001b[0m-30.96   \u001b[0m | \u001b[0m0.6509   \u001b[0m | \u001b[0m4.646    \u001b[0m | \u001b[0m0.3411   \u001b[0m | \u001b[0m3.96     \u001b[0m | \u001b[0m497.8    \u001b[0m | \u001b[0m0.538    \u001b[0m |\n",
            "| \u001b[0m78       \u001b[0m | \u001b[0m-32.56   \u001b[0m | \u001b[0m1.0      \u001b[0m | \u001b[0m5.0      \u001b[0m | \u001b[0m0.4      \u001b[0m | \u001b[0m5.425    \u001b[0m | \u001b[0m207.8    \u001b[0m | \u001b[0m0.589    \u001b[0m |\n",
            "| \u001b[0m79       \u001b[0m | \u001b[0m-28.79   \u001b[0m | \u001b[0m0.7994   \u001b[0m | \u001b[0m0.4029   \u001b[0m | \u001b[0m0.0669   \u001b[0m | \u001b[0m4.726    \u001b[0m | \u001b[0m206.4    \u001b[0m | \u001b[0m0.6427   \u001b[0m |\n",
            "| \u001b[0m80       \u001b[0m | \u001b[0m-233.0   \u001b[0m | \u001b[0m0.7435   \u001b[0m | \u001b[0m1.895    \u001b[0m | \u001b[0m0.007737 \u001b[0m | \u001b[0m9.024    \u001b[0m | \u001b[0m206.2    \u001b[0m | \u001b[0m0.9405   \u001b[0m |\n",
            "| \u001b[0m81       \u001b[0m | \u001b[0m-28.51   \u001b[0m | \u001b[0m0.956    \u001b[0m | \u001b[0m0.05777  \u001b[0m | \u001b[0m0.2247   \u001b[0m | \u001b[0m9.998    \u001b[0m | \u001b[0m231.7    \u001b[0m | \u001b[0m0.6333   \u001b[0m |\n",
            "| \u001b[0m82       \u001b[0m | \u001b[0m-28.57   \u001b[0m | \u001b[0m0.7805   \u001b[0m | \u001b[0m4.91     \u001b[0m | \u001b[0m0.232    \u001b[0m | \u001b[0m9.643    \u001b[0m | \u001b[0m502.8    \u001b[0m | \u001b[0m0.7356   \u001b[0m |\n",
            "| \u001b[0m83       \u001b[0m | \u001b[0m-30.12   \u001b[0m | \u001b[0m0.82     \u001b[0m | \u001b[0m4.042    \u001b[0m | \u001b[0m0.2264   \u001b[0m | \u001b[0m4.205    \u001b[0m | \u001b[0m203.7    \u001b[0m | \u001b[0m0.7585   \u001b[0m |\n",
            "| \u001b[0m84       \u001b[0m | \u001b[0m-28.1    \u001b[0m | \u001b[0m0.6054   \u001b[0m | \u001b[0m4.708    \u001b[0m | \u001b[0m0.285    \u001b[0m | \u001b[0m9.205    \u001b[0m | \u001b[0m497.8    \u001b[0m | \u001b[0m0.9562   \u001b[0m |\n",
            "| \u001b[0m85       \u001b[0m | \u001b[0m-29.69   \u001b[0m | \u001b[0m0.5092   \u001b[0m | \u001b[0m0.1285   \u001b[0m | \u001b[0m0.2099   \u001b[0m | \u001b[0m3.783    \u001b[0m | \u001b[0m481.0    \u001b[0m | \u001b[0m0.8469   \u001b[0m |\n",
            "| \u001b[0m86       \u001b[0m | \u001b[0m-29.66   \u001b[0m | \u001b[0m0.9455   \u001b[0m | \u001b[0m0.007691 \u001b[0m | \u001b[0m0.1972   \u001b[0m | \u001b[0m4.128    \u001b[0m | \u001b[0m202.2    \u001b[0m | \u001b[0m0.8337   \u001b[0m |\n",
            "| \u001b[0m87       \u001b[0m | \u001b[0m-30.22   \u001b[0m | \u001b[0m0.6541   \u001b[0m | \u001b[0m3.084    \u001b[0m | \u001b[0m0.06165  \u001b[0m | \u001b[0m3.622    \u001b[0m | \u001b[0m198.2    \u001b[0m | \u001b[0m0.5171   \u001b[0m |\n",
            "| \u001b[0m88       \u001b[0m | \u001b[0m-25.99   \u001b[0m | \u001b[0m0.8758   \u001b[0m | \u001b[0m3.539    \u001b[0m | \u001b[0m0.05631  \u001b[0m | \u001b[0m7.764    \u001b[0m | \u001b[0m200.9    \u001b[0m | \u001b[0m0.604    \u001b[0m |\n",
            "| \u001b[0m89       \u001b[0m | \u001b[0m-27.62   \u001b[0m | \u001b[0m0.9208   \u001b[0m | \u001b[0m1.676    \u001b[0m | \u001b[0m0.2173   \u001b[0m | \u001b[0m7.693    \u001b[0m | \u001b[0m196.6    \u001b[0m | \u001b[0m0.8146   \u001b[0m |\n",
            "| \u001b[0m90       \u001b[0m | \u001b[0m-28.28   \u001b[0m | \u001b[0m0.9045   \u001b[0m | \u001b[0m3.504    \u001b[0m | \u001b[0m0.1626   \u001b[0m | \u001b[0m5.261    \u001b[0m | \u001b[0m193.7    \u001b[0m | \u001b[0m0.7228   \u001b[0m |\n",
            "| \u001b[0m91       \u001b[0m | \u001b[0m-31.76   \u001b[0m | \u001b[0m0.561    \u001b[0m | \u001b[0m0.208    \u001b[0m | \u001b[0m0.2084   \u001b[0m | \u001b[0m3.004    \u001b[0m | \u001b[0m194.4    \u001b[0m | \u001b[0m0.9882   \u001b[0m |\n",
            "| \u001b[0m92       \u001b[0m | \u001b[0m-28.73   \u001b[0m | \u001b[0m0.8416   \u001b[0m | \u001b[0m0.5946   \u001b[0m | \u001b[0m0.03501  \u001b[0m | \u001b[0m5.856    \u001b[0m | \u001b[0m190.9    \u001b[0m | \u001b[0m0.7189   \u001b[0m |\n",
            "| \u001b[0m93       \u001b[0m | \u001b[0m-26.96   \u001b[0m | \u001b[0m0.9169   \u001b[0m | \u001b[0m2.646    \u001b[0m | \u001b[0m0.1322   \u001b[0m | \u001b[0m9.365    \u001b[0m | \u001b[0m191.9    \u001b[0m | \u001b[0m0.7141   \u001b[0m |\n",
            "| \u001b[0m94       \u001b[0m | \u001b[0m-28.12   \u001b[0m | \u001b[0m0.962    \u001b[0m | \u001b[0m4.595    \u001b[0m | \u001b[0m0.2765   \u001b[0m | \u001b[0m6.746    \u001b[0m | \u001b[0m188.2    \u001b[0m | \u001b[0m0.7389   \u001b[0m |\n",
            "| \u001b[0m95       \u001b[0m | \u001b[0m-27.72   \u001b[0m | \u001b[0m0.5211   \u001b[0m | \u001b[0m1.098    \u001b[0m | \u001b[0m0.3368   \u001b[0m | \u001b[0m8.67     \u001b[0m | \u001b[0m186.9    \u001b[0m | \u001b[0m0.6258   \u001b[0m |\n",
            "| \u001b[0m96       \u001b[0m | \u001b[0m-31.72   \u001b[0m | \u001b[0m0.7819   \u001b[0m | \u001b[0m1.162    \u001b[0m | \u001b[0m0.296    \u001b[0m | \u001b[0m4.036    \u001b[0m | \u001b[0m186.5    \u001b[0m | \u001b[0m0.8151   \u001b[0m |\n",
            "| \u001b[0m97       \u001b[0m | \u001b[0m-29.02   \u001b[0m | \u001b[0m0.6512   \u001b[0m | \u001b[0m4.2      \u001b[0m | \u001b[0m0.2651   \u001b[0m | \u001b[0m6.748    \u001b[0m | \u001b[0m183.3    \u001b[0m | \u001b[0m0.6592   \u001b[0m |\n",
            "| \u001b[0m98       \u001b[0m | \u001b[0m-28.92   \u001b[0m | \u001b[0m0.8899   \u001b[0m | \u001b[0m0.5668   \u001b[0m | \u001b[0m0.1551   \u001b[0m | \u001b[0m4.83     \u001b[0m | \u001b[0m182.4    \u001b[0m | \u001b[0m0.8223   \u001b[0m |\n",
            "| \u001b[0m99       \u001b[0m | \u001b[0m-26.13   \u001b[0m | \u001b[0m0.7609   \u001b[0m | \u001b[0m0.6655   \u001b[0m | \u001b[0m0.1169   \u001b[0m | \u001b[0m9.104    \u001b[0m | \u001b[0m181.5    \u001b[0m | \u001b[0m0.6699   \u001b[0m |\n",
            "| \u001b[0m100      \u001b[0m | \u001b[0m-29.19   \u001b[0m | \u001b[0m0.8746   \u001b[0m | \u001b[0m1.834    \u001b[0m | \u001b[0m0.3027   \u001b[0m | \u001b[0m6.389    \u001b[0m | \u001b[0m178.1    \u001b[0m | \u001b[0m0.822    \u001b[0m |\n",
            "| \u001b[0m101      \u001b[0m | \u001b[0m-27.0    \u001b[0m | \u001b[0m0.9177   \u001b[0m | \u001b[0m4.332    \u001b[0m | \u001b[0m0.1002   \u001b[0m | \u001b[0m9.905    \u001b[0m | \u001b[0m179.9    \u001b[0m | \u001b[0m0.5749   \u001b[0m |\n",
            "| \u001b[0m102      \u001b[0m | \u001b[0m-31.8    \u001b[0m | \u001b[0m0.8866   \u001b[0m | \u001b[0m4.637    \u001b[0m | \u001b[0m0.1559   \u001b[0m | \u001b[0m3.166    \u001b[0m | \u001b[0m178.8    \u001b[0m | \u001b[0m0.7915   \u001b[0m |\n",
            "| \u001b[0m103      \u001b[0m | \u001b[0m-34.29   \u001b[0m | \u001b[0m0.6615   \u001b[0m | \u001b[0m3.784    \u001b[0m | \u001b[0m0.3016   \u001b[0m | \u001b[0m3.346    \u001b[0m | \u001b[0m189.8    \u001b[0m | \u001b[0m0.554    \u001b[0m |\n",
            "| \u001b[0m104      \u001b[0m | \u001b[0m-33.61   \u001b[0m | \u001b[0m0.7268   \u001b[0m | \u001b[0m4.25     \u001b[0m | \u001b[0m0.3197   \u001b[0m | \u001b[0m3.042    \u001b[0m | \u001b[0m183.2    \u001b[0m | \u001b[0m0.6737   \u001b[0m |\n",
            "| \u001b[0m105      \u001b[0m | \u001b[0m-26.4    \u001b[0m | \u001b[0m0.6021   \u001b[0m | \u001b[0m2.609    \u001b[0m | \u001b[0m0.05074  \u001b[0m | \u001b[0m9.777    \u001b[0m | \u001b[0m175.3    \u001b[0m | \u001b[0m0.5397   \u001b[0m |\n",
            "| \u001b[0m106      \u001b[0m | \u001b[0m-30.17   \u001b[0m | \u001b[0m0.6058   \u001b[0m | \u001b[0m3.486    \u001b[0m | \u001b[0m0.3228   \u001b[0m | \u001b[0m4.863    \u001b[0m | \u001b[0m174.3    \u001b[0m | \u001b[0m0.94     \u001b[0m |\n",
            "| \u001b[0m107      \u001b[0m | \u001b[0m-27.72   \u001b[0m | \u001b[0m0.7649   \u001b[0m | \u001b[0m0.0716   \u001b[0m | \u001b[0m0.1399   \u001b[0m | \u001b[0m6.442    \u001b[0m | \u001b[0m172.7    \u001b[0m | \u001b[0m0.5191   \u001b[0m |\n",
            "| \u001b[0m108      \u001b[0m | \u001b[0m-30.02   \u001b[0m | \u001b[0m0.8981   \u001b[0m | \u001b[0m3.973    \u001b[0m | \u001b[0m0.3281   \u001b[0m | \u001b[0m8.58     \u001b[0m | \u001b[0m171.6    \u001b[0m | \u001b[0m0.8679   \u001b[0m |\n",
            "| \u001b[0m109      \u001b[0m | \u001b[0m-30.63   \u001b[0m | \u001b[0m0.5244   \u001b[0m | \u001b[0m1.754    \u001b[0m | \u001b[0m0.3353   \u001b[0m | \u001b[0m5.408    \u001b[0m | \u001b[0m168.8    \u001b[0m | \u001b[0m0.9403   \u001b[0m |\n",
            "| \u001b[0m110      \u001b[0m | \u001b[0m-29.35   \u001b[0m | \u001b[0m0.9779   \u001b[0m | \u001b[0m1.398    \u001b[0m | \u001b[0m0.3656   \u001b[0m | \u001b[0m9.887    \u001b[0m | \u001b[0m168.2    \u001b[0m | \u001b[0m0.9069   \u001b[0m |\n",
            "=================================================================================================\n"
          ]
        }
      ]
    },
    {
      "cell_type": "code",
      "source": [
        "BO_xgb.max"
      ],
      "metadata": {
        "colab": {
          "base_uri": "https://localhost:8080/"
        },
        "id": "jJPGTkZMFQOh",
        "outputId": "00f76ea1-cd9a-4090-c20b-40979d094866"
      },
      "execution_count": 53,
      "outputs": [
        {
          "output_type": "execute_result",
          "data": {
            "text/plain": [
              "{'target': -25.96529117187571,\n",
              " 'params': {'colsample_bytree': 0.5591372129344666,\n",
              "  'gamma': 3.199605106637619,\n",
              "  'learning_rate': 0.05742697963487767,\n",
              "  'max_depth': 9.612682419347088,\n",
              "  'n_estimators': 526.629838532571,\n",
              "  'subsample': 0.7073309699952618}}"
            ]
          },
          "metadata": {},
          "execution_count": 53
        }
      ]
    },
    {
      "cell_type": "code",
      "source": [
        "params = BO_xgb.max['params']\n",
        "params['max_depth'] = int(round(params['max_depth']))\n",
        "params['n_estimators'] = int(round(params['n_estimators']))"
      ],
      "metadata": {
        "id": "nPjtg9sNF3XP"
      },
      "execution_count": 54,
      "outputs": []
    },
    {
      "cell_type": "code",
      "source": [
        "final_xgb=xgb.XGBRegressor(random_state = 777, **params)\n",
        "final_xgb.fit(x_train, y_train)"
      ],
      "metadata": {
        "colab": {
          "base_uri": "https://localhost:8080/",
          "height": 252
        },
        "id": "29J2kA3YF53S",
        "outputId": "c606cd43-1839-43df-90db-1e20a7415101"
      },
      "execution_count": 55,
      "outputs": [
        {
          "output_type": "execute_result",
          "data": {
            "text/plain": [
              "XGBRegressor(base_score=None, booster=None, callbacks=None,\n",
              "             colsample_bylevel=None, colsample_bynode=None,\n",
              "             colsample_bytree=0.5591372129344666, early_stopping_rounds=None,\n",
              "             enable_categorical=False, eval_metric=None, feature_types=None,\n",
              "             gamma=3.199605106637619, gpu_id=None, grow_policy=None,\n",
              "             importance_type=None, interaction_constraints=None,\n",
              "             learning_rate=0.05742697963487767, max_bin=None,\n",
              "             max_cat_threshold=None, max_cat_to_onehot=None,\n",
              "             max_delta_step=None, max_depth=10, max_leaves=None,\n",
              "             min_child_weight=None, missing=nan, monotone_constraints=None,\n",
              "             n_estimators=527, n_jobs=None, num_parallel_tree=None,\n",
              "             predictor=None, random_state=777, ...)"
            ],
            "text/html": [
              "<style>#sk-container-id-2 {color: black;background-color: white;}#sk-container-id-2 pre{padding: 0;}#sk-container-id-2 div.sk-toggleable {background-color: white;}#sk-container-id-2 label.sk-toggleable__label {cursor: pointer;display: block;width: 100%;margin-bottom: 0;padding: 0.3em;box-sizing: border-box;text-align: center;}#sk-container-id-2 label.sk-toggleable__label-arrow:before {content: \"▸\";float: left;margin-right: 0.25em;color: #696969;}#sk-container-id-2 label.sk-toggleable__label-arrow:hover:before {color: black;}#sk-container-id-2 div.sk-estimator:hover label.sk-toggleable__label-arrow:before {color: black;}#sk-container-id-2 div.sk-toggleable__content {max-height: 0;max-width: 0;overflow: hidden;text-align: left;background-color: #f0f8ff;}#sk-container-id-2 div.sk-toggleable__content pre {margin: 0.2em;color: black;border-radius: 0.25em;background-color: #f0f8ff;}#sk-container-id-2 input.sk-toggleable__control:checked~div.sk-toggleable__content {max-height: 200px;max-width: 100%;overflow: auto;}#sk-container-id-2 input.sk-toggleable__control:checked~label.sk-toggleable__label-arrow:before {content: \"▾\";}#sk-container-id-2 div.sk-estimator input.sk-toggleable__control:checked~label.sk-toggleable__label {background-color: #d4ebff;}#sk-container-id-2 div.sk-label input.sk-toggleable__control:checked~label.sk-toggleable__label {background-color: #d4ebff;}#sk-container-id-2 input.sk-hidden--visually {border: 0;clip: rect(1px 1px 1px 1px);clip: rect(1px, 1px, 1px, 1px);height: 1px;margin: -1px;overflow: hidden;padding: 0;position: absolute;width: 1px;}#sk-container-id-2 div.sk-estimator {font-family: monospace;background-color: #f0f8ff;border: 1px dotted black;border-radius: 0.25em;box-sizing: border-box;margin-bottom: 0.5em;}#sk-container-id-2 div.sk-estimator:hover {background-color: #d4ebff;}#sk-container-id-2 div.sk-parallel-item::after {content: \"\";width: 100%;border-bottom: 1px solid gray;flex-grow: 1;}#sk-container-id-2 div.sk-label:hover label.sk-toggleable__label {background-color: #d4ebff;}#sk-container-id-2 div.sk-serial::before {content: \"\";position: absolute;border-left: 1px solid gray;box-sizing: border-box;top: 0;bottom: 0;left: 50%;z-index: 0;}#sk-container-id-2 div.sk-serial {display: flex;flex-direction: column;align-items: center;background-color: white;padding-right: 0.2em;padding-left: 0.2em;position: relative;}#sk-container-id-2 div.sk-item {position: relative;z-index: 1;}#sk-container-id-2 div.sk-parallel {display: flex;align-items: stretch;justify-content: center;background-color: white;position: relative;}#sk-container-id-2 div.sk-item::before, #sk-container-id-2 div.sk-parallel-item::before {content: \"\";position: absolute;border-left: 1px solid gray;box-sizing: border-box;top: 0;bottom: 0;left: 50%;z-index: -1;}#sk-container-id-2 div.sk-parallel-item {display: flex;flex-direction: column;z-index: 1;position: relative;background-color: white;}#sk-container-id-2 div.sk-parallel-item:first-child::after {align-self: flex-end;width: 50%;}#sk-container-id-2 div.sk-parallel-item:last-child::after {align-self: flex-start;width: 50%;}#sk-container-id-2 div.sk-parallel-item:only-child::after {width: 0;}#sk-container-id-2 div.sk-dashed-wrapped {border: 1px dashed gray;margin: 0 0.4em 0.5em 0.4em;box-sizing: border-box;padding-bottom: 0.4em;background-color: white;}#sk-container-id-2 div.sk-label label {font-family: monospace;font-weight: bold;display: inline-block;line-height: 1.2em;}#sk-container-id-2 div.sk-label-container {text-align: center;}#sk-container-id-2 div.sk-container {/* jupyter's `normalize.less` sets `[hidden] { display: none; }` but bootstrap.min.css set `[hidden] { display: none !important; }` so we also need the `!important` here to be able to override the default hidden behavior on the sphinx rendered scikit-learn.org. See: https://github.com/scikit-learn/scikit-learn/issues/21755 */display: inline-block !important;position: relative;}#sk-container-id-2 div.sk-text-repr-fallback {display: none;}</style><div id=\"sk-container-id-2\" class=\"sk-top-container\"><div class=\"sk-text-repr-fallback\"><pre>XGBRegressor(base_score=None, booster=None, callbacks=None,\n",
              "             colsample_bylevel=None, colsample_bynode=None,\n",
              "             colsample_bytree=0.5591372129344666, early_stopping_rounds=None,\n",
              "             enable_categorical=False, eval_metric=None, feature_types=None,\n",
              "             gamma=3.199605106637619, gpu_id=None, grow_policy=None,\n",
              "             importance_type=None, interaction_constraints=None,\n",
              "             learning_rate=0.05742697963487767, max_bin=None,\n",
              "             max_cat_threshold=None, max_cat_to_onehot=None,\n",
              "             max_delta_step=None, max_depth=10, max_leaves=None,\n",
              "             min_child_weight=None, missing=nan, monotone_constraints=None,\n",
              "             n_estimators=527, n_jobs=None, num_parallel_tree=None,\n",
              "             predictor=None, random_state=777, ...)</pre><b>In a Jupyter environment, please rerun this cell to show the HTML representation or trust the notebook. <br />On GitHub, the HTML representation is unable to render, please try loading this page with nbviewer.org.</b></div><div class=\"sk-container\" hidden><div class=\"sk-item\"><div class=\"sk-estimator sk-toggleable\"><input class=\"sk-toggleable__control sk-hidden--visually\" id=\"sk-estimator-id-2\" type=\"checkbox\" checked><label for=\"sk-estimator-id-2\" class=\"sk-toggleable__label sk-toggleable__label-arrow\">XGBRegressor</label><div class=\"sk-toggleable__content\"><pre>XGBRegressor(base_score=None, booster=None, callbacks=None,\n",
              "             colsample_bylevel=None, colsample_bynode=None,\n",
              "             colsample_bytree=0.5591372129344666, early_stopping_rounds=None,\n",
              "             enable_categorical=False, eval_metric=None, feature_types=None,\n",
              "             gamma=3.199605106637619, gpu_id=None, grow_policy=None,\n",
              "             importance_type=None, interaction_constraints=None,\n",
              "             learning_rate=0.05742697963487767, max_bin=None,\n",
              "             max_cat_threshold=None, max_cat_to_onehot=None,\n",
              "             max_delta_step=None, max_depth=10, max_leaves=None,\n",
              "             min_child_weight=None, missing=nan, monotone_constraints=None,\n",
              "             n_estimators=527, n_jobs=None, num_parallel_tree=None,\n",
              "             predictor=None, random_state=777, ...)</pre></div></div></div></div></div>"
            ]
          },
          "metadata": {},
          "execution_count": 55
        }
      ]
    },
    {
      "cell_type": "code",
      "source": [
        "finalxgb = show_test.copy()\n",
        "finalxgb['Life expectancy '] = final_xgb.predict(x_test)"
      ],
      "metadata": {
        "id": "6doUrCNSF7mD"
      },
      "execution_count": 56,
      "outputs": []
    },
    {
      "cell_type": "code",
      "source": [
        "print('파라미터 조정후 XGB 모델의 Mean_Squared_Error = ', mean_squared_error(life_expect_test['Life expectancy '], finalxgb['Life expectancy ']))\n",
        "print('파라미터 조정후 XGB 모델의 RMSE = ',  mean_squared_error(life_expect_test['Life expectancy '], finalxgb['Life expectancy '])**0.5)\n",
        "print(\"파라미터 조정후 XGB 모델의 결정계수 =\", r2_score(life_expect_test['Life expectancy '], finalxgb['Life expectancy ']))"
      ],
      "metadata": {
        "colab": {
          "base_uri": "https://localhost:8080/"
        },
        "id": "7jfVqFDYF9LL",
        "outputId": "45d1824e-1d14-46bf-fbe4-1f00efa395ab"
      },
      "execution_count": 57,
      "outputs": [
        {
          "output_type": "stream",
          "name": "stdout",
          "text": [
            "파라미터 조정후 XGB 모델의 Mean_Squared_Error =  36.601131400137376\n",
            "파라미터 조정후 XGB 모델의 RMSE =  6.04988689151602\n",
            "파라미터 조정후 XGB 모델의 결정계수 = 0.667750302300629\n"
          ]
        }
      ]
    },
    {
      "cell_type": "markdown",
      "source": [
        "# LGBMRegressor + BayesianOptimization"
      ],
      "metadata": {
        "id": "QjPDSnqIGDPs"
      }
    },
    {
      "cell_type": "code",
      "source": [
        "pbounds = { 'learning_rate': (0.0005, 0.2),\n",
        "            'n_estimators': (10, 1000),\n",
        "            'max_depth': (3,10),   \n",
        "            'subsample': (0.5,1), \n",
        "            'colsample_bytree': (0.5,1),   \n",
        "            'num_leaves': (2,16),\n",
        "            'min_child_weight': (1, 10)}\n",
        "\n",
        "\n",
        "def lgbm_opt(learning_rate, n_estimators, max_depth, subsample, colsample_bytree, num_leaves, min_child_weight):\n",
        "\n",
        "    params = {\n",
        "        'learning_rate': learning_rate,               # 학습률\n",
        "        'n_estimators' : int(round(n_estimators)),    # 생성할 tree의 갯수\n",
        "        'max_depth' : int(round(max_depth)),          # 최대 깊이\n",
        "        'subsample': subsample,                       # 각 트리마다의 관측 데이터 샘플링 비율\n",
        "        'colsample_bytree' : colsample_bytree,        # 각 트리마다의 feature 샘플링 비율\n",
        "        'num_leaves' : int(round(num_leaves)),        # 노드의 개수\n",
        "        'min_child_weight' : min_child_weight,        # child의 관측에서 요구되는 최소 가중치의 합\n",
        "        'n_jobs' : -1                                 # cpu 사용 개수 (-1 이면 있는거 다 사용)\n",
        "    }\n",
        "    \n",
        "    m_lgb = lgb.LGBMRegressor(**params)\n",
        "    \n",
        "    kf = KFold(n_splits=5 , shuffle=True, random_state=50)\n",
        "\n",
        "    score = cross_val_score(m_lgb, x_train, y_train, scoring='neg_mean_squared_error', cv=kf, n_jobs=-1)\n",
        "    \n",
        "    return np.mean(score)\n",
        "\n",
        "BO_lgbm = BayesianOptimization(f = lgbm_opt, pbounds = pbounds, random_state=1)  "
      ],
      "metadata": {
        "id": "GhLE_guDGBa8"
      },
      "execution_count": 58,
      "outputs": []
    },
    {
      "cell_type": "code",
      "source": [
        "BO_lgbm.maximize(init_points=10, n_iter = 100)"
      ],
      "metadata": {
        "colab": {
          "base_uri": "https://localhost:8080/"
        },
        "id": "6lS1k2zmGHa2",
        "outputId": "b3419fec-642d-467d-8c56-bd40f2f20ac0"
      },
      "execution_count": 59,
      "outputs": [
        {
          "output_type": "stream",
          "name": "stdout",
          "text": [
            "|   iter    |  target   | colsam... | learni... | max_depth | min_ch... | n_esti... | num_le... | subsample |\n",
            "-------------------------------------------------------------------------------------------------------------\n",
            "| \u001b[0m1        \u001b[0m | \u001b[0m-40.55   \u001b[0m | \u001b[0m0.7085   \u001b[0m | \u001b[0m0.1442   \u001b[0m | \u001b[0m3.001    \u001b[0m | \u001b[0m3.721    \u001b[0m | \u001b[0m155.3    \u001b[0m | \u001b[0m3.293    \u001b[0m | \u001b[0m0.5931   \u001b[0m |\n",
            "| \u001b[95m2        \u001b[0m | \u001b[95m-37.09   \u001b[0m | \u001b[95m0.6728   \u001b[0m | \u001b[95m0.07966  \u001b[0m | \u001b[95m6.772    \u001b[0m | \u001b[95m4.773    \u001b[0m | \u001b[95m688.4    \u001b[0m | \u001b[95m4.862    \u001b[0m | \u001b[95m0.9391   \u001b[0m |\n",
            "| \u001b[0m3        \u001b[0m | \u001b[0m-38.99   \u001b[0m | \u001b[0m0.5137   \u001b[0m | \u001b[0m0.1343   \u001b[0m | \u001b[0m5.921    \u001b[0m | \u001b[0m6.028    \u001b[0m | \u001b[0m149.0    \u001b[0m | \u001b[0m4.773    \u001b[0m | \u001b[0m0.9004   \u001b[0m |\n",
            "| \u001b[0m4        \u001b[0m | \u001b[0m-38.84   \u001b[0m | \u001b[0m0.9841   \u001b[0m | \u001b[0m0.06303  \u001b[0m | \u001b[0m7.846    \u001b[0m | \u001b[0m8.888    \u001b[0m | \u001b[0m895.7    \u001b[0m | \u001b[0m3.191    \u001b[0m | \u001b[0m0.5195   \u001b[0m |\n",
            "| \u001b[0m5        \u001b[0m | \u001b[0m-38.13   \u001b[0m | \u001b[0m0.5849   \u001b[0m | \u001b[0m0.1757   \u001b[0m | \u001b[0m3.688    \u001b[0m | \u001b[0m4.79     \u001b[0m | \u001b[0m958.3    \u001b[0m | \u001b[0m9.464    \u001b[0m | \u001b[0m0.8459   \u001b[0m |\n",
            "| \u001b[95m6        \u001b[0m | \u001b[95m-33.89   \u001b[0m | \u001b[95m0.6578   \u001b[0m | \u001b[95m0.1375   \u001b[0m | \u001b[95m8.842    \u001b[0m | \u001b[95m1.165    \u001b[0m | \u001b[95m752.6    \u001b[0m | \u001b[95m15.84    \u001b[0m | \u001b[95m0.8741   \u001b[0m |\n",
            "| \u001b[0m7        \u001b[0m | \u001b[0m-36.46   \u001b[0m | \u001b[0m0.6402   \u001b[0m | \u001b[0m0.158    \u001b[0m | \u001b[0m3.723    \u001b[0m | \u001b[0m5.031    \u001b[0m | \u001b[0m909.5    \u001b[0m | \u001b[0m6.111    \u001b[0m | \u001b[0m0.6439   \u001b[0m |\n",
            "| \u001b[0m8        \u001b[0m | \u001b[0m-55.28   \u001b[0m | \u001b[0m0.565    \u001b[0m | \u001b[0m0.004364 \u001b[0m | \u001b[0m7.752    \u001b[0m | \u001b[0m2.905    \u001b[0m | \u001b[0m272.9    \u001b[0m | \u001b[0m8.882    \u001b[0m | \u001b[0m0.5267   \u001b[0m |\n",
            "| \u001b[0m9        \u001b[0m | \u001b[0m-41.1    \u001b[0m | \u001b[0m0.7871   \u001b[0m | \u001b[0m0.02977  \u001b[0m | \u001b[0m7.125    \u001b[0m | \u001b[0m7.298    \u001b[0m | \u001b[0m111.3    \u001b[0m | \u001b[0m7.797    \u001b[0m | \u001b[0m0.8472   \u001b[0m |\n",
            "| \u001b[0m10       \u001b[0m | \u001b[0m-36.48   \u001b[0m | \u001b[0m0.7071   \u001b[0m | \u001b[0m0.01047  \u001b[0m | \u001b[0m6.751    \u001b[0m | \u001b[0m6.974    \u001b[0m | \u001b[0m519.7    \u001b[0m | \u001b[0m15.22    \u001b[0m | \u001b[0m0.7933   \u001b[0m |\n",
            "| \u001b[0m11       \u001b[0m | \u001b[0m-36.25   \u001b[0m | \u001b[0m0.6022   \u001b[0m | \u001b[0m0.07526  \u001b[0m | \u001b[0m3.979    \u001b[0m | \u001b[0m4.604    \u001b[0m | \u001b[0m958.5    \u001b[0m | \u001b[0m10.43    \u001b[0m | \u001b[0m0.7189   \u001b[0m |\n",
            "| \u001b[95m12       \u001b[0m | \u001b[95m-33.05   \u001b[0m | \u001b[95m0.9479   \u001b[0m | \u001b[95m0.1183   \u001b[0m | \u001b[95m7.944    \u001b[0m | \u001b[95m3.619    \u001b[0m | \u001b[95m750.1    \u001b[0m | \u001b[95m12.29    \u001b[0m | \u001b[95m0.7546   \u001b[0m |\n",
            "| \u001b[0m13       \u001b[0m | \u001b[0m-34.0    \u001b[0m | \u001b[0m0.6019   \u001b[0m | \u001b[0m0.08315  \u001b[0m | \u001b[0m7.705    \u001b[0m | \u001b[0m4.525    \u001b[0m | \u001b[0m960.6    \u001b[0m | \u001b[0m15.73    \u001b[0m | \u001b[0m0.9429   \u001b[0m |\n",
            "| \u001b[0m14       \u001b[0m | \u001b[0m-37.89   \u001b[0m | \u001b[0m0.5      \u001b[0m | \u001b[0m0.04808  \u001b[0m | \u001b[0m3.06     \u001b[0m | \u001b[0m2.325    \u001b[0m | \u001b[0m756.4    \u001b[0m | \u001b[0m9.604    \u001b[0m | \u001b[0m0.671    \u001b[0m |\n",
            "| \u001b[0m15       \u001b[0m | \u001b[0m-38.27   \u001b[0m | \u001b[0m0.5      \u001b[0m | \u001b[0m0.2      \u001b[0m | \u001b[0m10.0     \u001b[0m | \u001b[0m1.0      \u001b[0m | \u001b[0m743.7    \u001b[0m | \u001b[0m16.0     \u001b[0m | \u001b[0m1.0      \u001b[0m |\n",
            "| \u001b[95m16       \u001b[0m | \u001b[95m-32.45   \u001b[0m | \u001b[95m1.0      \u001b[0m | \u001b[95m0.1302   \u001b[0m | \u001b[95m10.0     \u001b[0m | \u001b[95m9.376    \u001b[0m | \u001b[95m753.0    \u001b[0m | \u001b[95m15.52    \u001b[0m | \u001b[95m0.563    \u001b[0m |\n",
            "| \u001b[0m17       \u001b[0m | \u001b[0m-68.7    \u001b[0m | \u001b[0m1.0      \u001b[0m | \u001b[0m0.0005   \u001b[0m | \u001b[0m4.411    \u001b[0m | \u001b[0m1.0      \u001b[0m | \u001b[0m953.6    \u001b[0m | \u001b[0m16.0     \u001b[0m | \u001b[0m0.5      \u001b[0m |\n",
            "| \u001b[0m18       \u001b[0m | \u001b[0m-37.47   \u001b[0m | \u001b[0m0.5434   \u001b[0m | \u001b[0m0.01397  \u001b[0m | \u001b[0m9.254    \u001b[0m | \u001b[0m6.42     \u001b[0m | \u001b[0m756.3    \u001b[0m | \u001b[0m14.78    \u001b[0m | \u001b[0m0.781    \u001b[0m |\n",
            "| \u001b[0m19       \u001b[0m | \u001b[0m-34.9    \u001b[0m | \u001b[0m0.8127   \u001b[0m | \u001b[0m0.03029  \u001b[0m | \u001b[0m5.432    \u001b[0m | \u001b[0m6.209    \u001b[0m | \u001b[0m965.0    \u001b[0m | \u001b[0m13.38    \u001b[0m | \u001b[0m0.5925   \u001b[0m |\n",
            "| \u001b[0m20       \u001b[0m | \u001b[0m-33.82   \u001b[0m | \u001b[0m1.0      \u001b[0m | \u001b[0m0.2      \u001b[0m | \u001b[0m5.749    \u001b[0m | \u001b[0m7.685    \u001b[0m | \u001b[0m749.5    \u001b[0m | \u001b[0m16.0     \u001b[0m | \u001b[0m0.5      \u001b[0m |\n",
            "| \u001b[0m21       \u001b[0m | \u001b[0m-33.71   \u001b[0m | \u001b[0m0.9084   \u001b[0m | \u001b[0m0.09665  \u001b[0m | \u001b[0m9.212    \u001b[0m | \u001b[0m2.497    \u001b[0m | \u001b[0m964.6    \u001b[0m | \u001b[0m10.68    \u001b[0m | \u001b[0m0.9293   \u001b[0m |\n",
            "| \u001b[0m22       \u001b[0m | \u001b[0m-41.34   \u001b[0m | \u001b[0m0.9552   \u001b[0m | \u001b[0m0.003734 \u001b[0m | \u001b[0m9.417    \u001b[0m | \u001b[0m9.908    \u001b[0m | \u001b[0m747.6    \u001b[0m | \u001b[0m8.913    \u001b[0m | \u001b[0m0.9736   \u001b[0m |\n",
            "| \u001b[0m23       \u001b[0m | \u001b[0m-34.5    \u001b[0m | \u001b[0m0.6464   \u001b[0m | \u001b[0m0.1901   \u001b[0m | \u001b[0m9.523    \u001b[0m | \u001b[0m9.01     \u001b[0m | \u001b[0m959.8    \u001b[0m | \u001b[0m12.86    \u001b[0m | \u001b[0m0.9122   \u001b[0m |\n",
            "| \u001b[0m24       \u001b[0m | \u001b[0m-38.26   \u001b[0m | \u001b[0m0.5243   \u001b[0m | \u001b[0m0.146    \u001b[0m | \u001b[0m9.134    \u001b[0m | \u001b[0m9.155    \u001b[0m | \u001b[0m968.0    \u001b[0m | \u001b[0m5.421    \u001b[0m | \u001b[0m0.5481   \u001b[0m |\n",
            "| \u001b[0m25       \u001b[0m | \u001b[0m-37.38   \u001b[0m | \u001b[0m0.8124   \u001b[0m | \u001b[0m0.1979   \u001b[0m | \u001b[0m3.477    \u001b[0m | \u001b[0m2.569    \u001b[0m | \u001b[0m750.6    \u001b[0m | \u001b[0m15.95    \u001b[0m | \u001b[0m0.7849   \u001b[0m |\n",
            "| \u001b[0m26       \u001b[0m | \u001b[0m-34.59   \u001b[0m | \u001b[0m0.7022   \u001b[0m | \u001b[0m0.01368  \u001b[0m | \u001b[0m9.817    \u001b[0m | \u001b[0m5.917    \u001b[0m | \u001b[0m968.6    \u001b[0m | \u001b[0m15.8     \u001b[0m | \u001b[0m0.8153   \u001b[0m |\n",
            "| \u001b[0m27       \u001b[0m | \u001b[0m-38.19   \u001b[0m | \u001b[0m0.5      \u001b[0m | \u001b[0m0.2      \u001b[0m | \u001b[0m7.612    \u001b[0m | \u001b[0m1.0      \u001b[0m | \u001b[0m972.4    \u001b[0m | \u001b[0m11.62    \u001b[0m | \u001b[0m1.0      \u001b[0m |\n",
            "| \u001b[0m28       \u001b[0m | \u001b[0m-32.78   \u001b[0m | \u001b[0m0.8596   \u001b[0m | \u001b[0m0.08966  \u001b[0m | \u001b[0m8.13     \u001b[0m | \u001b[0m9.404    \u001b[0m | \u001b[0m976.3    \u001b[0m | \u001b[0m15.85    \u001b[0m | \u001b[0m0.9737   \u001b[0m |\n",
            "| \u001b[0m29       \u001b[0m | \u001b[0m-66.9    \u001b[0m | \u001b[0m1.0      \u001b[0m | \u001b[0m0.0005   \u001b[0m | \u001b[0m10.0     \u001b[0m | \u001b[0m10.0     \u001b[0m | \u001b[0m982.7    \u001b[0m | \u001b[0m16.0     \u001b[0m | \u001b[0m0.5      \u001b[0m |\n",
            "| \u001b[0m30       \u001b[0m | \u001b[0m-35.16   \u001b[0m | \u001b[0m0.7798   \u001b[0m | \u001b[0m0.07944  \u001b[0m | \u001b[0m5.092    \u001b[0m | \u001b[0m9.639    \u001b[0m | \u001b[0m972.7    \u001b[0m | \u001b[0m13.14    \u001b[0m | \u001b[0m0.5356   \u001b[0m |\n",
            "| \u001b[0m31       \u001b[0m | \u001b[0m-38.24   \u001b[0m | \u001b[0m0.5112   \u001b[0m | \u001b[0m0.164    \u001b[0m | \u001b[0m9.615    \u001b[0m | \u001b[0m8.143    \u001b[0m | \u001b[0m973.8    \u001b[0m | \u001b[0m12.71    \u001b[0m | \u001b[0m0.8957   \u001b[0m |\n",
            "| \u001b[0m32       \u001b[0m | \u001b[0m-34.45   \u001b[0m | \u001b[0m1.0      \u001b[0m | \u001b[0m0.2      \u001b[0m | \u001b[0m10.0     \u001b[0m | \u001b[0m1.0      \u001b[0m | \u001b[0m753.5    \u001b[0m | \u001b[0m8.748    \u001b[0m | \u001b[0m0.5      \u001b[0m |\n",
            "| \u001b[0m33       \u001b[0m | \u001b[0m-38.91   \u001b[0m | \u001b[0m0.6334   \u001b[0m | \u001b[0m0.006074 \u001b[0m | \u001b[0m3.532    \u001b[0m | \u001b[0m1.564    \u001b[0m | \u001b[0m964.4    \u001b[0m | \u001b[0m10.39    \u001b[0m | \u001b[0m0.7172   \u001b[0m |\n",
            "| \u001b[0m34       \u001b[0m | \u001b[0m-34.64   \u001b[0m | \u001b[0m0.6838   \u001b[0m | \u001b[0m0.1672   \u001b[0m | \u001b[0m9.754    \u001b[0m | \u001b[0m9.796    \u001b[0m | \u001b[0m963.7    \u001b[0m | \u001b[0m15.69    \u001b[0m | \u001b[0m0.6341   \u001b[0m |\n",
            "| \u001b[0m35       \u001b[0m | \u001b[0m-76.04   \u001b[0m | \u001b[0m0.5      \u001b[0m | \u001b[0m0.0005   \u001b[0m | \u001b[0m10.0     \u001b[0m | \u001b[0m5.222    \u001b[0m | \u001b[0m960.4    \u001b[0m | \u001b[0m7.77     \u001b[0m | \u001b[0m0.5      \u001b[0m |\n",
            "| \u001b[0m36       \u001b[0m | \u001b[0m-32.88   \u001b[0m | \u001b[0m1.0      \u001b[0m | \u001b[0m0.2      \u001b[0m | \u001b[0m9.694    \u001b[0m | \u001b[0m5.574    \u001b[0m | \u001b[0m750.8    \u001b[0m | \u001b[0m15.92    \u001b[0m | \u001b[0m0.5      \u001b[0m |\n",
            "| \u001b[0m37       \u001b[0m | \u001b[0m-32.65   \u001b[0m | \u001b[0m1.0      \u001b[0m | \u001b[0m0.2      \u001b[0m | \u001b[0m8.695    \u001b[0m | \u001b[0m2.233    \u001b[0m | \u001b[0m965.3    \u001b[0m | \u001b[0m14.88    \u001b[0m | \u001b[0m1.0      \u001b[0m |\n",
            "| \u001b[0m38       \u001b[0m | \u001b[0m-39.04   \u001b[0m | \u001b[0m0.5232   \u001b[0m | \u001b[0m0.1911   \u001b[0m | \u001b[0m4.693    \u001b[0m | \u001b[0m9.534    \u001b[0m | \u001b[0m959.4    \u001b[0m | \u001b[0m14.08    \u001b[0m | \u001b[0m0.6681   \u001b[0m |\n",
            "| \u001b[0m39       \u001b[0m | \u001b[0m-34.42   \u001b[0m | \u001b[0m0.7165   \u001b[0m | \u001b[0m0.107    \u001b[0m | \u001b[0m5.961    \u001b[0m | \u001b[0m8.675    \u001b[0m | \u001b[0m752.6    \u001b[0m | \u001b[0m12.9     \u001b[0m | \u001b[0m0.5966   \u001b[0m |\n",
            "| \u001b[0m40       \u001b[0m | \u001b[0m-35.1    \u001b[0m | \u001b[0m0.8162   \u001b[0m | \u001b[0m0.1532   \u001b[0m | \u001b[0m8.253    \u001b[0m | \u001b[0m6.578    \u001b[0m | \u001b[0m754.5    \u001b[0m | \u001b[0m8.69     \u001b[0m | \u001b[0m0.9746   \u001b[0m |\n",
            "| \u001b[0m41       \u001b[0m | \u001b[0m-38.26   \u001b[0m | \u001b[0m0.5      \u001b[0m | \u001b[0m0.2      \u001b[0m | \u001b[0m5.636    \u001b[0m | \u001b[0m2.472    \u001b[0m | \u001b[0m750.3    \u001b[0m | \u001b[0m7.212    \u001b[0m | \u001b[0m0.5      \u001b[0m |\n",
            "| \u001b[0m42       \u001b[0m | \u001b[0m-33.76   \u001b[0m | \u001b[0m0.8162   \u001b[0m | \u001b[0m0.09946  \u001b[0m | \u001b[0m4.912    \u001b[0m | \u001b[0m5.681    \u001b[0m | \u001b[0m974.6    \u001b[0m | \u001b[0m15.09    \u001b[0m | \u001b[0m0.7932   \u001b[0m |\n",
            "| \u001b[0m43       \u001b[0m | \u001b[0m-34.03   \u001b[0m | \u001b[0m0.8715   \u001b[0m | \u001b[0m0.03632  \u001b[0m | \u001b[0m4.93     \u001b[0m | \u001b[0m5.103    \u001b[0m | \u001b[0m969.5    \u001b[0m | \u001b[0m15.73    \u001b[0m | \u001b[0m0.5528   \u001b[0m |\n",
            "| \u001b[0m44       \u001b[0m | \u001b[0m-67.52   \u001b[0m | \u001b[0m1.0      \u001b[0m | \u001b[0m0.0005   \u001b[0m | \u001b[0m10.0     \u001b[0m | \u001b[0m10.0     \u001b[0m | \u001b[0m957.0    \u001b[0m | \u001b[0m16.0     \u001b[0m | \u001b[0m1.0      \u001b[0m |\n",
            "| \u001b[0m45       \u001b[0m | \u001b[0m-33.91   \u001b[0m | \u001b[0m1.0      \u001b[0m | \u001b[0m0.2      \u001b[0m | \u001b[0m7.159    \u001b[0m | \u001b[0m3.252    \u001b[0m | \u001b[0m754.0    \u001b[0m | \u001b[0m12.36    \u001b[0m | \u001b[0m0.5      \u001b[0m |\n",
            "| \u001b[0m46       \u001b[0m | \u001b[0m-37.02   \u001b[0m | \u001b[0m0.5474   \u001b[0m | \u001b[0m0.06708  \u001b[0m | \u001b[0m9.108    \u001b[0m | \u001b[0m4.851    \u001b[0m | \u001b[0m968.2    \u001b[0m | \u001b[0m10.54    \u001b[0m | \u001b[0m0.517    \u001b[0m |\n",
            "| \u001b[0m47       \u001b[0m | \u001b[0m-37.28   \u001b[0m | \u001b[0m0.592    \u001b[0m | \u001b[0m0.1104   \u001b[0m | \u001b[0m9.791    \u001b[0m | \u001b[0m6.595    \u001b[0m | \u001b[0m746.4    \u001b[0m | \u001b[0m15.29    \u001b[0m | \u001b[0m0.65     \u001b[0m |\n",
            "| \u001b[0m48       \u001b[0m | \u001b[0m-37.7    \u001b[0m | \u001b[0m0.5188   \u001b[0m | \u001b[0m0.1491   \u001b[0m | \u001b[0m9.393    \u001b[0m | \u001b[0m7.214    \u001b[0m | \u001b[0m752.3    \u001b[0m | \u001b[0m11.84    \u001b[0m | \u001b[0m0.7457   \u001b[0m |\n",
            "| \u001b[0m49       \u001b[0m | \u001b[0m-35.96   \u001b[0m | \u001b[0m0.7859   \u001b[0m | \u001b[0m0.1135   \u001b[0m | \u001b[0m3.783    \u001b[0m | \u001b[0m9.521    \u001b[0m | \u001b[0m969.0    \u001b[0m | \u001b[0m15.7     \u001b[0m | \u001b[0m0.5951   \u001b[0m |\n",
            "| \u001b[0m50       \u001b[0m | \u001b[0m-76.65   \u001b[0m | \u001b[0m0.5      \u001b[0m | \u001b[0m0.0005   \u001b[0m | \u001b[0m3.197    \u001b[0m | \u001b[0m10.0     \u001b[0m | \u001b[0m976.0    \u001b[0m | \u001b[0m16.0     \u001b[0m | \u001b[0m1.0      \u001b[0m |\n",
            "| \u001b[0m51       \u001b[0m | \u001b[0m-79.61   \u001b[0m | \u001b[0m0.5      \u001b[0m | \u001b[0m0.0005   \u001b[0m | \u001b[0m6.662    \u001b[0m | \u001b[0m5.267    \u001b[0m | \u001b[0m752.3    \u001b[0m | \u001b[0m15.2     \u001b[0m | \u001b[0m1.0      \u001b[0m |\n",
            "| \u001b[0m52       \u001b[0m | \u001b[0m-35.12   \u001b[0m | \u001b[0m0.9806   \u001b[0m | \u001b[0m0.01487  \u001b[0m | \u001b[0m7.147    \u001b[0m | \u001b[0m2.94     \u001b[0m | \u001b[0m749.3    \u001b[0m | \u001b[0m12.97    \u001b[0m | \u001b[0m0.732    \u001b[0m |\n",
            "| \u001b[0m53       \u001b[0m | \u001b[0m-37.65   \u001b[0m | \u001b[0m0.5191   \u001b[0m | \u001b[0m0.1518   \u001b[0m | \u001b[0m8.741    \u001b[0m | \u001b[0m1.919    \u001b[0m | \u001b[0m753.6    \u001b[0m | \u001b[0m10.32    \u001b[0m | \u001b[0m0.5142   \u001b[0m |\n",
            "| \u001b[0m54       \u001b[0m | \u001b[0m-33.55   \u001b[0m | \u001b[0m0.8238   \u001b[0m | \u001b[0m0.1882   \u001b[0m | \u001b[0m7.547    \u001b[0m | \u001b[0m2.773    \u001b[0m | \u001b[0m964.8    \u001b[0m | \u001b[0m13.71    \u001b[0m | \u001b[0m0.8346   \u001b[0m |\n",
            "| \u001b[0m55       \u001b[0m | \u001b[0m-33.57   \u001b[0m | \u001b[0m0.8382   \u001b[0m | \u001b[0m0.09553  \u001b[0m | \u001b[0m8.463    \u001b[0m | \u001b[0m4.6      \u001b[0m | \u001b[0m752.2    \u001b[0m | \u001b[0m10.97    \u001b[0m | \u001b[0m0.8664   \u001b[0m |\n",
            "| \u001b[0m56       \u001b[0m | \u001b[0m-38.54   \u001b[0m | \u001b[0m0.5668   \u001b[0m | \u001b[0m0.1868   \u001b[0m | \u001b[0m7.517    \u001b[0m | \u001b[0m1.858    \u001b[0m | \u001b[0m751.3    \u001b[0m | \u001b[0m10.95    \u001b[0m | \u001b[0m0.82     \u001b[0m |\n",
            "| \u001b[0m57       \u001b[0m | \u001b[0m-38.5    \u001b[0m | \u001b[0m0.5451   \u001b[0m | \u001b[0m0.1798   \u001b[0m | \u001b[0m7.805    \u001b[0m | \u001b[0m4.422    \u001b[0m | \u001b[0m965.9    \u001b[0m | \u001b[0m12.75    \u001b[0m | \u001b[0m0.5784   \u001b[0m |\n",
            "| \u001b[0m58       \u001b[0m | \u001b[0m-35.24   \u001b[0m | \u001b[0m0.6424   \u001b[0m | \u001b[0m0.03524  \u001b[0m | \u001b[0m5.406    \u001b[0m | \u001b[0m6.558    \u001b[0m | \u001b[0m967.6    \u001b[0m | \u001b[0m15.17    \u001b[0m | \u001b[0m0.8457   \u001b[0m |\n",
            "| \u001b[0m59       \u001b[0m | \u001b[0m-33.52   \u001b[0m | \u001b[0m0.7795   \u001b[0m | \u001b[0m0.07251  \u001b[0m | \u001b[0m9.981    \u001b[0m | \u001b[0m7.746    \u001b[0m | \u001b[0m749.3    \u001b[0m | \u001b[0m15.92    \u001b[0m | \u001b[0m0.8061   \u001b[0m |\n",
            "| \u001b[0m60       \u001b[0m | \u001b[0m-38.34   \u001b[0m | \u001b[0m0.5054   \u001b[0m | \u001b[0m0.1287   \u001b[0m | \u001b[0m8.446    \u001b[0m | \u001b[0m7.47     \u001b[0m | \u001b[0m962.6    \u001b[0m | \u001b[0m14.13    \u001b[0m | \u001b[0m0.9666   \u001b[0m |\n",
            "| \u001b[0m61       \u001b[0m | \u001b[0m-33.37   \u001b[0m | \u001b[0m0.8794   \u001b[0m | \u001b[0m0.108    \u001b[0m | \u001b[0m5.795    \u001b[0m | \u001b[0m4.492    \u001b[0m | \u001b[0m972.2    \u001b[0m | \u001b[0m14.71    \u001b[0m | \u001b[0m0.5751   \u001b[0m |\n",
            "| \u001b[0m62       \u001b[0m | \u001b[0m-32.98   \u001b[0m | \u001b[0m0.8483   \u001b[0m | \u001b[0m0.03913  \u001b[0m | \u001b[0m7.139    \u001b[0m | \u001b[0m6.29     \u001b[0m | \u001b[0m970.6    \u001b[0m | \u001b[0m13.57    \u001b[0m | \u001b[0m0.9663   \u001b[0m |\n",
            "| \u001b[0m63       \u001b[0m | \u001b[0m-35.26   \u001b[0m | \u001b[0m1.0      \u001b[0m | \u001b[0m0.2      \u001b[0m | \u001b[0m4.474    \u001b[0m | \u001b[0m6.879    \u001b[0m | \u001b[0m971.2    \u001b[0m | \u001b[0m13.89    \u001b[0m | \u001b[0m0.5      \u001b[0m |\n",
            "| \u001b[0m64       \u001b[0m | \u001b[0m-33.15   \u001b[0m | \u001b[0m0.8608   \u001b[0m | \u001b[0m0.1758   \u001b[0m | \u001b[0m7.695    \u001b[0m | \u001b[0m3.273    \u001b[0m | \u001b[0m968.8    \u001b[0m | \u001b[0m13.93    \u001b[0m | \u001b[0m0.8728   \u001b[0m |\n",
            "| \u001b[0m65       \u001b[0m | \u001b[0m-68.13   \u001b[0m | \u001b[0m1.0      \u001b[0m | \u001b[0m0.0005   \u001b[0m | \u001b[0m6.312    \u001b[0m | \u001b[0m6.003    \u001b[0m | \u001b[0m973.7    \u001b[0m | \u001b[0m12.42    \u001b[0m | \u001b[0m1.0      \u001b[0m |\n",
            "| \u001b[0m66       \u001b[0m | \u001b[0m-34.15   \u001b[0m | \u001b[0m1.0      \u001b[0m | \u001b[0m0.2      \u001b[0m | \u001b[0m7.088    \u001b[0m | \u001b[0m4.595    \u001b[0m | \u001b[0m754.2    \u001b[0m | \u001b[0m10.19    \u001b[0m | \u001b[0m0.5      \u001b[0m |\n",
            "| \u001b[0m67       \u001b[0m | \u001b[0m-32.71   \u001b[0m | \u001b[0m0.9233   \u001b[0m | \u001b[0m0.03658  \u001b[0m | \u001b[0m9.199    \u001b[0m | \u001b[0m2.073    \u001b[0m | \u001b[0m963.1    \u001b[0m | \u001b[0m13.69    \u001b[0m | \u001b[0m0.6636   \u001b[0m |\n",
            "| \u001b[0m68       \u001b[0m | \u001b[0m-34.56   \u001b[0m | \u001b[0m0.7329   \u001b[0m | \u001b[0m0.1659   \u001b[0m | \u001b[0m6.937    \u001b[0m | \u001b[0m5.086    \u001b[0m | \u001b[0m968.2    \u001b[0m | \u001b[0m14.53    \u001b[0m | \u001b[0m0.8286   \u001b[0m |\n",
            "| \u001b[0m69       \u001b[0m | \u001b[0m-34.6    \u001b[0m | \u001b[0m0.772    \u001b[0m | \u001b[0m0.1676   \u001b[0m | \u001b[0m9.214    \u001b[0m | \u001b[0m4.67     \u001b[0m | \u001b[0m971.9    \u001b[0m | \u001b[0m15.81    \u001b[0m | \u001b[0m0.9221   \u001b[0m |\n",
            "| \u001b[0m70       \u001b[0m | \u001b[0m-37.4    \u001b[0m | \u001b[0m0.5195   \u001b[0m | \u001b[0m0.08872  \u001b[0m | \u001b[0m8.511    \u001b[0m | \u001b[0m9.808    \u001b[0m | \u001b[0m751.0    \u001b[0m | \u001b[0m15.96    \u001b[0m | \u001b[0m0.698    \u001b[0m |\n",
            "| \u001b[0m71       \u001b[0m | \u001b[0m-33.79   \u001b[0m | \u001b[0m0.8786   \u001b[0m | \u001b[0m0.187    \u001b[0m | \u001b[0m8.092    \u001b[0m | \u001b[0m5.055    \u001b[0m | \u001b[0m964.4    \u001b[0m | \u001b[0m15.63    \u001b[0m | \u001b[0m0.5603   \u001b[0m |\n",
            "| \u001b[0m72       \u001b[0m | \u001b[0m-67.39   \u001b[0m | \u001b[0m1.0      \u001b[0m | \u001b[0m0.0005   \u001b[0m | \u001b[0m7.42     \u001b[0m | \u001b[0m2.5      \u001b[0m | \u001b[0m962.9    \u001b[0m | \u001b[0m16.0     \u001b[0m | \u001b[0m1.0      \u001b[0m |\n",
            "| \u001b[0m73       \u001b[0m | \u001b[0m-34.12   \u001b[0m | \u001b[0m0.7202   \u001b[0m | \u001b[0m0.115    \u001b[0m | \u001b[0m6.571    \u001b[0m | \u001b[0m4.09     \u001b[0m | \u001b[0m970.9    \u001b[0m | \u001b[0m14.02    \u001b[0m | \u001b[0m0.6959   \u001b[0m |\n",
            "| \u001b[0m74       \u001b[0m | \u001b[0m-33.6    \u001b[0m | \u001b[0m0.9922   \u001b[0m | \u001b[0m0.2      \u001b[0m | \u001b[0m9.651    \u001b[0m | \u001b[0m2.014    \u001b[0m | \u001b[0m965.2    \u001b[0m | \u001b[0m12.98    \u001b[0m | \u001b[0m0.6215   \u001b[0m |\n",
            "| \u001b[0m75       \u001b[0m | \u001b[0m-35.37   \u001b[0m | \u001b[0m0.7163   \u001b[0m | \u001b[0m0.1963   \u001b[0m | \u001b[0m8.545    \u001b[0m | \u001b[0m5.253    \u001b[0m | \u001b[0m970.3    \u001b[0m | \u001b[0m15.13    \u001b[0m | \u001b[0m0.5396   \u001b[0m |\n",
            "| \u001b[0m76       \u001b[0m | \u001b[0m-35.43   \u001b[0m | \u001b[0m0.6945   \u001b[0m | \u001b[0m0.00876  \u001b[0m | \u001b[0m7.968    \u001b[0m | \u001b[0m6.759    \u001b[0m | \u001b[0m967.1    \u001b[0m | \u001b[0m15.84    \u001b[0m | \u001b[0m0.8251   \u001b[0m |\n",
            "| \u001b[0m77       \u001b[0m | \u001b[0m-38.95   \u001b[0m | \u001b[0m0.5334   \u001b[0m | \u001b[0m0.1903   \u001b[0m | \u001b[0m9.542    \u001b[0m | \u001b[0m2.308    \u001b[0m | \u001b[0m968.7    \u001b[0m | \u001b[0m15.97    \u001b[0m | \u001b[0m0.9936   \u001b[0m |\n",
            "| \u001b[0m78       \u001b[0m | \u001b[0m-38.4    \u001b[0m | \u001b[0m0.5476   \u001b[0m | \u001b[0m0.1731   \u001b[0m | \u001b[0m5.699    \u001b[0m | \u001b[0m8.257    \u001b[0m | \u001b[0m969.9    \u001b[0m | \u001b[0m14.65    \u001b[0m | \u001b[0m0.9175   \u001b[0m |\n",
            "| \u001b[0m79       \u001b[0m | \u001b[0m-34.75   \u001b[0m | \u001b[0m0.7854   \u001b[0m | \u001b[0m0.1969   \u001b[0m | \u001b[0m9.885    \u001b[0m | \u001b[0m3.921    \u001b[0m | \u001b[0m966.9    \u001b[0m | \u001b[0m15.19    \u001b[0m | \u001b[0m0.5423   \u001b[0m |\n",
            "| \u001b[0m80       \u001b[0m | \u001b[0m-34.14   \u001b[0m | \u001b[0m1.0      \u001b[0m | \u001b[0m0.2      \u001b[0m | \u001b[0m9.571    \u001b[0m | \u001b[0m4.743    \u001b[0m | \u001b[0m755.0    \u001b[0m | \u001b[0m11.24    \u001b[0m | \u001b[0m0.5      \u001b[0m |\n",
            "| \u001b[0m81       \u001b[0m | \u001b[0m-33.16   \u001b[0m | \u001b[0m1.0      \u001b[0m | \u001b[0m0.2      \u001b[0m | \u001b[0m10.0     \u001b[0m | \u001b[0m4.988    \u001b[0m | \u001b[0m749.1    \u001b[0m | \u001b[0m13.9     \u001b[0m | \u001b[0m0.5      \u001b[0m |\n",
            "| \u001b[0m82       \u001b[0m | \u001b[0m-33.69   \u001b[0m | \u001b[0m0.8443   \u001b[0m | \u001b[0m0.04186  \u001b[0m | \u001b[0m7.088    \u001b[0m | \u001b[0m1.371    \u001b[0m | \u001b[0m967.7    \u001b[0m | \u001b[0m12.16    \u001b[0m | \u001b[0m0.7249   \u001b[0m |\n",
            "| \u001b[0m83       \u001b[0m | \u001b[0m-74.35   \u001b[0m | \u001b[0m1.0      \u001b[0m | \u001b[0m0.0005   \u001b[0m | \u001b[0m10.0     \u001b[0m | \u001b[0m4.287    \u001b[0m | \u001b[0m749.4    \u001b[0m | \u001b[0m10.81    \u001b[0m | \u001b[0m0.5      \u001b[0m |\n",
            "| \u001b[0m84       \u001b[0m | \u001b[0m-38.84   \u001b[0m | \u001b[0m0.575    \u001b[0m | \u001b[0m0.1794   \u001b[0m | \u001b[0m9.624    \u001b[0m | \u001b[0m4.5      \u001b[0m | \u001b[0m963.1    \u001b[0m | \u001b[0m12.63    \u001b[0m | \u001b[0m0.6264   \u001b[0m |\n",
            "| \u001b[0m85       \u001b[0m | \u001b[0m-33.6    \u001b[0m | \u001b[0m0.9719   \u001b[0m | \u001b[0m0.1517   \u001b[0m | \u001b[0m7.761    \u001b[0m | \u001b[0m1.27     \u001b[0m | \u001b[0m966.1    \u001b[0m | \u001b[0m13.19    \u001b[0m | \u001b[0m0.5496   \u001b[0m |\n",
            "| \u001b[0m86       \u001b[0m | \u001b[0m-33.49   \u001b[0m | \u001b[0m0.8705   \u001b[0m | \u001b[0m0.04794  \u001b[0m | \u001b[0m5.61     \u001b[0m | \u001b[0m5.463    \u001b[0m | \u001b[0m969.4    \u001b[0m | \u001b[0m12.6     \u001b[0m | \u001b[0m0.8021   \u001b[0m |\n",
            "| \u001b[0m87       \u001b[0m | \u001b[0m-36.79   \u001b[0m | \u001b[0m0.6882   \u001b[0m | \u001b[0m0.008631 \u001b[0m | \u001b[0m4.993    \u001b[0m | \u001b[0m3.554    \u001b[0m | \u001b[0m967.1    \u001b[0m | \u001b[0m12.48    \u001b[0m | \u001b[0m0.9075   \u001b[0m |\n",
            "| \u001b[0m88       \u001b[0m | \u001b[0m-36.76   \u001b[0m | \u001b[0m0.7163   \u001b[0m | \u001b[0m0.1594   \u001b[0m | \u001b[0m4.082    \u001b[0m | \u001b[0m2.873    \u001b[0m | \u001b[0m973.1    \u001b[0m | \u001b[0m15.63    \u001b[0m | \u001b[0m0.7174   \u001b[0m |\n",
            "| \u001b[0m89       \u001b[0m | \u001b[0m-32.76   \u001b[0m | \u001b[0m0.9357   \u001b[0m | \u001b[0m0.08935  \u001b[0m | \u001b[0m8.333    \u001b[0m | \u001b[0m7.204    \u001b[0m | \u001b[0m969.2    \u001b[0m | \u001b[0m12.24    \u001b[0m | \u001b[0m0.8116   \u001b[0m |\n",
            "| \u001b[0m90       \u001b[0m | \u001b[0m-32.83   \u001b[0m | \u001b[0m0.9658   \u001b[0m | \u001b[0m0.1381   \u001b[0m | \u001b[0m9.153    \u001b[0m | \u001b[0m1.494    \u001b[0m | \u001b[0m749.5    \u001b[0m | \u001b[0m15.86    \u001b[0m | \u001b[0m0.7072   \u001b[0m |\n",
            "| \u001b[0m91       \u001b[0m | \u001b[0m-35.36   \u001b[0m | \u001b[0m0.7516   \u001b[0m | \u001b[0m0.1783   \u001b[0m | \u001b[0m5.143    \u001b[0m | \u001b[0m1.623    \u001b[0m | \u001b[0m967.7    \u001b[0m | \u001b[0m14.39    \u001b[0m | \u001b[0m0.7213   \u001b[0m |\n",
            "| \u001b[0m92       \u001b[0m | \u001b[0m-37.28   \u001b[0m | \u001b[0m0.5548   \u001b[0m | \u001b[0m0.1107   \u001b[0m | \u001b[0m4.311    \u001b[0m | \u001b[0m9.455    \u001b[0m | \u001b[0m748.6    \u001b[0m | \u001b[0m14.11    \u001b[0m | \u001b[0m0.8289   \u001b[0m |\n",
            "| \u001b[0m93       \u001b[0m | \u001b[0m-35.37   \u001b[0m | \u001b[0m0.7802   \u001b[0m | \u001b[0m0.1907   \u001b[0m | \u001b[0m8.234    \u001b[0m | \u001b[0m1.204    \u001b[0m | \u001b[0m962.1    \u001b[0m | \u001b[0m11.69    \u001b[0m | \u001b[0m0.9169   \u001b[0m |\n",
            "| \u001b[0m94       \u001b[0m | \u001b[0m-38.77   \u001b[0m | \u001b[0m0.5      \u001b[0m | \u001b[0m0.2      \u001b[0m | \u001b[0m6.762    \u001b[0m | \u001b[0m3.9      \u001b[0m | \u001b[0m974.2    \u001b[0m | \u001b[0m16.0     \u001b[0m | \u001b[0m0.5      \u001b[0m |\n",
            "| \u001b[0m95       \u001b[0m | \u001b[0m-33.43   \u001b[0m | \u001b[0m0.8889   \u001b[0m | \u001b[0m0.02233  \u001b[0m | \u001b[0m9.028    \u001b[0m | \u001b[0m4.956    \u001b[0m | \u001b[0m748.8    \u001b[0m | \u001b[0m15.44    \u001b[0m | \u001b[0m0.8636   \u001b[0m |\n",
            "| \u001b[0m96       \u001b[0m | \u001b[0m-35.14   \u001b[0m | \u001b[0m1.0      \u001b[0m | \u001b[0m0.2      \u001b[0m | \u001b[0m9.687    \u001b[0m | \u001b[0m3.817    \u001b[0m | \u001b[0m755.0    \u001b[0m | \u001b[0m8.2      \u001b[0m | \u001b[0m1.0      \u001b[0m |\n",
            "| \u001b[0m97       \u001b[0m | \u001b[0m-33.83   \u001b[0m | \u001b[0m0.8076   \u001b[0m | \u001b[0m0.1591   \u001b[0m | \u001b[0m5.248    \u001b[0m | \u001b[0m8.618    \u001b[0m | \u001b[0m967.7    \u001b[0m | \u001b[0m12.0     \u001b[0m | \u001b[0m0.5199   \u001b[0m |\n",
            "| \u001b[0m98       \u001b[0m | \u001b[0m-33.58   \u001b[0m | \u001b[0m0.8728   \u001b[0m | \u001b[0m0.09079  \u001b[0m | \u001b[0m7.791    \u001b[0m | \u001b[0m9.705    \u001b[0m | \u001b[0m967.8    \u001b[0m | \u001b[0m11.33    \u001b[0m | \u001b[0m0.929    \u001b[0m |\n",
            "| \u001b[0m99       \u001b[0m | \u001b[0m-34.37   \u001b[0m | \u001b[0m0.6573   \u001b[0m | \u001b[0m0.1244   \u001b[0m | \u001b[0m7.547    \u001b[0m | \u001b[0m8.782    \u001b[0m | \u001b[0m966.3    \u001b[0m | \u001b[0m12.58    \u001b[0m | \u001b[0m0.6359   \u001b[0m |\n",
            "| \u001b[0m100      \u001b[0m | \u001b[0m-37.27   \u001b[0m | \u001b[0m1.0      \u001b[0m | \u001b[0m0.2      \u001b[0m | \u001b[0m3.431    \u001b[0m | \u001b[0m3.693    \u001b[0m | \u001b[0m970.3    \u001b[0m | \u001b[0m13.91    \u001b[0m | \u001b[0m0.5      \u001b[0m |\n",
            "| \u001b[0m101      \u001b[0m | \u001b[0m-33.48   \u001b[0m | \u001b[0m0.9049   \u001b[0m | \u001b[0m0.1481   \u001b[0m | \u001b[0m9.906    \u001b[0m | \u001b[0m8.035    \u001b[0m | \u001b[0m966.1    \u001b[0m | \u001b[0m14.72    \u001b[0m | \u001b[0m0.9698   \u001b[0m |\n",
            "| \u001b[0m102      \u001b[0m | \u001b[0m-33.27   \u001b[0m | \u001b[0m0.8301   \u001b[0m | \u001b[0m0.1401   \u001b[0m | \u001b[0m8.794    \u001b[0m | \u001b[0m9.263    \u001b[0m | \u001b[0m754.9    \u001b[0m | \u001b[0m12.65    \u001b[0m | \u001b[0m0.646    \u001b[0m |\n",
            "| \u001b[0m103      \u001b[0m | \u001b[0m-32.91   \u001b[0m | \u001b[0m0.8213   \u001b[0m | \u001b[0m0.1738   \u001b[0m | \u001b[0m9.687    \u001b[0m | \u001b[0m8.716    \u001b[0m | \u001b[0m969.7    \u001b[0m | \u001b[0m14.75    \u001b[0m | \u001b[0m0.6427   \u001b[0m |\n",
            "| \u001b[0m104      \u001b[0m | \u001b[0m-37.32   \u001b[0m | \u001b[0m0.5399   \u001b[0m | \u001b[0m0.07654  \u001b[0m | \u001b[0m5.129    \u001b[0m | \u001b[0m9.991    \u001b[0m | \u001b[0m970.2    \u001b[0m | \u001b[0m11.48    \u001b[0m | \u001b[0m0.9874   \u001b[0m |\n",
            "| \u001b[0m105      \u001b[0m | \u001b[0m-33.99   \u001b[0m | \u001b[0m0.7531   \u001b[0m | \u001b[0m0.08046  \u001b[0m | \u001b[0m9.946    \u001b[0m | \u001b[0m9.466    \u001b[0m | \u001b[0m973.2    \u001b[0m | \u001b[0m15.76    \u001b[0m | \u001b[0m0.6748   \u001b[0m |\n",
            "| \u001b[0m106      \u001b[0m | \u001b[0m-37.06   \u001b[0m | \u001b[0m0.5594   \u001b[0m | \u001b[0m0.1021   \u001b[0m | \u001b[0m7.169    \u001b[0m | \u001b[0m7.209    \u001b[0m | \u001b[0m757.0    \u001b[0m | \u001b[0m11.11    \u001b[0m | \u001b[0m0.9305   \u001b[0m |\n",
            "| \u001b[0m107      \u001b[0m | \u001b[0m-35.71   \u001b[0m | \u001b[0m0.6002   \u001b[0m | \u001b[0m0.1819   \u001b[0m | \u001b[0m5.186    \u001b[0m | \u001b[0m9.765    \u001b[0m | \u001b[0m753.1    \u001b[0m | \u001b[0m9.934    \u001b[0m | \u001b[0m0.511    \u001b[0m |\n",
            "| \u001b[0m108      \u001b[0m | \u001b[0m-34.32   \u001b[0m | \u001b[0m0.6588   \u001b[0m | \u001b[0m0.1024   \u001b[0m | \u001b[0m8.382    \u001b[0m | \u001b[0m4.228    \u001b[0m | \u001b[0m958.1    \u001b[0m | \u001b[0m13.93    \u001b[0m | \u001b[0m0.5198   \u001b[0m |\n",
            "| \u001b[0m109      \u001b[0m | \u001b[0m-38.12   \u001b[0m | \u001b[0m0.5513   \u001b[0m | \u001b[0m0.1636   \u001b[0m | \u001b[0m6.5      \u001b[0m | \u001b[0m5.113    \u001b[0m | \u001b[0m960.2    \u001b[0m | \u001b[0m13.45    \u001b[0m | \u001b[0m0.614    \u001b[0m |\n",
            "| \u001b[0m110      \u001b[0m | \u001b[0m-35.43   \u001b[0m | \u001b[0m0.8288   \u001b[0m | \u001b[0m0.0241   \u001b[0m | \u001b[0m7.082    \u001b[0m | \u001b[0m8.514    \u001b[0m | \u001b[0m966.6    \u001b[0m | \u001b[0m8.647    \u001b[0m | \u001b[0m0.5456   \u001b[0m |\n",
            "=============================================================================================================\n"
          ]
        }
      ]
    },
    {
      "cell_type": "code",
      "source": [
        "BO_lgbm.max"
      ],
      "metadata": {
        "colab": {
          "base_uri": "https://localhost:8080/"
        },
        "id": "CydUCxpKGJH2",
        "outputId": "2a417371-d064-42cc-bad2-ac5ca30446d8"
      },
      "execution_count": 60,
      "outputs": [
        {
          "output_type": "execute_result",
          "data": {
            "text/plain": [
              "{'target': -32.446205973920684,\n",
              " 'params': {'colsample_bytree': 1.0,\n",
              "  'learning_rate': 0.13016169049079573,\n",
              "  'max_depth': 10.0,\n",
              "  'min_child_weight': 9.375976494487535,\n",
              "  'n_estimators': 753.0291692079346,\n",
              "  'num_leaves': 15.52207501839507,\n",
              "  'subsample': 0.5629570300951867}}"
            ]
          },
          "metadata": {},
          "execution_count": 60
        }
      ]
    },
    {
      "cell_type": "code",
      "source": [
        "params = BO_lgbm.max['params']\n",
        "params['max_depth'] = int(round(params['max_depth']))\n",
        "params['n_estimators'] = int(round(params['n_estimators']))\n",
        "params['num_leaves'] = int(round(params['num_leaves']))"
      ],
      "metadata": {
        "id": "JEj9bffnGQW9"
      },
      "execution_count": 61,
      "outputs": []
    },
    {
      "cell_type": "code",
      "source": [
        "final_lgb=lgb.LGBMRegressor(random_state=777, **params)\n",
        "final_lgb.fit(x_train, y_train)\n",
        "finallgb = show_test.copy()\n",
        "finallgb['Life expectancy '] = final_lgb.predict(x_test)"
      ],
      "metadata": {
        "id": "OJHzEz6qGSRV"
      },
      "execution_count": 62,
      "outputs": []
    },
    {
      "cell_type": "code",
      "source": [
        "print('파라미터 조정후 lgb 모델의 Mean_Squared_Error = ', mean_squared_error(life_expect_test['Life expectancy '], finallgb['Life expectancy ']))\n",
        "print('파라미터 조정후 lgb 모델의 RMSE = ',  mean_squared_error(life_expect_test['Life expectancy '], finallgb['Life expectancy '])**0.5)\n",
        "print(\"파라미터 조정후 lgb 모델의 결정계수 =\", r2_score(life_expect_test['Life expectancy '], finallgb['Life expectancy ']))"
      ],
      "metadata": {
        "colab": {
          "base_uri": "https://localhost:8080/"
        },
        "id": "0OpsUH3sGUHT",
        "outputId": "176c49c0-5316-4515-e385-ecd5f235001c"
      },
      "execution_count": 63,
      "outputs": [
        {
          "output_type": "stream",
          "name": "stdout",
          "text": [
            "파라미터 조정후 lgb 모델의 Mean_Squared_Error =  34.734250077182814\n",
            "파라미터 조정후 lgb 모델의 RMSE =  5.893577018855596\n",
            "파라미터 조정후 lgb 모델의 결정계수 = 0.6846970668257805\n"
          ]
        }
      ]
    },
    {
      "cell_type": "markdown",
      "source": [
        "#  GradientBoostingRegressor + BayesianOptimization"
      ],
      "metadata": {
        "id": "6l0N7Vh5GYgX"
      }
    },
    {
      "cell_type": "code",
      "source": [
        "pbounds = { 'learning_rate': (0.0005, 0.2),\n",
        "            'n_estimators': (10, 500),\n",
        "            'max_depth': (3,10),   \n",
        "            'subsample': (0.5,1), \n",
        "            'min_samples_split': (2,5),   \n",
        "            'min_samples_leaf': (1,5)}\n",
        "\n",
        "def gbm_opt(learning_rate, n_estimators, max_depth, subsample, min_samples_split, min_samples_leaf):\n",
        "\n",
        "    params = {\n",
        "        'learning_rate': learning_rate,\n",
        "        'n_estimators' : int(round(n_estimators)),\n",
        "        'max_depth' : int(round(max_depth)),\n",
        "        'subsample': subsample,\n",
        "        'min_samples_split' : int(round(min_samples_split)),\n",
        "        'min_samples_leaf' : int(round(min_samples_leaf))\n",
        "    }\n",
        "    \n",
        "    gbm = GradientBoostingRegressor(**params)\n",
        "    kf = KFold(n_splits = 5 , shuffle = True, random_state=50)\n",
        "    score = cross_val_score(gbm, x_train, y_train, scoring='neg_mean_squared_error', cv = kf, n_jobs=-1)\n",
        "    return np.mean(score)\n",
        "\n",
        "BO_gbm = BayesianOptimization(f = gbm_opt, pbounds = pbounds, random_state=0)    "
      ],
      "metadata": {
        "id": "JJ5Wbs5aGb0n"
      },
      "execution_count": 64,
      "outputs": []
    },
    {
      "cell_type": "code",
      "source": [
        "BO_gbm.maximize(init_points = 10, n_iter = 200)"
      ],
      "metadata": {
        "colab": {
          "base_uri": "https://localhost:8080/"
        },
        "id": "-6PCVzm7GWOO",
        "outputId": "bb6f44b6-37aa-419a-ec98-dcf8f752f0f8"
      },
      "execution_count": null,
      "outputs": [
        {
          "output_type": "stream",
          "name": "stdout",
          "text": [
            "|   iter    |  target   | learni... | max_depth | min_sa... | min_sa... | n_esti... | subsample |\n",
            "-------------------------------------------------------------------------------------------------\n",
            "| \u001b[0m1        \u001b[0m | \u001b[0m-26.82   \u001b[0m | \u001b[0m0.11     \u001b[0m | \u001b[0m8.006    \u001b[0m | \u001b[0m3.411    \u001b[0m | \u001b[0m3.635    \u001b[0m | \u001b[0m217.6    \u001b[0m | \u001b[0m0.8229   \u001b[0m |\n",
            "| \u001b[95m2        \u001b[0m | \u001b[95m-26.57   \u001b[0m | \u001b[95m0.0878   \u001b[0m | \u001b[95m9.242    \u001b[0m | \u001b[95m4.855    \u001b[0m | \u001b[95m3.15     \u001b[0m | \u001b[95m397.9    \u001b[0m | \u001b[95m0.7644   \u001b[0m |\n",
            "| \u001b[0m3        \u001b[0m | \u001b[0m-31.47   \u001b[0m | \u001b[0m0.1138   \u001b[0m | \u001b[0m9.479    \u001b[0m | \u001b[0m1.284    \u001b[0m | \u001b[0m2.261    \u001b[0m | \u001b[0m19.91    \u001b[0m | \u001b[0m0.9163   \u001b[0m |\n",
            "| \u001b[0m4        \u001b[0m | \u001b[0m-26.68   \u001b[0m | \u001b[0m0.1557   \u001b[0m | \u001b[0m9.09     \u001b[0m | \u001b[0m4.914    \u001b[0m | \u001b[0m4.397    \u001b[0m | \u001b[0m236.1    \u001b[0m | \u001b[0m0.8903   \u001b[0m |\n",
            "| \u001b[0m5        \u001b[0m | \u001b[0m-27.17   \u001b[0m | \u001b[0m0.0241   \u001b[0m | \u001b[0m7.479    \u001b[0m | \u001b[0m1.573    \u001b[0m | \u001b[0m4.834    \u001b[0m | \u001b[0m265.7    \u001b[0m | \u001b[0m0.7073   \u001b[0m |\n",
            "| \u001b[0m6        \u001b[0m | \u001b[0m-40.59   \u001b[0m | \u001b[0m0.05328  \u001b[0m | \u001b[0m8.42     \u001b[0m | \u001b[0m2.825    \u001b[0m | \u001b[0m3.705    \u001b[0m | \u001b[0m19.21    \u001b[0m | \u001b[0m0.8088   \u001b[0m |\n",
            "| \u001b[0m7        \u001b[0m | \u001b[0m-26.68   \u001b[0m | \u001b[0m0.1226   \u001b[0m | \u001b[0m7.319    \u001b[0m | \u001b[0m4.775    \u001b[0m | \u001b[0m4.045    \u001b[0m | \u001b[0m186.2    \u001b[0m | \u001b[0m0.7185   \u001b[0m |\n",
            "| \u001b[0m8        \u001b[0m | \u001b[0m-32.27   \u001b[0m | \u001b[0m0.1397   \u001b[0m | \u001b[0m3.422    \u001b[0m | \u001b[0m3.667    \u001b[0m | \u001b[0m4.012    \u001b[0m | \u001b[0m113.1    \u001b[0m | \u001b[0m0.5645   \u001b[0m |\n",
            "| \u001b[95m9        \u001b[0m | \u001b[95m-26.13   \u001b[0m | \u001b[95m0.06343  \u001b[0m | \u001b[95m5.546    \u001b[0m | \u001b[95m3.281    \u001b[0m | \u001b[95m3.316    \u001b[0m | \u001b[95m494.3    \u001b[0m | \u001b[95m0.551    \u001b[0m |\n",
            "| \u001b[0m10       \u001b[0m | \u001b[0m-30.22   \u001b[0m | \u001b[0m0.04217  \u001b[0m | \u001b[0m4.129    \u001b[0m | \u001b[0m3.612    \u001b[0m | \u001b[0m2.76     \u001b[0m | \u001b[0m238.5    \u001b[0m | \u001b[0m0.6222   \u001b[0m |\n",
            "| \u001b[0m11       \u001b[0m | \u001b[0m-27.92   \u001b[0m | \u001b[0m0.02996  \u001b[0m | \u001b[0m6.154    \u001b[0m | \u001b[0m4.96     \u001b[0m | \u001b[0m3.933    \u001b[0m | \u001b[0m495.3    \u001b[0m | \u001b[0m0.5565   \u001b[0m |\n",
            "| \u001b[0m12       \u001b[0m | \u001b[0m-30.8    \u001b[0m | \u001b[0m0.08273  \u001b[0m | \u001b[0m3.669    \u001b[0m | \u001b[0m2.862    \u001b[0m | \u001b[0m2.78     \u001b[0m | \u001b[0m495.8    \u001b[0m | \u001b[0m0.9939   \u001b[0m |\n",
            "| \u001b[95m13       \u001b[0m | \u001b[95m-25.6    \u001b[0m | \u001b[95m0.04888  \u001b[0m | \u001b[95m7.086    \u001b[0m | \u001b[95m3.532    \u001b[0m | \u001b[95m3.729    \u001b[0m | \u001b[95m493.0    \u001b[0m | \u001b[95m0.5      \u001b[0m |\n",
            "| \u001b[0m14       \u001b[0m | \u001b[0m-27.36   \u001b[0m | \u001b[0m0.0773   \u001b[0m | \u001b[0m7.944    \u001b[0m | \u001b[0m1.791    \u001b[0m | \u001b[0m3.162    \u001b[0m | \u001b[0m494.7    \u001b[0m | \u001b[0m0.7358   \u001b[0m |\n",
            "| \u001b[0m15       \u001b[0m | \u001b[0m-28.94   \u001b[0m | \u001b[0m0.1443   \u001b[0m | \u001b[0m4.993    \u001b[0m | \u001b[0m2.075    \u001b[0m | \u001b[0m4.965    \u001b[0m | \u001b[0m491.7    \u001b[0m | \u001b[0m0.561    \u001b[0m |\n",
            "| \u001b[0m16       \u001b[0m | \u001b[0m-27.85   \u001b[0m | \u001b[0m0.1665   \u001b[0m | \u001b[0m5.594    \u001b[0m | \u001b[0m4.501    \u001b[0m | \u001b[0m2.131    \u001b[0m | \u001b[0m491.6    \u001b[0m | \u001b[0m0.6264   \u001b[0m |\n",
            "| \u001b[0m17       \u001b[0m | \u001b[0m-28.48   \u001b[0m | \u001b[0m0.1726   \u001b[0m | \u001b[0m8.907    \u001b[0m | \u001b[0m4.892    \u001b[0m | \u001b[0m2.517    \u001b[0m | \u001b[0m492.9    \u001b[0m | \u001b[0m0.6431   \u001b[0m |\n",
            "| \u001b[95m18       \u001b[0m | \u001b[95m-25.2    \u001b[0m | \u001b[95m0.08235  \u001b[0m | \u001b[95m9.046    \u001b[0m | \u001b[95m3.113    \u001b[0m | \u001b[95m4.824    \u001b[0m | \u001b[95m400.0    \u001b[0m | \u001b[95m0.5      \u001b[0m |\n",
            "| \u001b[0m19       \u001b[0m | \u001b[0m-25.3    \u001b[0m | \u001b[0m0.02163  \u001b[0m | \u001b[0m8.29     \u001b[0m | \u001b[0m3.05     \u001b[0m | \u001b[0m2.283    \u001b[0m | \u001b[0m400.9    \u001b[0m | \u001b[0m0.5988   \u001b[0m |\n",
            "| \u001b[0m20       \u001b[0m | \u001b[0m-26.74   \u001b[0m | \u001b[0m0.03528  \u001b[0m | \u001b[0m5.648    \u001b[0m | \u001b[0m2.841    \u001b[0m | \u001b[0m4.143    \u001b[0m | \u001b[0m400.2    \u001b[0m | \u001b[0m0.6183   \u001b[0m |\n",
            "| \u001b[0m21       \u001b[0m | \u001b[0m-26.63   \u001b[0m | \u001b[0m0.1956   \u001b[0m | \u001b[0m9.294    \u001b[0m | \u001b[0m4.576    \u001b[0m | \u001b[0m4.438    \u001b[0m | \u001b[0m402.6    \u001b[0m | \u001b[0m0.9175   \u001b[0m |\n",
            "| \u001b[0m22       \u001b[0m | \u001b[0m-28.24   \u001b[0m | \u001b[0m0.01443  \u001b[0m | \u001b[0m8.628    \u001b[0m | \u001b[0m1.153    \u001b[0m | \u001b[0m3.091    \u001b[0m | \u001b[0m397.5    \u001b[0m | \u001b[0m0.8339   \u001b[0m |\n",
            "| \u001b[0m23       \u001b[0m | \u001b[0m-81.29   \u001b[0m | \u001b[0m0.0005   \u001b[0m | \u001b[0m8.653    \u001b[0m | \u001b[0m1.0      \u001b[0m | \u001b[0m4.253    \u001b[0m | \u001b[0m402.4    \u001b[0m | \u001b[0m0.5      \u001b[0m |\n",
            "| \u001b[0m24       \u001b[0m | \u001b[0m-25.3    \u001b[0m | \u001b[0m0.06989  \u001b[0m | \u001b[0m5.853    \u001b[0m | \u001b[0m4.169    \u001b[0m | \u001b[0m3.666    \u001b[0m | \u001b[0m493.3    \u001b[0m | \u001b[0m0.8887   \u001b[0m |\n",
            "| \u001b[0m25       \u001b[0m | \u001b[0m-27.97   \u001b[0m | \u001b[0m0.1511   \u001b[0m | \u001b[0m7.63     \u001b[0m | \u001b[0m4.694    \u001b[0m | \u001b[0m2.824    \u001b[0m | \u001b[0m399.3    \u001b[0m | \u001b[0m0.609    \u001b[0m |\n",
            "| \u001b[0m26       \u001b[0m | \u001b[0m-25.39   \u001b[0m | \u001b[0m0.07228  \u001b[0m | \u001b[0m8.14     \u001b[0m | \u001b[0m2.563    \u001b[0m | \u001b[0m4.893    \u001b[0m | \u001b[0m398.2    \u001b[0m | \u001b[0m0.6494   \u001b[0m |\n",
            "| \u001b[0m27       \u001b[0m | \u001b[0m-26.62   \u001b[0m | \u001b[0m0.1002   \u001b[0m | \u001b[0m9.761    \u001b[0m | \u001b[0m4.911    \u001b[0m | \u001b[0m4.345    \u001b[0m | \u001b[0m400.2    \u001b[0m | \u001b[0m0.5745   \u001b[0m |\n",
            "| \u001b[0m28       \u001b[0m | \u001b[0m-84.54   \u001b[0m | \u001b[0m0.0005   \u001b[0m | \u001b[0m5.35     \u001b[0m | \u001b[0m3.888    \u001b[0m | \u001b[0m5.0      \u001b[0m | \u001b[0m397.5    \u001b[0m | \u001b[0m0.5      \u001b[0m |\n",
            "| \u001b[0m29       \u001b[0m | \u001b[0m-25.92   \u001b[0m | \u001b[0m0.03405  \u001b[0m | \u001b[0m7.949    \u001b[0m | \u001b[0m4.974    \u001b[0m | \u001b[0m2.142    \u001b[0m | \u001b[0m401.5    \u001b[0m | \u001b[0m0.9102   \u001b[0m |\n",
            "| \u001b[0m30       \u001b[0m | \u001b[0m-26.75   \u001b[0m | \u001b[0m0.09521  \u001b[0m | \u001b[0m5.405    \u001b[0m | \u001b[0m3.518    \u001b[0m | \u001b[0m2.581    \u001b[0m | \u001b[0m401.8    \u001b[0m | \u001b[0m0.883    \u001b[0m |\n",
            "| \u001b[0m31       \u001b[0m | \u001b[0m-29.0    \u001b[0m | \u001b[0m0.1614   \u001b[0m | \u001b[0m8.249    \u001b[0m | \u001b[0m1.684    \u001b[0m | \u001b[0m2.338    \u001b[0m | \u001b[0m491.3    \u001b[0m | \u001b[0m0.748    \u001b[0m |\n",
            "| \u001b[0m32       \u001b[0m | \u001b[0m-26.66   \u001b[0m | \u001b[0m0.2      \u001b[0m | \u001b[0m7.102    \u001b[0m | \u001b[0m5.0      \u001b[0m | \u001b[0m5.0      \u001b[0m | \u001b[0m490.6    \u001b[0m | \u001b[0m1.0      \u001b[0m |\n",
            "| \u001b[0m33       \u001b[0m | \u001b[0m-26.77   \u001b[0m | \u001b[0m0.1933   \u001b[0m | \u001b[0m9.756    \u001b[0m | \u001b[0m3.211    \u001b[0m | \u001b[0m4.948    \u001b[0m | \u001b[0m396.0    \u001b[0m | \u001b[0m0.8392   \u001b[0m |\n",
            "| \u001b[0m34       \u001b[0m | \u001b[0m-26.34   \u001b[0m | \u001b[0m0.116    \u001b[0m | \u001b[0m9.958    \u001b[0m | \u001b[0m3.141    \u001b[0m | \u001b[0m4.773    \u001b[0m | \u001b[0m490.2    \u001b[0m | \u001b[0m0.5648   \u001b[0m |\n",
            "| \u001b[0m35       \u001b[0m | \u001b[0m-78.79   \u001b[0m | \u001b[0m0.0005   \u001b[0m | \u001b[0m8.528    \u001b[0m | \u001b[0m4.673    \u001b[0m | \u001b[0m2.706    \u001b[0m | \u001b[0m489.1    \u001b[0m | \u001b[0m0.5      \u001b[0m |\n",
            "| \u001b[0m36       \u001b[0m | \u001b[0m-25.3    \u001b[0m | \u001b[0m0.03875  \u001b[0m | \u001b[0m9.804    \u001b[0m | \u001b[0m2.955    \u001b[0m | \u001b[0m4.754    \u001b[0m | \u001b[0m492.8    \u001b[0m | \u001b[0m0.7266   \u001b[0m |\n",
            "| \u001b[0m37       \u001b[0m | \u001b[0m-27.48   \u001b[0m | \u001b[0m0.1223   \u001b[0m | \u001b[0m9.987    \u001b[0m | \u001b[0m2.74     \u001b[0m | \u001b[0m2.304    \u001b[0m | \u001b[0m399.0    \u001b[0m | \u001b[0m0.9311   \u001b[0m |\n",
            "| \u001b[0m38       \u001b[0m | \u001b[0m-26.66   \u001b[0m | \u001b[0m0.2      \u001b[0m | \u001b[0m6.676    \u001b[0m | \u001b[0m5.0      \u001b[0m | \u001b[0m4.702    \u001b[0m | \u001b[0m401.9    \u001b[0m | \u001b[0m1.0      \u001b[0m |\n",
            "| \u001b[0m39       \u001b[0m | \u001b[0m-27.19   \u001b[0m | \u001b[0m0.2      \u001b[0m | \u001b[0m8.779    \u001b[0m | \u001b[0m5.0      \u001b[0m | \u001b[0m5.0      \u001b[0m | \u001b[0m494.3    \u001b[0m | \u001b[0m1.0      \u001b[0m |\n",
            "| \u001b[95m40       \u001b[0m | \u001b[95m-25.05   \u001b[0m | \u001b[95m0.1086   \u001b[0m | \u001b[95m9.155    \u001b[0m | \u001b[95m4.03     \u001b[0m | \u001b[95m2.877    \u001b[0m | \u001b[95m496.0    \u001b[0m | \u001b[95m0.6289   \u001b[0m |\n",
            "| \u001b[0m41       \u001b[0m | \u001b[0m-25.96   \u001b[0m | \u001b[0m0.01508  \u001b[0m | \u001b[0m7.644    \u001b[0m | \u001b[0m2.972    \u001b[0m | \u001b[0m4.447    \u001b[0m | \u001b[0m497.8    \u001b[0m | \u001b[0m0.7535   \u001b[0m |\n",
            "| \u001b[0m42       \u001b[0m | \u001b[0m-29.02   \u001b[0m | \u001b[0m0.167    \u001b[0m | \u001b[0m8.377    \u001b[0m | \u001b[0m1.101    \u001b[0m | \u001b[0m4.845    \u001b[0m | \u001b[0m491.2    \u001b[0m | \u001b[0m0.7601   \u001b[0m |\n",
            "| \u001b[0m43       \u001b[0m | \u001b[0m-29.92   \u001b[0m | \u001b[0m0.1424   \u001b[0m | \u001b[0m9.952    \u001b[0m | \u001b[0m1.404    \u001b[0m | \u001b[0m3.527    \u001b[0m | \u001b[0m497.7    \u001b[0m | \u001b[0m0.8048   \u001b[0m |\n",
            "| \u001b[0m44       \u001b[0m | \u001b[0m-26.97   \u001b[0m | \u001b[0m0.1496   \u001b[0m | \u001b[0m6.113    \u001b[0m | \u001b[0m2.691    \u001b[0m | \u001b[0m2.087    \u001b[0m | \u001b[0m499.6    \u001b[0m | \u001b[0m0.67     \u001b[0m |\n",
            "| \u001b[0m45       \u001b[0m | \u001b[0m-25.62   \u001b[0m | \u001b[0m0.02587  \u001b[0m | \u001b[0m9.093    \u001b[0m | \u001b[0m4.741    \u001b[0m | \u001b[0m3.815    \u001b[0m | \u001b[0m499.4    \u001b[0m | \u001b[0m0.8849   \u001b[0m |\n",
            "| \u001b[0m46       \u001b[0m | \u001b[0m-26.49   \u001b[0m | \u001b[0m0.1384   \u001b[0m | \u001b[0m6.447    \u001b[0m | \u001b[0m4.464    \u001b[0m | \u001b[0m2.051    \u001b[0m | \u001b[0m497.4    \u001b[0m | \u001b[0m0.6143   \u001b[0m |\n",
            "| \u001b[0m47       \u001b[0m | \u001b[0m-28.26   \u001b[0m | \u001b[0m0.08875  \u001b[0m | \u001b[0m5.486    \u001b[0m | \u001b[0m4.861    \u001b[0m | \u001b[0m3.702    \u001b[0m | \u001b[0m499.8    \u001b[0m | \u001b[0m0.6092   \u001b[0m |\n",
            "| \u001b[0m48       \u001b[0m | \u001b[0m-78.42   \u001b[0m | \u001b[0m0.0005   \u001b[0m | \u001b[0m6.156    \u001b[0m | \u001b[0m1.0      \u001b[0m | \u001b[0m5.0      \u001b[0m | \u001b[0m500.0    \u001b[0m | \u001b[0m0.5      \u001b[0m |\n",
            "| \u001b[0m49       \u001b[0m | \u001b[0m-27.79   \u001b[0m | \u001b[0m0.1615   \u001b[0m | \u001b[0m8.35     \u001b[0m | \u001b[0m4.601    \u001b[0m | \u001b[0m2.549    \u001b[0m | \u001b[0m238.7    \u001b[0m | \u001b[0m0.6164   \u001b[0m |\n",
            "| \u001b[0m50       \u001b[0m | \u001b[0m-29.6    \u001b[0m | \u001b[0m0.2      \u001b[0m | \u001b[0m3.908    \u001b[0m | \u001b[0m5.0      \u001b[0m | \u001b[0m5.0      \u001b[0m | \u001b[0m491.2    \u001b[0m | \u001b[0m1.0      \u001b[0m |\n",
            "| \u001b[0m51       \u001b[0m | \u001b[0m-28.8    \u001b[0m | \u001b[0m0.123    \u001b[0m | \u001b[0m7.898    \u001b[0m | \u001b[0m2.051    \u001b[0m | \u001b[0m2.938    \u001b[0m | \u001b[0m235.7    \u001b[0m | \u001b[0m0.8454   \u001b[0m |\n",
            "| \u001b[0m52       \u001b[0m | \u001b[0m-25.31   \u001b[0m | \u001b[0m0.05964  \u001b[0m | \u001b[0m9.82     \u001b[0m | \u001b[0m2.732    \u001b[0m | \u001b[0m4.848    \u001b[0m | \u001b[0m239.6    \u001b[0m | \u001b[0m0.7491   \u001b[0m |\n",
            "| \u001b[0m53       \u001b[0m | \u001b[0m-27.69   \u001b[0m | \u001b[0m0.04843  \u001b[0m | \u001b[0m7.223    \u001b[0m | \u001b[0m1.339    \u001b[0m | \u001b[0m3.797    \u001b[0m | \u001b[0m240.4    \u001b[0m | \u001b[0m0.6039   \u001b[0m |\n",
            "| \u001b[0m54       \u001b[0m | \u001b[0m-90.0    \u001b[0m | \u001b[0m0.0005   \u001b[0m | \u001b[0m7.762    \u001b[0m | \u001b[0m4.585    \u001b[0m | \u001b[0m5.0      \u001b[0m | \u001b[0m241.0    \u001b[0m | \u001b[0m1.0      \u001b[0m |\n",
            "| \u001b[0m55       \u001b[0m | \u001b[0m-29.52   \u001b[0m | \u001b[0m0.02105  \u001b[0m | \u001b[0m9.626    \u001b[0m | \u001b[0m2.073    \u001b[0m | \u001b[0m2.354    \u001b[0m | \u001b[0m239.8    \u001b[0m | \u001b[0m0.9327   \u001b[0m |\n",
            "| \u001b[0m56       \u001b[0m | \u001b[0m-28.81   \u001b[0m | \u001b[0m0.2      \u001b[0m | \u001b[0m10.0     \u001b[0m | \u001b[0m1.548    \u001b[0m | \u001b[0m4.601    \u001b[0m | \u001b[0m237.5    \u001b[0m | \u001b[0m0.5      \u001b[0m |\n",
            "| \u001b[0m57       \u001b[0m | \u001b[0m-26.87   \u001b[0m | \u001b[0m0.04693  \u001b[0m | \u001b[0m6.593    \u001b[0m | \u001b[0m4.617    \u001b[0m | \u001b[0m2.655    \u001b[0m | \u001b[0m234.7    \u001b[0m | \u001b[0m0.8186   \u001b[0m |\n",
            "| \u001b[95m58       \u001b[0m | \u001b[95m-24.27   \u001b[0m | \u001b[95m0.04473  \u001b[0m | \u001b[95m8.853    \u001b[0m | \u001b[95m3.782    \u001b[0m | \u001b[95m4.049    \u001b[0m | \u001b[95m233.3    \u001b[0m | \u001b[95m0.6862   \u001b[0m |\n",
            "| \u001b[0m59       \u001b[0m | \u001b[0m-24.82   \u001b[0m | \u001b[0m0.03737  \u001b[0m | \u001b[0m9.632    \u001b[0m | \u001b[0m4.345    \u001b[0m | \u001b[0m2.233    \u001b[0m | \u001b[0m236.8    \u001b[0m | \u001b[0m0.9261   \u001b[0m |\n",
            "| \u001b[0m60       \u001b[0m | \u001b[0m-26.93   \u001b[0m | \u001b[0m0.1767   \u001b[0m | \u001b[0m9.615    \u001b[0m | \u001b[0m4.799    \u001b[0m | \u001b[0m2.062    \u001b[0m | \u001b[0m231.9    \u001b[0m | \u001b[0m0.8188   \u001b[0m |\n",
            "| \u001b[0m61       \u001b[0m | \u001b[0m-26.15   \u001b[0m | \u001b[0m0.03797  \u001b[0m | \u001b[0m7.077    \u001b[0m | \u001b[0m2.637    \u001b[0m | \u001b[0m2.84     \u001b[0m | \u001b[0m231.9    \u001b[0m | \u001b[0m0.6833   \u001b[0m |\n",
            "| \u001b[0m62       \u001b[0m | \u001b[0m-26.3    \u001b[0m | \u001b[0m0.02265  \u001b[0m | \u001b[0m9.845    \u001b[0m | \u001b[0m2.096    \u001b[0m | \u001b[0m3.991    \u001b[0m | \u001b[0m230.0    \u001b[0m | \u001b[0m0.6133   \u001b[0m |\n",
            "| \u001b[0m63       \u001b[0m | \u001b[0m-26.85   \u001b[0m | \u001b[0m0.1136   \u001b[0m | \u001b[0m7.206    \u001b[0m | \u001b[0m4.65     \u001b[0m | \u001b[0m3.378    \u001b[0m | \u001b[0m229.0    \u001b[0m | \u001b[0m0.9951   \u001b[0m |\n",
            "| \u001b[0m64       \u001b[0m | \u001b[0m-29.79   \u001b[0m | \u001b[0m0.03504  \u001b[0m | \u001b[0m5.076    \u001b[0m | \u001b[0m4.749    \u001b[0m | \u001b[0m4.986    \u001b[0m | \u001b[0m232.7    \u001b[0m | \u001b[0m0.8732   \u001b[0m |\n",
            "| \u001b[0m65       \u001b[0m | \u001b[0m-27.69   \u001b[0m | \u001b[0m0.1045   \u001b[0m | \u001b[0m7.225    \u001b[0m | \u001b[0m1.525    \u001b[0m | \u001b[0m2.382    \u001b[0m | \u001b[0m228.9    \u001b[0m | \u001b[0m0.7295   \u001b[0m |\n",
            "| \u001b[0m66       \u001b[0m | \u001b[0m-26.27   \u001b[0m | \u001b[0m0.1578   \u001b[0m | \u001b[0m9.691    \u001b[0m | \u001b[0m3.866    \u001b[0m | \u001b[0m3.054    \u001b[0m | \u001b[0m227.5    \u001b[0m | \u001b[0m0.6795   \u001b[0m |\n",
            "| \u001b[0m67       \u001b[0m | \u001b[0m-27.28   \u001b[0m | \u001b[0m0.1897   \u001b[0m | \u001b[0m7.088    \u001b[0m | \u001b[0m3.486    \u001b[0m | \u001b[0m4.327    \u001b[0m | \u001b[0m225.4    \u001b[0m | \u001b[0m0.7188   \u001b[0m |\n",
            "| \u001b[0m68       \u001b[0m | \u001b[0m-28.79   \u001b[0m | \u001b[0m0.06523  \u001b[0m | \u001b[0m9.677    \u001b[0m | \u001b[0m1.067    \u001b[0m | \u001b[0m2.751    \u001b[0m | \u001b[0m233.1    \u001b[0m | \u001b[0m0.8432   \u001b[0m |\n",
            "| \u001b[0m69       \u001b[0m | \u001b[0m-29.43   \u001b[0m | \u001b[0m0.04336  \u001b[0m | \u001b[0m8.662    \u001b[0m | \u001b[0m1.025    \u001b[0m | \u001b[0m4.658    \u001b[0m | \u001b[0m227.3    \u001b[0m | \u001b[0m0.8667   \u001b[0m |\n",
            "| \u001b[0m70       \u001b[0m | \u001b[0m-28.82   \u001b[0m | \u001b[0m0.1654   \u001b[0m | \u001b[0m4.69     \u001b[0m | \u001b[0m3.212    \u001b[0m | \u001b[0m3.994    \u001b[0m | \u001b[0m228.1    \u001b[0m | \u001b[0m0.899    \u001b[0m |\n",
            "| \u001b[0m71       \u001b[0m | \u001b[0m-52.64   \u001b[0m | \u001b[0m0.002845 \u001b[0m | \u001b[0m8.139    \u001b[0m | \u001b[0m3.466    \u001b[0m | \u001b[0m4.077    \u001b[0m | \u001b[0m221.2    \u001b[0m | \u001b[0m0.8836   \u001b[0m |\n",
            "| \u001b[0m72       \u001b[0m | \u001b[0m-26.11   \u001b[0m | \u001b[0m0.09132  \u001b[0m | \u001b[0m8.628    \u001b[0m | \u001b[0m4.246    \u001b[0m | \u001b[0m4.908    \u001b[0m | \u001b[0m230.6    \u001b[0m | \u001b[0m0.9987   \u001b[0m |\n",
            "| \u001b[0m73       \u001b[0m | \u001b[0m-91.12   \u001b[0m | \u001b[0m0.0005   \u001b[0m | \u001b[0m7.226    \u001b[0m | \u001b[0m1.0      \u001b[0m | \u001b[0m5.0      \u001b[0m | \u001b[0m231.0    \u001b[0m | \u001b[0m1.0      \u001b[0m |\n",
            "| \u001b[0m74       \u001b[0m | \u001b[0m-25.83   \u001b[0m | \u001b[0m0.1405   \u001b[0m | \u001b[0m8.426    \u001b[0m | \u001b[0m3.212    \u001b[0m | \u001b[0m2.182    \u001b[0m | \u001b[0m232.9    \u001b[0m | \u001b[0m0.6652   \u001b[0m |\n",
            "| \u001b[0m75       \u001b[0m | \u001b[0m-25.64   \u001b[0m | \u001b[0m0.2      \u001b[0m | \u001b[0m9.708    \u001b[0m | \u001b[0m4.192    \u001b[0m | \u001b[0m2.745    \u001b[0m | \u001b[0m229.8    \u001b[0m | \u001b[0m0.8927   \u001b[0m |\n",
            "| \u001b[0m76       \u001b[0m | \u001b[0m-25.56   \u001b[0m | \u001b[0m0.1208   \u001b[0m | \u001b[0m7.136    \u001b[0m | \u001b[0m4.167    \u001b[0m | \u001b[0m2.033    \u001b[0m | \u001b[0m231.5    \u001b[0m | \u001b[0m0.9034   \u001b[0m |\n",
            "| \u001b[0m77       \u001b[0m | \u001b[0m-26.48   \u001b[0m | \u001b[0m0.09073  \u001b[0m | \u001b[0m7.064    \u001b[0m | \u001b[0m4.29     \u001b[0m | \u001b[0m2.958    \u001b[0m | \u001b[0m215.0    \u001b[0m | \u001b[0m0.5011   \u001b[0m |\n",
            "| \u001b[0m78       \u001b[0m | \u001b[0m-27.45   \u001b[0m | \u001b[0m0.1371   \u001b[0m | \u001b[0m9.473    \u001b[0m | \u001b[0m2.796    \u001b[0m | \u001b[0m4.04     \u001b[0m | \u001b[0m214.6    \u001b[0m | \u001b[0m0.852    \u001b[0m |\n",
            "| \u001b[0m79       \u001b[0m | \u001b[0m-26.12   \u001b[0m | \u001b[0m0.2      \u001b[0m | \u001b[0m10.0     \u001b[0m | \u001b[0m4.478    \u001b[0m | \u001b[0m5.0      \u001b[0m | \u001b[0m497.1    \u001b[0m | \u001b[0m1.0      \u001b[0m |\n",
            "| \u001b[0m80       \u001b[0m | \u001b[0m-30.74   \u001b[0m | \u001b[0m0.2      \u001b[0m | \u001b[0m7.033    \u001b[0m | \u001b[0m1.223    \u001b[0m | \u001b[0m2.714    \u001b[0m | \u001b[0m215.7    \u001b[0m | \u001b[0m1.0      \u001b[0m |\n",
            "| \u001b[0m81       \u001b[0m | \u001b[0m-31.29   \u001b[0m | \u001b[0m0.115    \u001b[0m | \u001b[0m3.464    \u001b[0m | \u001b[0m3.242    \u001b[0m | \u001b[0m2.019    \u001b[0m | \u001b[0m233.5    \u001b[0m | \u001b[0m0.7169   \u001b[0m |\n",
            "| \u001b[0m82       \u001b[0m | \u001b[0m-27.61   \u001b[0m | \u001b[0m0.1621   \u001b[0m | \u001b[0m8.843    \u001b[0m | \u001b[0m3.339    \u001b[0m | \u001b[0m2.007    \u001b[0m | \u001b[0m498.6    \u001b[0m | \u001b[0m0.5839   \u001b[0m |\n",
            "| \u001b[0m83       \u001b[0m | \u001b[0m-30.88   \u001b[0m | \u001b[0m0.2      \u001b[0m | \u001b[0m6.394    \u001b[0m | \u001b[0m1.0      \u001b[0m | \u001b[0m2.0      \u001b[0m | \u001b[0m238.4    \u001b[0m | \u001b[0m0.5      \u001b[0m |\n",
            "| \u001b[0m84       \u001b[0m | \u001b[0m-29.98   \u001b[0m | \u001b[0m0.1634   \u001b[0m | \u001b[0m7.937    \u001b[0m | \u001b[0m1.016    \u001b[0m | \u001b[0m2.009    \u001b[0m | \u001b[0m225.5    \u001b[0m | \u001b[0m0.8588   \u001b[0m |\n",
            "| \u001b[0m85       \u001b[0m | \u001b[0m-91.66   \u001b[0m | \u001b[0m0.0005   \u001b[0m | \u001b[0m7.83     \u001b[0m | \u001b[0m5.0      \u001b[0m | \u001b[0m5.0      \u001b[0m | \u001b[0m212.7    \u001b[0m | \u001b[0m1.0      \u001b[0m |\n",
            "| \u001b[0m86       \u001b[0m | \u001b[0m-26.46   \u001b[0m | \u001b[0m0.07067  \u001b[0m | \u001b[0m9.873    \u001b[0m | \u001b[0m3.31     \u001b[0m | \u001b[0m2.527    \u001b[0m | \u001b[0m216.4    \u001b[0m | \u001b[0m0.9149   \u001b[0m |\n",
            "| \u001b[0m87       \u001b[0m | \u001b[0m-31.94   \u001b[0m | \u001b[0m0.2      \u001b[0m | \u001b[0m5.478    \u001b[0m | \u001b[0m4.531    \u001b[0m | \u001b[0m2.0      \u001b[0m | \u001b[0m216.9    \u001b[0m | \u001b[0m0.5      \u001b[0m |\n",
            "| \u001b[0m88       \u001b[0m | \u001b[0m-26.45   \u001b[0m | \u001b[0m0.02285  \u001b[0m | \u001b[0m8.628    \u001b[0m | \u001b[0m1.729    \u001b[0m | \u001b[0m4.453    \u001b[0m | \u001b[0m186.7    \u001b[0m | \u001b[0m0.6594   \u001b[0m |\n",
            "| \u001b[95m89       \u001b[0m | \u001b[95m-24.12   \u001b[0m | \u001b[95m0.05053  \u001b[0m | \u001b[95m9.773    \u001b[0m | \u001b[95m4.384    \u001b[0m | \u001b[95m4.597    \u001b[0m | \u001b[95m188.4    \u001b[0m | \u001b[95m0.7231   \u001b[0m |\n",
            "| \u001b[0m90       \u001b[0m | \u001b[0m-24.91   \u001b[0m | \u001b[0m0.1082   \u001b[0m | \u001b[0m7.493    \u001b[0m | \u001b[0m3.69     \u001b[0m | \u001b[0m3.803    \u001b[0m | \u001b[0m189.0    \u001b[0m | \u001b[0m0.9162   \u001b[0m |\n",
            "| \u001b[0m91       \u001b[0m | \u001b[0m-29.15   \u001b[0m | \u001b[0m0.2      \u001b[0m | \u001b[0m9.558    \u001b[0m | \u001b[0m1.821    \u001b[0m | \u001b[0m5.0      \u001b[0m | \u001b[0m190.0    \u001b[0m | \u001b[0m0.5      \u001b[0m |\n",
            "| \u001b[0m92       \u001b[0m | \u001b[0m-27.09   \u001b[0m | \u001b[0m0.2      \u001b[0m | \u001b[0m9.455    \u001b[0m | \u001b[0m3.583    \u001b[0m | \u001b[0m2.0      \u001b[0m | \u001b[0m187.4    \u001b[0m | \u001b[0m1.0      \u001b[0m |\n",
            "| \u001b[0m93       \u001b[0m | \u001b[0m-28.56   \u001b[0m | \u001b[0m0.137    \u001b[0m | \u001b[0m5.006    \u001b[0m | \u001b[0m1.893    \u001b[0m | \u001b[0m3.581    \u001b[0m | \u001b[0m187.8    \u001b[0m | \u001b[0m0.679    \u001b[0m |\n",
            "| \u001b[0m94       \u001b[0m | \u001b[0m-92.48   \u001b[0m | \u001b[0m0.0005   \u001b[0m | \u001b[0m5.758    \u001b[0m | \u001b[0m4.854    \u001b[0m | \u001b[0m2.0      \u001b[0m | \u001b[0m226.4    \u001b[0m | \u001b[0m0.5      \u001b[0m |\n",
            "| \u001b[0m95       \u001b[0m | \u001b[0m-26.07   \u001b[0m | \u001b[0m0.1899   \u001b[0m | \u001b[0m9.497    \u001b[0m | \u001b[0m4.242    \u001b[0m | \u001b[0m4.334    \u001b[0m | \u001b[0m184.6    \u001b[0m | \u001b[0m0.78     \u001b[0m |\n",
            "| \u001b[0m96       \u001b[0m | \u001b[0m-25.89   \u001b[0m | \u001b[0m0.04396  \u001b[0m | \u001b[0m7.599    \u001b[0m | \u001b[0m2.765    \u001b[0m | \u001b[0m2.503    \u001b[0m | \u001b[0m184.8    \u001b[0m | \u001b[0m0.5529   \u001b[0m |\n",
            "| \u001b[0m97       \u001b[0m | \u001b[0m-30.67   \u001b[0m | \u001b[0m0.2      \u001b[0m | \u001b[0m6.252    \u001b[0m | \u001b[0m2.301    \u001b[0m | \u001b[0m5.0      \u001b[0m | \u001b[0m184.4    \u001b[0m | \u001b[0m1.0      \u001b[0m |\n",
            "| \u001b[0m98       \u001b[0m | \u001b[0m-27.58   \u001b[0m | \u001b[0m0.1748   \u001b[0m | \u001b[0m8.46     \u001b[0m | \u001b[0m4.719    \u001b[0m | \u001b[0m2.599    \u001b[0m | \u001b[0m190.8    \u001b[0m | \u001b[0m0.5555   \u001b[0m |\n",
            "| \u001b[0m99       \u001b[0m | \u001b[0m-94.56   \u001b[0m | \u001b[0m0.0005   \u001b[0m | \u001b[0m5.844    \u001b[0m | \u001b[0m5.0      \u001b[0m | \u001b[0m2.0      \u001b[0m | \u001b[0m188.1    \u001b[0m | \u001b[0m0.5      \u001b[0m |\n",
            "| \u001b[0m100      \u001b[0m | \u001b[0m-27.74   \u001b[0m | \u001b[0m0.1092   \u001b[0m | \u001b[0m9.759    \u001b[0m | \u001b[0m2.92     \u001b[0m | \u001b[0m2.288    \u001b[0m | \u001b[0m190.0    \u001b[0m | \u001b[0m0.9015   \u001b[0m |\n",
            "| \u001b[0m101      \u001b[0m | \u001b[0m-28.83   \u001b[0m | \u001b[0m0.03099  \u001b[0m | \u001b[0m6.943    \u001b[0m | \u001b[0m1.319    \u001b[0m | \u001b[0m4.494    \u001b[0m | \u001b[0m189.3    \u001b[0m | \u001b[0m0.8168   \u001b[0m |\n",
            "| \u001b[0m102      \u001b[0m | \u001b[0m-26.49   \u001b[0m | \u001b[0m0.2      \u001b[0m | \u001b[0m8.442    \u001b[0m | \u001b[0m4.276    \u001b[0m | \u001b[0m5.0      \u001b[0m | \u001b[0m191.0    \u001b[0m | \u001b[0m1.0      \u001b[0m |\n",
            "| \u001b[0m103      \u001b[0m | \u001b[0m-32.3    \u001b[0m | \u001b[0m0.2      \u001b[0m | \u001b[0m10.0     \u001b[0m | \u001b[0m1.456    \u001b[0m | \u001b[0m2.26     \u001b[0m | \u001b[0m184.9    \u001b[0m | \u001b[0m1.0      \u001b[0m |\n",
            "| \u001b[0m104      \u001b[0m | \u001b[0m-50.17   \u001b[0m | \u001b[0m0.004029 \u001b[0m | \u001b[0m7.721    \u001b[0m | \u001b[0m4.546    \u001b[0m | \u001b[0m2.939    \u001b[0m | \u001b[0m182.6    \u001b[0m | \u001b[0m0.618    \u001b[0m |\n",
            "| \u001b[0m105      \u001b[0m | \u001b[0m-30.8    \u001b[0m | \u001b[0m0.2      \u001b[0m | \u001b[0m7.83     \u001b[0m | \u001b[0m2.311    \u001b[0m | \u001b[0m3.248    \u001b[0m | \u001b[0m192.5    \u001b[0m | \u001b[0m1.0      \u001b[0m |\n",
            "| \u001b[0m106      \u001b[0m | \u001b[0m-26.68   \u001b[0m | \u001b[0m0.06229  \u001b[0m | \u001b[0m9.785    \u001b[0m | \u001b[0m1.714    \u001b[0m | \u001b[0m2.064    \u001b[0m | \u001b[0m227.8    \u001b[0m | \u001b[0m0.7348   \u001b[0m |\n",
            "| \u001b[0m107      \u001b[0m | \u001b[0m-25.25   \u001b[0m | \u001b[0m0.1237   \u001b[0m | \u001b[0m8.74     \u001b[0m | \u001b[0m3.824    \u001b[0m | \u001b[0m4.97     \u001b[0m | \u001b[0m227.4    \u001b[0m | \u001b[0m0.9543   \u001b[0m |\n",
            "| \u001b[0m108      \u001b[0m | \u001b[0m-28.38   \u001b[0m | \u001b[0m0.1134   \u001b[0m | \u001b[0m5.91     \u001b[0m | \u001b[0m1.813    \u001b[0m | \u001b[0m4.95     \u001b[0m | \u001b[0m262.8    \u001b[0m | \u001b[0m0.7389   \u001b[0m |\n",
            "| \u001b[0m109      \u001b[0m | \u001b[0m-31.52   \u001b[0m | \u001b[0m0.2      \u001b[0m | \u001b[0m5.777    \u001b[0m | \u001b[0m1.009    \u001b[0m | \u001b[0m5.0      \u001b[0m | \u001b[0m225.5    \u001b[0m | \u001b[0m1.0      \u001b[0m |\n",
            "| \u001b[0m110      \u001b[0m | \u001b[0m-33.85   \u001b[0m | \u001b[0m0.2      \u001b[0m | \u001b[0m3.0      \u001b[0m | \u001b[0m5.0      \u001b[0m | \u001b[0m2.0      \u001b[0m | \u001b[0m493.2    \u001b[0m | \u001b[0m0.5      \u001b[0m |\n",
            "| \u001b[0m111      \u001b[0m | \u001b[0m-26.78   \u001b[0m | \u001b[0m0.2      \u001b[0m | \u001b[0m10.0     \u001b[0m | \u001b[0m2.673    \u001b[0m | \u001b[0m5.0      \u001b[0m | \u001b[0m225.3    \u001b[0m | \u001b[0m0.5      \u001b[0m |\n",
            "| \u001b[0m112      \u001b[0m | \u001b[0m-29.52   \u001b[0m | \u001b[0m0.03133  \u001b[0m | \u001b[0m4.576    \u001b[0m | \u001b[0m2.93     \u001b[0m | \u001b[0m4.138    \u001b[0m | \u001b[0m265.8    \u001b[0m | \u001b[0m0.8518   \u001b[0m |\n",
            "| \u001b[0m113      \u001b[0m | \u001b[0m-26.62   \u001b[0m | \u001b[0m0.1448   \u001b[0m | \u001b[0m7.869    \u001b[0m | \u001b[0m4.787    \u001b[0m | \u001b[0m4.923    \u001b[0m | \u001b[0m264.0    \u001b[0m | \u001b[0m0.6685   \u001b[0m |\n",
            "| \u001b[0m114      \u001b[0m | \u001b[0m-28.64   \u001b[0m | \u001b[0m0.01764  \u001b[0m | \u001b[0m7.521    \u001b[0m | \u001b[0m2.978    \u001b[0m | \u001b[0m2.354    \u001b[0m | \u001b[0m264.1    \u001b[0m | \u001b[0m0.9418   \u001b[0m |\n",
            "| \u001b[0m115      \u001b[0m | \u001b[0m-28.26   \u001b[0m | \u001b[0m0.2      \u001b[0m | \u001b[0m9.443    \u001b[0m | \u001b[0m2.173    \u001b[0m | \u001b[0m5.0      \u001b[0m | \u001b[0m263.1    \u001b[0m | \u001b[0m0.5      \u001b[0m |\n",
            "| \u001b[0m116      \u001b[0m | \u001b[0m-24.98   \u001b[0m | \u001b[0m0.06888  \u001b[0m | \u001b[0m9.971    \u001b[0m | \u001b[0m3.556    \u001b[0m | \u001b[0m4.749    \u001b[0m | \u001b[0m266.5    \u001b[0m | \u001b[0m0.9353   \u001b[0m |\n",
            "| \u001b[0m117      \u001b[0m | \u001b[0m-24.84   \u001b[0m | \u001b[0m0.1546   \u001b[0m | \u001b[0m7.937    \u001b[0m | \u001b[0m4.441    \u001b[0m | \u001b[0m4.135    \u001b[0m | \u001b[0m267.4    \u001b[0m | \u001b[0m0.9815   \u001b[0m |\n",
            "| \u001b[0m118      \u001b[0m | \u001b[0m-27.14   \u001b[0m | \u001b[0m0.1455   \u001b[0m | \u001b[0m9.094    \u001b[0m | \u001b[0m3.155    \u001b[0m | \u001b[0m2.058    \u001b[0m | \u001b[0m267.6    \u001b[0m | \u001b[0m0.8755   \u001b[0m |\n",
            "| \u001b[0m119      \u001b[0m | \u001b[0m-26.32   \u001b[0m | \u001b[0m0.03254  \u001b[0m | \u001b[0m8.78     \u001b[0m | \u001b[0m2.152    \u001b[0m | \u001b[0m4.952    \u001b[0m | \u001b[0m268.9    \u001b[0m | \u001b[0m0.5      \u001b[0m |\n",
            "| \u001b[0m120      \u001b[0m | \u001b[0m-26.56   \u001b[0m | \u001b[0m0.02141  \u001b[0m | \u001b[0m9.38     \u001b[0m | \u001b[0m4.661    \u001b[0m | \u001b[0m3.874    \u001b[0m | \u001b[0m270.6    \u001b[0m | \u001b[0m0.8778   \u001b[0m |\n",
            "| \u001b[0m121      \u001b[0m | \u001b[0m-26.44   \u001b[0m | \u001b[0m0.1359   \u001b[0m | \u001b[0m6.61     \u001b[0m | \u001b[0m4.087    \u001b[0m | \u001b[0m3.524    \u001b[0m | \u001b[0m270.1    \u001b[0m | \u001b[0m0.757    \u001b[0m |\n",
            "| \u001b[0m122      \u001b[0m | \u001b[0m-31.42   \u001b[0m | \u001b[0m0.2      \u001b[0m | \u001b[0m8.537    \u001b[0m | \u001b[0m1.91     \u001b[0m | \u001b[0m2.285    \u001b[0m | \u001b[0m270.7    \u001b[0m | \u001b[0m1.0      \u001b[0m |\n",
            "| \u001b[0m123      \u001b[0m | \u001b[0m-27.35   \u001b[0m | \u001b[0m0.03634  \u001b[0m | \u001b[0m6.032    \u001b[0m | \u001b[0m3.355    \u001b[0m | \u001b[0m2.151    \u001b[0m | \u001b[0m267.4    \u001b[0m | \u001b[0m0.805    \u001b[0m |\n",
            "| \u001b[0m124      \u001b[0m | \u001b[0m-30.66   \u001b[0m | \u001b[0m0.2      \u001b[0m | \u001b[0m5.628    \u001b[0m | \u001b[0m1.812    \u001b[0m | \u001b[0m5.0      \u001b[0m | \u001b[0m268.8    \u001b[0m | \u001b[0m0.5      \u001b[0m |\n",
            "| \u001b[0m125      \u001b[0m | \u001b[0m-25.64   \u001b[0m | \u001b[0m0.0921   \u001b[0m | \u001b[0m7.961    \u001b[0m | \u001b[0m3.17     \u001b[0m | \u001b[0m4.973    \u001b[0m | \u001b[0m272.9    \u001b[0m | \u001b[0m0.5946   \u001b[0m |\n",
            "| \u001b[0m126      \u001b[0m | \u001b[0m-28.98   \u001b[0m | \u001b[0m0.05729  \u001b[0m | \u001b[0m9.59     \u001b[0m | \u001b[0m1.12     \u001b[0m | \u001b[0m4.717    \u001b[0m | \u001b[0m216.6    \u001b[0m | \u001b[0m0.8589   \u001b[0m |\n",
            "| \u001b[0m127      \u001b[0m | \u001b[0m-29.47   \u001b[0m | \u001b[0m0.1118   \u001b[0m | \u001b[0m9.751    \u001b[0m | \u001b[0m1.215    \u001b[0m | \u001b[0m3.091    \u001b[0m | \u001b[0m265.3    \u001b[0m | \u001b[0m0.7967   \u001b[0m |\n",
            "| \u001b[0m128      \u001b[0m | \u001b[0m-26.49   \u001b[0m | \u001b[0m0.1998   \u001b[0m | \u001b[0m8.054    \u001b[0m | \u001b[0m4.466    \u001b[0m | \u001b[0m2.071    \u001b[0m | \u001b[0m273.6    \u001b[0m | \u001b[0m0.8451   \u001b[0m |\n",
            "| \u001b[0m129      \u001b[0m | \u001b[0m-88.86   \u001b[0m | \u001b[0m0.0005   \u001b[0m | \u001b[0m5.718    \u001b[0m | \u001b[0m5.0      \u001b[0m | \u001b[0m4.185    \u001b[0m | \u001b[0m273.2    \u001b[0m | \u001b[0m1.0      \u001b[0m |\n",
            "| \u001b[0m130      \u001b[0m | \u001b[0m-25.99   \u001b[0m | \u001b[0m0.1306   \u001b[0m | \u001b[0m9.532    \u001b[0m | \u001b[0m2.337    \u001b[0m | \u001b[0m3.807    \u001b[0m | \u001b[0m273.7    \u001b[0m | \u001b[0m0.6676   \u001b[0m |\n",
            "| \u001b[0m131      \u001b[0m | \u001b[0m-88.28   \u001b[0m | \u001b[0m0.0005   \u001b[0m | \u001b[0m8.716    \u001b[0m | \u001b[0m1.0      \u001b[0m | \u001b[0m5.0      \u001b[0m | \u001b[0m271.9    \u001b[0m | \u001b[0m0.5      \u001b[0m |\n",
            "| \u001b[0m132      \u001b[0m | \u001b[0m-25.02   \u001b[0m | \u001b[0m0.04589  \u001b[0m | \u001b[0m9.636    \u001b[0m | \u001b[0m3.71     \u001b[0m | \u001b[0m3.926    \u001b[0m | \u001b[0m275.2    \u001b[0m | \u001b[0m0.5182   \u001b[0m |\n",
            "| \u001b[0m133      \u001b[0m | \u001b[0m-26.17   \u001b[0m | \u001b[0m0.134    \u001b[0m | \u001b[0m7.972    \u001b[0m | \u001b[0m4.912    \u001b[0m | \u001b[0m3.794    \u001b[0m | \u001b[0m497.2    \u001b[0m | \u001b[0m0.7158   \u001b[0m |\n",
            "| \u001b[0m134      \u001b[0m | \u001b[0m-27.26   \u001b[0m | \u001b[0m0.2      \u001b[0m | \u001b[0m10.0     \u001b[0m | \u001b[0m4.403    \u001b[0m | \u001b[0m3.336    \u001b[0m | \u001b[0m273.1    \u001b[0m | \u001b[0m0.5      \u001b[0m |\n",
            "| \u001b[0m135      \u001b[0m | \u001b[0m-25.54   \u001b[0m | \u001b[0m0.1895   \u001b[0m | \u001b[0m9.313    \u001b[0m | \u001b[0m3.914    \u001b[0m | \u001b[0m4.513    \u001b[0m | \u001b[0m186.5    \u001b[0m | \u001b[0m0.7529   \u001b[0m |\n",
            "| \u001b[0m136      \u001b[0m | \u001b[0m-26.0    \u001b[0m | \u001b[0m0.1411   \u001b[0m | \u001b[0m9.798    \u001b[0m | \u001b[0m4.314    \u001b[0m | \u001b[0m2.574    \u001b[0m | \u001b[0m264.6    \u001b[0m | \u001b[0m0.9934   \u001b[0m |\n",
            "| \u001b[0m137      \u001b[0m | \u001b[0m-26.52   \u001b[0m | \u001b[0m0.1513   \u001b[0m | \u001b[0m8.327    \u001b[0m | \u001b[0m2.834    \u001b[0m | \u001b[0m2.222    \u001b[0m | \u001b[0m275.5    \u001b[0m | \u001b[0m0.7861   \u001b[0m |\n",
            "| \u001b[0m138      \u001b[0m | \u001b[0m-31.54   \u001b[0m | \u001b[0m0.2      \u001b[0m | \u001b[0m5.539    \u001b[0m | \u001b[0m1.417    \u001b[0m | \u001b[0m2.0      \u001b[0m | \u001b[0m492.7    \u001b[0m | \u001b[0m1.0      \u001b[0m |\n",
            "| \u001b[0m139      \u001b[0m | \u001b[0m-88.42   \u001b[0m | \u001b[0m0.0005   \u001b[0m | \u001b[0m9.197    \u001b[0m | \u001b[0m4.639    \u001b[0m | \u001b[0m3.393    \u001b[0m | \u001b[0m261.8    \u001b[0m | \u001b[0m1.0      \u001b[0m |\n",
            "| \u001b[0m140      \u001b[0m | \u001b[0m-25.28   \u001b[0m | \u001b[0m0.1803   \u001b[0m | \u001b[0m7.587    \u001b[0m | \u001b[0m3.507    \u001b[0m | \u001b[0m3.709    \u001b[0m | \u001b[0m266.0    \u001b[0m | \u001b[0m0.7872   \u001b[0m |\n",
            "| \u001b[0m141      \u001b[0m | \u001b[0m-25.58   \u001b[0m | \u001b[0m0.1381   \u001b[0m | \u001b[0m9.037    \u001b[0m | \u001b[0m4.797    \u001b[0m | \u001b[0m2.048    \u001b[0m | \u001b[0m269.3    \u001b[0m | \u001b[0m0.6502   \u001b[0m |\n",
            "| \u001b[0m142      \u001b[0m | \u001b[0m-25.55   \u001b[0m | \u001b[0m0.04233  \u001b[0m | \u001b[0m9.678    \u001b[0m | \u001b[0m2.912    \u001b[0m | \u001b[0m2.518    \u001b[0m | \u001b[0m394.9    \u001b[0m | \u001b[0m0.7698   \u001b[0m |\n",
            "| \u001b[0m143      \u001b[0m | \u001b[0m-30.71   \u001b[0m | \u001b[0m0.2      \u001b[0m | \u001b[0m6.068    \u001b[0m | \u001b[0m5.0      \u001b[0m | \u001b[0m5.0      \u001b[0m | \u001b[0m265.7    \u001b[0m | \u001b[0m0.5      \u001b[0m |\n",
            "| \u001b[0m144      \u001b[0m | \u001b[0m-32.94   \u001b[0m | \u001b[0m0.2      \u001b[0m | \u001b[0m10.0     \u001b[0m | \u001b[0m1.0      \u001b[0m | \u001b[0m4.312    \u001b[0m | \u001b[0m394.2    \u001b[0m | \u001b[0m1.0      \u001b[0m |\n",
            "| \u001b[0m145      \u001b[0m | \u001b[0m-80.97   \u001b[0m | \u001b[0m0.0005   \u001b[0m | \u001b[0m10.0     \u001b[0m | \u001b[0m5.0      \u001b[0m | \u001b[0m3.736    \u001b[0m | \u001b[0m393.7    \u001b[0m | \u001b[0m1.0      \u001b[0m |\n",
            "| \u001b[0m146      \u001b[0m | \u001b[0m-29.26   \u001b[0m | \u001b[0m0.1684   \u001b[0m | \u001b[0m7.422    \u001b[0m | \u001b[0m1.966    \u001b[0m | \u001b[0m3.274    \u001b[0m | \u001b[0m268.2    \u001b[0m | \u001b[0m0.8757   \u001b[0m |\n",
            "| \u001b[0m147      \u001b[0m | \u001b[0m-32.67   \u001b[0m | \u001b[0m0.2      \u001b[0m | \u001b[0m10.0     \u001b[0m | \u001b[0m1.088    \u001b[0m | \u001b[0m2.0      \u001b[0m | \u001b[0m395.8    \u001b[0m | \u001b[0m1.0      \u001b[0m |\n",
            "| \u001b[0m148      \u001b[0m | \u001b[0m-28.82   \u001b[0m | \u001b[0m0.2      \u001b[0m | \u001b[0m10.0     \u001b[0m | \u001b[0m5.0      \u001b[0m | \u001b[0m2.53     \u001b[0m | \u001b[0m234.5    \u001b[0m | \u001b[0m0.5      \u001b[0m |\n",
            "| \u001b[0m149      \u001b[0m | \u001b[0m-31.45   \u001b[0m | \u001b[0m0.1643   \u001b[0m | \u001b[0m3.197    \u001b[0m | \u001b[0m3.638    \u001b[0m | \u001b[0m4.005    \u001b[0m | \u001b[0m402.6    \u001b[0m | \u001b[0m0.6134   \u001b[0m |\n",
            "| \u001b[0m150      \u001b[0m | \u001b[0m-93.59   \u001b[0m | \u001b[0m0.0005   \u001b[0m | \u001b[0m10.0     \u001b[0m | \u001b[0m5.0      \u001b[0m | \u001b[0m3.597    \u001b[0m | \u001b[0m193.0    \u001b[0m | \u001b[0m0.5      \u001b[0m |\n",
            "| \u001b[0m151      \u001b[0m | \u001b[0m-28.36   \u001b[0m | \u001b[0m0.1278   \u001b[0m | \u001b[0m8.646    \u001b[0m | \u001b[0m1.198    \u001b[0m | \u001b[0m2.219    \u001b[0m | \u001b[0m188.3    \u001b[0m | \u001b[0m0.7857   \u001b[0m |\n",
            "| \u001b[0m152      \u001b[0m | \u001b[0m-26.0    \u001b[0m | \u001b[0m0.1306   \u001b[0m | \u001b[0m9.636    \u001b[0m | \u001b[0m2.759    \u001b[0m | \u001b[0m4.891    \u001b[0m | \u001b[0m495.5    \u001b[0m | \u001b[0m0.5079   \u001b[0m |\n",
            "| \u001b[0m153      \u001b[0m | \u001b[0m-29.18   \u001b[0m | \u001b[0m0.0896   \u001b[0m | \u001b[0m8.981    \u001b[0m | \u001b[0m1.506    \u001b[0m | \u001b[0m4.864    \u001b[0m | \u001b[0m276.6    \u001b[0m | \u001b[0m0.9222   \u001b[0m |\n",
            "| \u001b[0m154      \u001b[0m | \u001b[0m-26.49   \u001b[0m | \u001b[0m0.0918   \u001b[0m | \u001b[0m7.925    \u001b[0m | \u001b[0m4.798    \u001b[0m | \u001b[0m2.001    \u001b[0m | \u001b[0m266.4    \u001b[0m | \u001b[0m0.8029   \u001b[0m |\n",
            "| \u001b[0m155      \u001b[0m | \u001b[0m-26.72   \u001b[0m | \u001b[0m0.2      \u001b[0m | \u001b[0m6.689    \u001b[0m | \u001b[0m5.0      \u001b[0m | \u001b[0m2.762    \u001b[0m | \u001b[0m404.4    \u001b[0m | \u001b[0m1.0      \u001b[0m |\n",
            "| \u001b[0m156      \u001b[0m | \u001b[0m-27.55   \u001b[0m | \u001b[0m0.2      \u001b[0m | \u001b[0m10.0     \u001b[0m | \u001b[0m5.0      \u001b[0m | \u001b[0m2.0      \u001b[0m | \u001b[0m275.9    \u001b[0m | \u001b[0m1.0      \u001b[0m |\n",
            "| \u001b[0m157      \u001b[0m | \u001b[0m-27.22   \u001b[0m | \u001b[0m0.136    \u001b[0m | \u001b[0m9.329    \u001b[0m | \u001b[0m2.515    \u001b[0m | \u001b[0m2.546    \u001b[0m | \u001b[0m278.7    \u001b[0m | \u001b[0m0.7831   \u001b[0m |\n",
            "| \u001b[0m158      \u001b[0m | \u001b[0m-25.47   \u001b[0m | \u001b[0m0.06312  \u001b[0m | \u001b[0m9.69     \u001b[0m | \u001b[0m4.662    \u001b[0m | \u001b[0m4.809    \u001b[0m | \u001b[0m279.6    \u001b[0m | \u001b[0m0.7666   \u001b[0m |\n",
            "| \u001b[0m159      \u001b[0m | \u001b[0m-26.02   \u001b[0m | \u001b[0m0.1468   \u001b[0m | \u001b[0m7.186    \u001b[0m | \u001b[0m3.725    \u001b[0m | \u001b[0m4.8      \u001b[0m | \u001b[0m279.2    \u001b[0m | \u001b[0m0.7512   \u001b[0m |\n",
            "| \u001b[0m160      \u001b[0m | \u001b[0m-26.55   \u001b[0m | \u001b[0m0.1638   \u001b[0m | \u001b[0m8.465    \u001b[0m | \u001b[0m3.804    \u001b[0m | \u001b[0m4.038    \u001b[0m | \u001b[0m282.1    \u001b[0m | \u001b[0m0.7086   \u001b[0m |\n",
            "| \u001b[0m161      \u001b[0m | \u001b[0m-28.03   \u001b[0m | \u001b[0m0.2      \u001b[0m | \u001b[0m8.13     \u001b[0m | \u001b[0m5.0      \u001b[0m | \u001b[0m2.454    \u001b[0m | \u001b[0m279.8    \u001b[0m | \u001b[0m1.0      \u001b[0m |\n",
            "| \u001b[0m162      \u001b[0m | \u001b[0m-87.66   \u001b[0m | \u001b[0m0.0005   \u001b[0m | \u001b[0m9.201    \u001b[0m | \u001b[0m1.884    \u001b[0m | \u001b[0m5.0      \u001b[0m | \u001b[0m280.3    \u001b[0m | \u001b[0m1.0      \u001b[0m |\n",
            "| \u001b[0m163      \u001b[0m | \u001b[0m-26.4    \u001b[0m | \u001b[0m0.06818  \u001b[0m | \u001b[0m7.518    \u001b[0m | \u001b[0m4.722    \u001b[0m | \u001b[0m3.751    \u001b[0m | \u001b[0m277.6    \u001b[0m | \u001b[0m0.7952   \u001b[0m |\n",
            "| \u001b[0m164      \u001b[0m | \u001b[0m-27.5    \u001b[0m | \u001b[0m0.2      \u001b[0m | \u001b[0m10.0     \u001b[0m | \u001b[0m5.0      \u001b[0m | \u001b[0m3.018    \u001b[0m | \u001b[0m266.9    \u001b[0m | \u001b[0m1.0      \u001b[0m |\n",
            "| \u001b[0m165      \u001b[0m | \u001b[0m-29.28   \u001b[0m | \u001b[0m0.2      \u001b[0m | \u001b[0m6.42     \u001b[0m | \u001b[0m5.0      \u001b[0m | \u001b[0m4.34     \u001b[0m | \u001b[0m281.2    \u001b[0m | \u001b[0m0.5      \u001b[0m |\n",
            "| \u001b[0m166      \u001b[0m | \u001b[0m-31.2    \u001b[0m | \u001b[0m0.2      \u001b[0m | \u001b[0m10.0     \u001b[0m | \u001b[0m2.109    \u001b[0m | \u001b[0m2.0      \u001b[0m | \u001b[0m230.7    \u001b[0m | \u001b[0m1.0      \u001b[0m |\n",
            "| \u001b[0m167      \u001b[0m | \u001b[0m-26.62   \u001b[0m | \u001b[0m0.1815   \u001b[0m | \u001b[0m9.574    \u001b[0m | \u001b[0m4.995    \u001b[0m | \u001b[0m2.481    \u001b[0m | \u001b[0m282.4    \u001b[0m | \u001b[0m0.801    \u001b[0m |\n",
            "| \u001b[0m168      \u001b[0m | \u001b[0m-27.0    \u001b[0m | \u001b[0m0.02267  \u001b[0m | \u001b[0m8.122    \u001b[0m | \u001b[0m4.984    \u001b[0m | \u001b[0m4.592    \u001b[0m | \u001b[0m284.4    \u001b[0m | \u001b[0m0.714    \u001b[0m |\n",
            "| \u001b[0m169      \u001b[0m | \u001b[0m-28.39   \u001b[0m | \u001b[0m0.2      \u001b[0m | \u001b[0m6.64     \u001b[0m | \u001b[0m2.871    \u001b[0m | \u001b[0m2.0      \u001b[0m | \u001b[0m278.2    \u001b[0m | \u001b[0m0.5      \u001b[0m |\n",
            "| \u001b[0m170      \u001b[0m | \u001b[0m-25.75   \u001b[0m | \u001b[0m0.1549   \u001b[0m | \u001b[0m7.839    \u001b[0m | \u001b[0m3.673    \u001b[0m | \u001b[0m2.014    \u001b[0m | \u001b[0m284.8    \u001b[0m | \u001b[0m0.8373   \u001b[0m |\n",
            "| \u001b[0m171      \u001b[0m | \u001b[0m-29.4    \u001b[0m | \u001b[0m0.2      \u001b[0m | \u001b[0m10.0     \u001b[0m | \u001b[0m5.0      \u001b[0m | \u001b[0m3.099    \u001b[0m | \u001b[0m278.2    \u001b[0m | \u001b[0m0.5      \u001b[0m |\n",
            "| \u001b[0m172      \u001b[0m | \u001b[0m-26.65   \u001b[0m | \u001b[0m0.1889   \u001b[0m | \u001b[0m6.239    \u001b[0m | \u001b[0m4.258    \u001b[0m | \u001b[0m3.119    \u001b[0m | \u001b[0m283.4    \u001b[0m | \u001b[0m0.6491   \u001b[0m |\n",
            "| \u001b[0m173      \u001b[0m | \u001b[0m-29.36   \u001b[0m | \u001b[0m0.2      \u001b[0m | \u001b[0m10.0     \u001b[0m | \u001b[0m1.058    \u001b[0m | \u001b[0m2.0      \u001b[0m | \u001b[0m214.6    \u001b[0m | \u001b[0m0.5      \u001b[0m |\n",
            "| \u001b[0m174      \u001b[0m | \u001b[0m-25.81   \u001b[0m | \u001b[0m0.1209   \u001b[0m | \u001b[0m7.769    \u001b[0m | \u001b[0m2.599    \u001b[0m | \u001b[0m4.487    \u001b[0m | \u001b[0m285.9    \u001b[0m | \u001b[0m0.5624   \u001b[0m |\n",
            "| \u001b[0m175      \u001b[0m | \u001b[0m-25.98   \u001b[0m | \u001b[0m0.06796  \u001b[0m | \u001b[0m6.394    \u001b[0m | \u001b[0m3.658    \u001b[0m | \u001b[0m2.51     \u001b[0m | \u001b[0m287.3    \u001b[0m | \u001b[0m0.7832   \u001b[0m |\n",
            "| \u001b[0m176      \u001b[0m | \u001b[0m-28.83   \u001b[0m | \u001b[0m0.01683  \u001b[0m | \u001b[0m5.834    \u001b[0m | \u001b[0m1.513    \u001b[0m | \u001b[0m2.286    \u001b[0m | \u001b[0m285.8    \u001b[0m | \u001b[0m0.6865   \u001b[0m |\n",
            "| \u001b[0m177      \u001b[0m | \u001b[0m-24.98   \u001b[0m | \u001b[0m0.03561  \u001b[0m | \u001b[0m9.323    \u001b[0m | \u001b[0m4.282    \u001b[0m | \u001b[0m3.415    \u001b[0m | \u001b[0m287.6    \u001b[0m | \u001b[0m0.6962   \u001b[0m |\n",
            "| \u001b[0m178      \u001b[0m | \u001b[0m-27.93   \u001b[0m | \u001b[0m0.02025  \u001b[0m | \u001b[0m7.06     \u001b[0m | \u001b[0m4.65     \u001b[0m | \u001b[0m4.952    \u001b[0m | \u001b[0m287.2    \u001b[0m | \u001b[0m0.7808   \u001b[0m |\n",
            "| \u001b[0m179      \u001b[0m | \u001b[0m-26.54   \u001b[0m | \u001b[0m0.06785  \u001b[0m | \u001b[0m7.628    \u001b[0m | \u001b[0m1.978    \u001b[0m | \u001b[0m3.493    \u001b[0m | \u001b[0m288.8    \u001b[0m | \u001b[0m0.6567   \u001b[0m |\n",
            "| \u001b[0m180      \u001b[0m | \u001b[0m-26.59   \u001b[0m | \u001b[0m0.03209  \u001b[0m | \u001b[0m7.959    \u001b[0m | \u001b[0m4.537    \u001b[0m | \u001b[0m2.081    \u001b[0m | \u001b[0m290.2    \u001b[0m | \u001b[0m0.794    \u001b[0m |\n",
            "| \u001b[0m181      \u001b[0m | \u001b[0m-30.43   \u001b[0m | \u001b[0m0.1958   \u001b[0m | \u001b[0m9.271    \u001b[0m | \u001b[0m1.341    \u001b[0m | \u001b[0m2.275    \u001b[0m | \u001b[0m287.5    \u001b[0m | \u001b[0m0.9087   \u001b[0m |\n",
            "| \u001b[0m182      \u001b[0m | \u001b[0m-87.57   \u001b[0m | \u001b[0m0.0005   \u001b[0m | \u001b[0m5.738    \u001b[0m | \u001b[0m3.99     \u001b[0m | \u001b[0m4.013    \u001b[0m | \u001b[0m290.0    \u001b[0m | \u001b[0m1.0      \u001b[0m |\n",
            "| \u001b[0m183      \u001b[0m | \u001b[0m-30.53   \u001b[0m | \u001b[0m0.1188   \u001b[0m | \u001b[0m9.935    \u001b[0m | \u001b[0m2.034    \u001b[0m | \u001b[0m4.522    \u001b[0m | \u001b[0m397.6    \u001b[0m | \u001b[0m0.9501   \u001b[0m |\n",
            "| \u001b[0m184      \u001b[0m | \u001b[0m-26.43   \u001b[0m | \u001b[0m0.08908  \u001b[0m | \u001b[0m9.997    \u001b[0m | \u001b[0m4.543    \u001b[0m | \u001b[0m2.415    \u001b[0m | \u001b[0m291.4    \u001b[0m | \u001b[0m0.609    \u001b[0m |\n",
            "| \u001b[0m185      \u001b[0m | \u001b[0m-26.97   \u001b[0m | \u001b[0m0.05863  \u001b[0m | \u001b[0m5.033    \u001b[0m | \u001b[0m3.518    \u001b[0m | \u001b[0m4.763    \u001b[0m | \u001b[0m285.4    \u001b[0m | \u001b[0m0.933    \u001b[0m |\n",
            "| \u001b[0m186      \u001b[0m | \u001b[0m-28.4    \u001b[0m | \u001b[0m0.132    \u001b[0m | \u001b[0m9.812    \u001b[0m | \u001b[0m3.018    \u001b[0m | \u001b[0m3.778    \u001b[0m | \u001b[0m285.1    \u001b[0m | \u001b[0m0.9049   \u001b[0m |\n",
            "| \u001b[0m187      \u001b[0m | \u001b[0m-25.87   \u001b[0m | \u001b[0m0.06055  \u001b[0m | \u001b[0m9.711    \u001b[0m | \u001b[0m1.76     \u001b[0m | \u001b[0m3.379    \u001b[0m | \u001b[0m290.0    \u001b[0m | \u001b[0m0.5628   \u001b[0m |\n",
            "| \u001b[0m188      \u001b[0m | \u001b[0m-31.04   \u001b[0m | \u001b[0m0.2      \u001b[0m | \u001b[0m5.687    \u001b[0m | \u001b[0m1.0      \u001b[0m | \u001b[0m2.0      \u001b[0m | \u001b[0m265.0    \u001b[0m | \u001b[0m0.5      \u001b[0m |\n",
            "| \u001b[0m189      \u001b[0m | \u001b[0m-30.82   \u001b[0m | \u001b[0m0.2      \u001b[0m | \u001b[0m6.596    \u001b[0m | \u001b[0m1.0      \u001b[0m | \u001b[0m2.814    \u001b[0m | \u001b[0m185.9    \u001b[0m | \u001b[0m1.0      \u001b[0m |\n",
            "| \u001b[0m190      \u001b[0m | \u001b[0m-28.75   \u001b[0m | \u001b[0m0.03832  \u001b[0m | \u001b[0m4.888    \u001b[0m | \u001b[0m4.362    \u001b[0m | \u001b[0m2.211    \u001b[0m | \u001b[0m285.5    \u001b[0m | \u001b[0m0.5833   \u001b[0m |\n",
            "| \u001b[0m191      \u001b[0m | \u001b[0m-26.15   \u001b[0m | \u001b[0m0.1731   \u001b[0m | \u001b[0m9.783    \u001b[0m | \u001b[0m3.759    \u001b[0m | \u001b[0m2.219    \u001b[0m | \u001b[0m288.9    \u001b[0m | \u001b[0m0.5423   \u001b[0m |\n",
            "| \u001b[0m192      \u001b[0m | \u001b[0m-26.66   \u001b[0m | \u001b[0m0.1131   \u001b[0m | \u001b[0m9.998    \u001b[0m | \u001b[0m1.662    \u001b[0m | \u001b[0m4.87     \u001b[0m | \u001b[0m287.2    \u001b[0m | \u001b[0m0.653    \u001b[0m |\n",
            "| \u001b[0m193      \u001b[0m | \u001b[0m-27.36   \u001b[0m | \u001b[0m0.0572   \u001b[0m | \u001b[0m4.579    \u001b[0m | \u001b[0m4.216    \u001b[0m | \u001b[0m4.46     \u001b[0m | \u001b[0m278.4    \u001b[0m | \u001b[0m0.6861   \u001b[0m |\n",
            "| \u001b[0m194      \u001b[0m | \u001b[0m-28.83   \u001b[0m | \u001b[0m0.2      \u001b[0m | \u001b[0m9.864    \u001b[0m | \u001b[0m1.79     \u001b[0m | \u001b[0m2.0      \u001b[0m | \u001b[0m292.7    \u001b[0m | \u001b[0m0.5      \u001b[0m |\n",
            "| \u001b[0m195      \u001b[0m | \u001b[0m-31.8    \u001b[0m | \u001b[0m0.1628   \u001b[0m | \u001b[0m3.486    \u001b[0m | \u001b[0m2.513    \u001b[0m | \u001b[0m3.242    \u001b[0m | \u001b[0m280.1    \u001b[0m | \u001b[0m0.5497   \u001b[0m |\n",
            "| \u001b[0m196      \u001b[0m | \u001b[0m-29.53   \u001b[0m | \u001b[0m0.2      \u001b[0m | \u001b[0m10.0     \u001b[0m | \u001b[0m5.0      \u001b[0m | \u001b[0m2.0      \u001b[0m | \u001b[0m285.7    \u001b[0m | \u001b[0m0.5      \u001b[0m |\n",
            "| \u001b[0m197      \u001b[0m | \u001b[0m-30.35   \u001b[0m | \u001b[0m0.2      \u001b[0m | \u001b[0m10.0     \u001b[0m | \u001b[0m1.101    \u001b[0m | \u001b[0m2.0      \u001b[0m | \u001b[0m276.3    \u001b[0m | \u001b[0m0.5      \u001b[0m |\n",
            "| \u001b[0m198      \u001b[0m | \u001b[0m-30.01   \u001b[0m | \u001b[0m0.2      \u001b[0m | \u001b[0m6.079    \u001b[0m | \u001b[0m3.288    \u001b[0m | \u001b[0m5.0      \u001b[0m | \u001b[0m191.1    \u001b[0m | \u001b[0m1.0      \u001b[0m |\n",
            "| \u001b[0m199      \u001b[0m | \u001b[0m-26.91   \u001b[0m | \u001b[0m0.1296   \u001b[0m | \u001b[0m6.182    \u001b[0m | \u001b[0m4.632    \u001b[0m | \u001b[0m4.363    \u001b[0m | \u001b[0m407.2    \u001b[0m | \u001b[0m0.9401   \u001b[0m |\n",
            "| \u001b[0m200      \u001b[0m | \u001b[0m-84.47   \u001b[0m | \u001b[0m0.0005   \u001b[0m | \u001b[0m4.121    \u001b[0m | \u001b[0m5.0      \u001b[0m | \u001b[0m2.355    \u001b[0m | \u001b[0m406.1    \u001b[0m | \u001b[0m1.0      \u001b[0m |\n",
            "| \u001b[0m201      \u001b[0m | \u001b[0m-25.76   \u001b[0m | \u001b[0m0.03139  \u001b[0m | \u001b[0m8.369    \u001b[0m | \u001b[0m4.391    \u001b[0m | \u001b[0m4.318    \u001b[0m | \u001b[0m407.7    \u001b[0m | \u001b[0m0.5475   \u001b[0m |\n"
          ]
        }
      ]
    },
    {
      "cell_type": "code",
      "source": [
        "BO_gbm.max"
      ],
      "metadata": {
        "id": "5eWIGG6DGiyz"
      },
      "execution_count": null,
      "outputs": []
    },
    {
      "cell_type": "code",
      "source": [
        "params = BO_gbm.max['params']\n",
        "params['max_depth'] = int(round(params['max_depth']))\n",
        "params['n_estimators'] = int(round(params['n_estimators']))\n",
        "params['min_samples_leaf'] = int(round(params['min_samples_leaf']))\n",
        "params['min_samples_split'] = int(round(params['min_samples_split']))"
      ],
      "metadata": {
        "id": "1B2ELWPVGnyn"
      },
      "execution_count": null,
      "outputs": []
    },
    {
      "cell_type": "code",
      "source": [
        "gbm = GradientBoostingRegressor(random_state = 777, **params)\n",
        "gbm.fit(x_train, y_train)\n",
        "finalgbm = show_test.copy()\n",
        "finalgbm['Life expectancy '] = gbm.predict(x_test)"
      ],
      "metadata": {
        "id": "0sFZXwggGoNV"
      },
      "execution_count": null,
      "outputs": []
    },
    {
      "cell_type": "code",
      "source": [
        "print('파라미터 조정후 lgb 모델의 Mean_Squared_Error = ', mean_squared_error(life_expect_test['Life expectancy '], finalgbm['Life expectancy ']))\n",
        "print('파라미터 조정후 lgb 모델의 RMSE = ',  mean_squared_error(life_expect_test['Life expectancy '], finalgbm['Life expectancy '])**0.5)\n",
        "print(\"파라미터 조정후 lgb 모델의 결정계수 =\", r2_score(life_expect_test['Life expectancy '], finalgbm['Life expectancy ']))"
      ],
      "metadata": {
        "id": "30VwcOPDGznb"
      },
      "execution_count": null,
      "outputs": []
    },
    {
      "cell_type": "code",
      "source": [
        "finalgbm"
      ],
      "metadata": {
        "id": "WB2IoSDhILCq"
      },
      "execution_count": null,
      "outputs": []
    },
    {
      "cell_type": "code",
      "source": [
        "print(gbm)\n",
        "print(final_lgb)\n",
        "print(final_xgb)\n",
        "print(model_rf)"
      ],
      "metadata": {
        "id": "QrigjA9IIMpq"
      },
      "execution_count": null,
      "outputs": []
    },
    {
      "cell_type": "code",
      "source": [
        "final_model= show_test.copy()"
      ],
      "metadata": {
        "id": "wz8yHqgrIQu6"
      },
      "execution_count": null,
      "outputs": []
    },
    {
      "cell_type": "code",
      "source": [
        "final_model['num_off_box']=(gbm.predict(x_test)+final_lgb.predict(x_test)+final_xgb.predict(x_test)+model_rf.predict(x_test))/4"
      ],
      "metadata": {
        "id": "uv0RaUWJIRL-"
      },
      "execution_count": null,
      "outputs": []
    },
    {
      "cell_type": "code",
      "source": [
        "final_model.info()"
      ],
      "metadata": {
        "id": "IptsCpNDITqj"
      },
      "execution_count": null,
      "outputs": []
    },
    {
      "cell_type": "code",
      "source": [
        "print('최종 모델의 Mean_Squared_Error = ', mean_squared_error(life_expect_test['Life expectancy '], life_expect_test['Life expectancy ']))\n",
        "print('최종 모델의 RMSE = ',  mean_squared_error(life_expect_test['Life expectancy '], life_expect_test['Life expectancy '])**0.5)\n",
        "print(\"최종 모델의 결정계수 =\", r2_score(life_expect_test['Life expectancy '], life_expect_test['Life expectancy ']))"
      ],
      "metadata": {
        "id": "SO-Z9XLIIU-3"
      },
      "execution_count": null,
      "outputs": []
    },
    {
      "cell_type": "code",
      "source": [
        "final_model"
      ],
      "metadata": {
        "id": "juXVPEUwJw9q"
      },
      "execution_count": null,
      "outputs": []
    }
  ],
  "metadata": {
    "colab": {
      "provenance": [],
      "mount_file_id": "1n0PYo3sW9ssF6EpMAzBvzLEGtjfubQJv",
      "authorship_tag": "ABX9TyOH4ih9QHlFJXGJ5bqFnWSQ",
      "include_colab_link": true
    },
    "kernelspec": {
      "display_name": "Python 3",
      "name": "python3"
    },
    "language_info": {
      "name": "python"
    },
    "accelerator": "GPU"
  },
  "nbformat": 4,
  "nbformat_minor": 0
}